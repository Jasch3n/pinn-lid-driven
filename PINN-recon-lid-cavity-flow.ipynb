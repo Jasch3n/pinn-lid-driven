{
 "cells": [
  {
   "cell_type": "code",
   "execution_count": 1,
   "id": "703531f5-e059-4025-91b7-fd12c39d19ff",
   "metadata": {},
   "outputs": [],
   "source": [
    "import torch\n",
    "import torch.nn as nn\n",
    "import matplotlib.pyplot as plt\n",
    "from scipy.io import loadmat\n",
    "import numpy as np\n",
    "from torch.nn.functional import mse_loss\n",
    "from tqdm import tqdm"
   ]
  },
  {
   "cell_type": "code",
   "execution_count": 2,
   "id": "374cde36-1035-4b02-8a9a-cb8a6e363928",
   "metadata": {},
   "outputs": [],
   "source": [
    "# my_func = lambda x,y: torch.square(x*torch.log(torch.cosh(y))) + torch.sin(x+y)\n",
    "# x = torch.linspace(0,5,300, requires_grad=True) \n",
    "# y = torch.linspace(0,5,300, requires_grad=True) \n",
    "# xg, yg = torch.meshgrid(x,y,indexing='xy')\n",
    "# u = my_func(xg,yg)\n",
    "# u_x = torch.autograd.grad(u,xg,grad_outputs=torch.ones_like(u), retain_graph=True, create_graph=True)[0]\n",
    "# u_y = torch.autograd.grad(u,yg,grad_outputs=torch.ones_like(u), retain_graph=True, create_graph=True)[0]\n",
    "# u_xx = torch.autograd.grad(u_x,xg,grad_outputs=torch.ones_like(u), retain_graph=True)[0]\n",
    "# u_yy = torch.autograd.grad(u_y,xg,grad_outputs=torch.ones_like(u), retain_graph=False)[0]\n",
    "\n",
    "\n",
    "# u_xc, u_yc, u_xxc, u_yyc = compute_partials(u.detach().numpy(), x[1].item()-x[0].item())\n",
    "\n",
    "# fig, axs = plt.subplots(2,2)\n",
    "\n",
    "# axs[0,0].imshow(u_x.detach().numpy(), vmin=torch.min(u_x), vmax=torch.max(u_x))\n",
    "# axs[0,1].imshow(u_xc, vmin=torch.min(u_x), vmax=torch.max(u_x))\n",
    "# axs[1,0].imshow(u_xx.detach().numpy(), vmin=torch.min(u_xx), vmax=torch.max(u_xx))\n",
    "# axs[1,1].imshow(u_xxc, vmin=torch.min(u_xx), vmax=torch.max(u_xx))"
   ]
  },
  {
   "cell_type": "markdown",
   "id": "b5276ec3-8f43-4443-8a2d-222eb9ea3370",
   "metadata": {},
   "source": [
    "## Forward Problem "
   ]
  },
  {
   "cell_type": "code",
   "execution_count": 3,
   "id": "524934d4-7ad4-4475-8775-08b79e1db690",
   "metadata": {},
   "outputs": [],
   "source": [
    "# Load in data\n",
    "p_data = loadmat(\"./Re_100/pressure.mat\")\n",
    "v_data = loadmat(\"./Re_100/velocity.mat\")"
   ]
  },
  {
   "cell_type": "code",
   "execution_count": 4,
   "id": "9308f413-fc6b-402e-a1b0-e1110fb9e206",
   "metadata": {},
   "outputs": [],
   "source": [
    "device = torch.device(\"cuda\") if torch.cuda.is_available() else torch.device(\"cpu\")"
   ]
  },
  {
   "cell_type": "code",
   "execution_count": 5,
   "id": "3ff3fa43-9a9e-4421-be65-ed8965726041",
   "metadata": {},
   "outputs": [],
   "source": [
    "x_train = torch.tensor(p_data[\"x\"][0], requires_grad=True).float().to(device)\n",
    "y_train = torch.tensor(p_data[\"y\"][0], requires_grad=True).float().to(device)\n",
    "pos_train = torch.stack((x_train, y_train)).T\n",
    "\n",
    "p_train = torch.tensor(p_data[\"p\"][0], requires_grad=True).float().to(device)\n",
    "u_train = torch.tensor(v_data[\"u\"][0], requires_grad=True).float().to(device)\n",
    "v_train = torch.tensor(v_data[\"v\"][0], requires_grad=True).float().to(device)\n",
    "sol_train = torch.stack((u_train, v_train, p_train)).T"
   ]
  },
  {
   "cell_type": "code",
   "execution_count": 6,
   "id": "f06f9134-c051-4562-bba8-ba387b8182b6",
   "metadata": {},
   "outputs": [],
   "source": [
    "def create_net(in_dim, out_dim, depth, width, activation=torch.nn.Tanh()):\n",
    "        list_modules = []\n",
    "        for i in range(depth):\n",
    "            if i == 0:\n",
    "                layer = torch.nn.Linear(in_dim, width)\n",
    "                xavier_std = np.sqrt(2 / (in_dim+width))\n",
    "                list_modules.append(layer)\n",
    "                list_modules.append(activation)\n",
    "            elif i==depth-1:\n",
    "                layer = torch.nn.Linear(width, out_dim)\n",
    "                xavier_std = np.sqrt(2 / (width+out_dim))\n",
    "                list_modules.append(layer)\n",
    "            else:\n",
    "                layer = torch.nn.Linear(width, width)\n",
    "                xavier_std = np.sqrt(2 / (width + width))\n",
    "                list_modules.append(layer)\n",
    "                list_modules.append(activation)\n",
    "            torch.nn.init.normal_(layer.weight, mean=0.0, std=xavier_std)\n",
    "        model = torch.nn.Sequential(*list_modules)\n",
    "        return model\n",
    "\n",
    "def grad(output, var, create_graph=True, retain_graph=True):\n",
    "    return torch.autograd.grad(output, var, torch.ones_like(output), create_graph=create_graph, retain_graph=retain_graph)[0]\n",
    "    \n",
    "def compute_gradients(output, x, y, create_graph=True, retain_graph=True):\n",
    "    return grad(output, x, create_graph=create_graph, retain_graph=retain_graph), \\\n",
    "            grad(output, y, create_graph=create_graph, retain_graph=retain_graph)\n",
    "\n",
    "def get_grid(x,y):\n",
    "    xg, yg = torch.meshgrid((x, y), indexing='xy')\n",
    "    xg = xg.flatten().to(device)\n",
    "    yg = yg.flatten().to(device)\n",
    "    return xg, yg\n",
    "    \n",
    "class PINN(nn.Module):\n",
    "    def __init__(self, in_dim, out_dim, data, depth, width, recon=False, recon_num_obs=None, my_lr=0.001, rff_dim=6, sigma=3):\n",
    "        super(PINN, self).__init__()\n",
    "        self.model = create_net(in_dim if rff_dim is None else 2*rff_dim, out_dim, depth, width, activation=torch.nn.SiLU())\n",
    "\n",
    "        # Misc functions\n",
    "        self.sum_square = lambda x: torch.sum(torch.square(x))\n",
    "        self.logcosh_loss = lambda x,y: torch.mean(torch.log(torch.cosh(x - y)))\n",
    "\n",
    "        # Training data\n",
    "        self.data = data\n",
    "        self.pos_train = data[0]\n",
    "        self.sol_train = data[1]\n",
    "        self.rff_dim = rff_dim\n",
    "        if rff_dim:\n",
    "            self.B = sigma*torch.randn((rff_dim, in_dim)).to(device)\n",
    "\n",
    "        # Recon data\n",
    "        self.recon = recon\n",
    "        if recon:\n",
    "            if recon_num_obs is None:\n",
    "                raise Exception(\"Make sure to provide number of observations if network is in reconstruction mode.\")\n",
    "            else:\n",
    "                obs_idx = (self.pos_train[:,0]>=0.2) & (self.pos_train[:,0]<=0.8) & (self.pos_train[:,1]>=0.2) & (self.pos_train[:,1]<=0.8)\n",
    "\n",
    "                self.pos_recon = pos_train[obs_idx, :]\n",
    "                self.sol_recon = sol_train[obs_idx, :]\n",
    "\n",
    "                self.pos_recon = self.pos_recon[torch.randint(0, len(self.pos_recon), (recon_num_obs,))].detach().clone()\n",
    "                self.sol_recon = self.sol_recon[torch.randint(0, len(self.sol_recon), (recon_num_obs,))].detach().clone()\n",
    "\n",
    "        # Self-annealing weights\n",
    "        self.lambda_data = 1. \n",
    "        self.lambda_bc = 1.\n",
    "        self.lambda_pde = 1.\n",
    "        self.optimizer = torch.optim.Adam(self.model.parameters(), lr=my_lr)\n",
    "\n",
    "        # SAMPLE SIZES \n",
    "        self.BC_SAMPLE_SIZE = 50\n",
    "        # self.PDE_R_SAMPLE_SIZE = 20000\n",
    "        self.PDE_R_SAMPLE_SIZE = 5000\n",
    "        self.der_grid_res = 600\n",
    "\n",
    "        # Variables for imposing boundary conditions\n",
    "        self.top_boundary = torch.ones(self.BC_SAMPLE_SIZE).to(device)\n",
    "        self.bot_boundary = torch.zeros(self.BC_SAMPLE_SIZE).to(device)\n",
    "        self.left_boundary = torch.zeros(self.BC_SAMPLE_SIZE).to(device)\n",
    "        self.right_boundary = torch.ones(self.BC_SAMPLE_SIZE).to(device)\n",
    "\n",
    "        # Variables for gradient estimation\n",
    "        self.x_pde, self.y_pde = torch.linspace(0,1,self.der_grid_res).to(device), torch.linspace(0,1,self.der_grid_res).to(device)\n",
    "        self.xg_pde, self.yg_pde = get_grid(self.x_pde,self.y_pde)\n",
    "        self.dr = self.x_pde[1] - self.x_pde[0] # spatial increments\n",
    "\n",
    "        # Initialize losses\n",
    "        self.L_bc = torch.tensor([0.]).float()\n",
    "\n",
    "    def forward(self, x, y):\n",
    "        if not self.rff_dim is None:\n",
    "            pos = torch.stack((x,y))\n",
    "            vp = 2 * torch.pi * self.B@pos\n",
    "            pos = torch.concat((torch.sin(vp), torch.cos(vp)), dim=0).T\n",
    "        else:\n",
    "            pos = torch.stack((x,y)).T\n",
    "        uvp = self.model(pos)\n",
    "        return uvp\n",
    "\n",
    "    def compute_derivatives(self):\n",
    "        # Esimate Gradients with finite difference\n",
    "        sol_pde = self.forward(self.xg_pde, self.yg_pde)\n",
    "        sol_pde = sol_pde.reshape(self.der_grid_res, self.der_grid_res, 3)\n",
    "        x_der = (sol_pde - torch.roll(sol_pde, shifts=1, dims=1)) / self.dr\n",
    "        y_der = (sol_pde - torch.roll(sol_pde, shifts=1, dims=0)) / self.dr\n",
    "        x_der_2 = (torch.roll(sol_pde, shifts=1, dims=1) + torch.roll(sol_pde, shifts=-1, dims=1) - 2*sol_pde) / self.dr**2\n",
    "        y_der_2 = (torch.roll(sol_pde, shifts=1, dims=0) + torch.roll(sol_pde, shifts=-1, dims=0) - 2*sol_pde) / self.dr**2\n",
    "\n",
    "        # Remove the border to avoid large outlier artifacts from the boundaries\n",
    "        x_der = x_der[1:-1, 1:-1, :]\n",
    "        x_der_2 = x_der_2[1:-1, 1:-1, :]\n",
    "        y_der = y_der[1:-1, 1:-1, :]\n",
    "        y_der_2 = y_der_2[1:-1, 1:-1, :]\n",
    "        sol_pde = sol_pde[1:-1, 1:-1]\n",
    "        self.u_hat_pde = sol_pde[:,:,0].flatten()\n",
    "        self.v_hat_pde = sol_pde[:,:,1].flatten()\n",
    "        self.p_hat_pde = sol_pde[:,:,2].flatten()\n",
    "\n",
    "        # Store the results of computation\n",
    "        self.u_x, self.u_y = x_der[:,:,0].flatten(), y_der[:,:,0].flatten()\n",
    "        self.v_x, self.v_y = x_der[:,:,1].flatten(), y_der[:,:,1].flatten()\n",
    "        self.p_x, self.p_y = x_der[:,:,2].flatten(), y_der[:,:,2].flatten()\n",
    "        self.u_xx, self.u_yy = x_der_2[:,:,0].flatten(), y_der_2[:,:,0].flatten()\n",
    "        self.v_xx, self.v_yy = x_der_2[:,:,1].flatten(), y_der_2[:,:,1].flatten()  \n",
    "\n",
    "    def compute_boundaries(self, sample_size):\n",
    "        self.xx = torch.rand(self.BC_SAMPLE_SIZE).to(device)\n",
    "        self.yy = torch.rand(self.BC_SAMPLE_SIZE).to(device)\n",
    "\n",
    "        self.top_sol = self.forward(self.xx, self.top_boundary)\n",
    "        self.bot_sol = self.forward(self.xx, self.bot_boundary)\n",
    "        \n",
    "        self.left_sol = self.forward(self.left_boundary, self.yy)\n",
    "        self.right_sol = self.forward(self.right_boundary, self.yy)\n",
    "\n",
    "    def compute_pde_residues(self, random=True):\n",
    "        pde_r_x = self.u_hat_pde*self.u_x + self.v_hat_pde*self.u_y + self.p_x - (self.u_xx + self.u_yy)/100\n",
    "        pde_r_y = self.u_hat_pde*self.v_x + self.v_hat_pde*self.v_y + self.p_y - (self.v_xx + self.v_yy)/100\n",
    "        pde_r_incompress = self.u_x + self.v_y\n",
    "        residue_rand_pts = torch.randint(0, len(pde_r_x), (self.PDE_R_SAMPLE_SIZE,))\n",
    "        if random:\n",
    "            # self.L_pde = self.logcosh_loss(torch.abs(pde_r_x[residue_rand_pts]) + torch.abs(pde_r_y[residue_rand_pts])\\\n",
    "            #               + torch.abs(pde_r_incompress[residue_rand_pts]), 0) \n",
    "            self.L_pde = torch.mean(pde_r_x[residue_rand_pts]**2) + torch.mean(pde_r_y[residue_rand_pts]**2)\\\n",
    "                          + torch.mean(pde_r_incompress[residue_rand_pts]**2) \n",
    "        else:\n",
    "            self.L_pde = self.logcosh_loss(torch.abs(pde_r_x) + torch.abs(pde_r_y) + torch.abs(pde_r_incompress), 0)\n",
    "            \n",
    "    def compute_bc_loss(self):\n",
    "        self.L_bc = self.logcosh_loss((torch.abs(self.top_sol[:,0] - 1) \\\n",
    "                + torch.abs(self.left_sol[:,0]) + torch.abs(self.right_sol[:,0]) + torch.abs(self.bot_sol[:,0]) \\\n",
    "                + torch.abs(self.top_sol[:,1]) + torch.abs(self.left_sol[:,1]) \n",
    "                + torch.abs(self.right_sol[:,1]) + torch.abs(self.bot_sol[:,1])), 0)\n",
    "        \n",
    "    def train(self, num_epochs, losses=None, adapt_weights=False, F=250):\n",
    "        x_train = self.pos_train[:,0]\n",
    "        y_train = self.pos_train[:,1]\n",
    "        if self.recon:\n",
    "            x_recon = self.pos_recon[:,0]\n",
    "            y_recon = self.pos_recon[:,1]\n",
    "        \n",
    "        ALPHA=0.9\n",
    "        \n",
    "        for epoch in (pbar := tqdm(range(num_epochs))):\n",
    "            self.optimizer.zero_grad()\n",
    "            \n",
    "            # =========================== PDE Equation Loss =============================\n",
    "            self.compute_derivatives()\n",
    "            self.compute_pde_residues(random=True)\n",
    "                \n",
    "            # ======================= Boundary Condition Loss =======================\n",
    "            if not self.recon:\n",
    "                self.compute_boundaries(self.BC_SAMPLE_SIZE)\n",
    "                self.compute_bc_loss()\n",
    "            \n",
    "            # ========================== Data loss =============================\n",
    "            with torch.no_grad():\n",
    "            # if not self.recon:\n",
    "                sol_hat = self.forward(x_train, y_train)\n",
    "                L_u = mse_loss(sol_hat[:,0], sol_train[:,0])\n",
    "                L_v = mse_loss(sol_hat[:,1], sol_train[:,1])\n",
    "                L_p = mse_loss(sol_hat[:,2], sol_train[:,2])\n",
    "            # else:\n",
    "            sol_recon_hat = self.forward(x_recon, y_recon)\n",
    "            # self.L_recon = self.logcosh_loss(torch.abs(sol_recon_hat[:,0] - self.sol_recon[:,0])\\\n",
    "            #                                      + torch.abs(sol_recon_hat[:,1] - self.sol_recon[:,1])\\\n",
    "            #                                      + torch.abs(sol_recon_hat[:,2] - self.sol_recon[:,2]),0)\n",
    "            self.L_recon = mse_loss(sol_recon_hat[:,0], self.sol_recon[:,0])\\\n",
    "                         + mse_loss(sol_recon_hat[:,1], self.sol_recon[:,1])\\\n",
    "                         + mse_loss(sol_recon_hat[:,2], self.sol_recon[:,2])\n",
    "                # with torch.no_grad():\n",
    "                #     L_u_recon = mse_loss(sol_recon_hat[:,0], self.sol_recon[:,0])\n",
    "                #     L_v_recon = mse_loss(sol_recon_hat[:,1], self.sol_recon[:,1])\n",
    "                #     L_p_recon = mse_loss(sol_recon_hat[:,2], self.sol_recon[:,2])\n",
    "\n",
    "            # ============================ Aggregate Losses ===============================\n",
    "            # if epoch%F==0 and adapt_weights:\n",
    "            #     self.L_pde.retain_grad()\n",
    "            #     self.L_bc.retain_grad()\n",
    "                \n",
    "            #     # Balance loss function from time to time\n",
    "            #     w_pde, w_bc, w_data = 0., 0., 0.\n",
    "            #     L_pde_grad = torch.autograd.grad(self.L_pde, self.model.parameters(), retain_graph=True)\n",
    "            #     for g in L_pde_grad:\n",
    "            #         w_pde += torch.linalg.vector_norm(g).item()\n",
    "                    \n",
    "            #     L_bc_grad = torch.autograd.grad(self.L_bc, self.model.parameters(), retain_graph=True)\n",
    "            #     for g in L_bc_grad:\n",
    "            #         w_bc += torch.linalg.vector_norm(g).item()\n",
    "      \n",
    "            #     print(\"WEIGHTS:\", w_pde, w_bc, w_data)\n",
    "                \n",
    "            #     lambda_pde_hat = (w_bc + w_pde) / w_pde\n",
    "            #     lambda_bc_hat = (w_bc + w_pde) / w_bc\n",
    "            #     self.lambda_pde = ALPHA*self.lambda_pde + (1-ALPHA)*lambda_pde_hat\n",
    "            #     self.lambda_bc = ALPHA*self.lambda_bc + (1-ALPHA)*lambda_bc_hat\n",
    "            #     print(\"LAMBDAs:\", self.lambda_pde, self.lambda_bc, self.lambda_data)\n",
    "            \n",
    "            if self.recon:\n",
    "                # loss = self.L_recon + self.lambda_pde*self.L_pde\n",
    "                loss = self.L_recon + self.lambda_pde*self.L_pde\n",
    "            else:\n",
    "                loss = self.lambda_pde*self.L_pde + self.lambda_bc*self.L_bc\n",
    "            loss.backward()\n",
    "            self.optimizer.step()\n",
    "\n",
    "            # Record and update losses\n",
    "            if not losses is None and self.recon:\n",
    "                losses[epoch, :] = [self.L_pde.item(), self.L_recon.item()]\n",
    "            else:\n",
    "                losses[epoch, :] = [self.L_pde.item(), self.L_bc.item(), L_u.item(), L_v.item(), L_p.item()]\n",
    "                \n",
    "            # print(loss.item())\n",
    "            if epoch%100==0:\n",
    "                if self.recon: \n",
    "                    print(f\"EPOCH {epoch}: LOSS={np.round(loss.item(),9)}, PDE RES={np.round(self.L_pde.item(),9)} | RECON LOSS={np.round(self.L_recon.item(),9)}  | LOSS u,v,p=({np.round(L_u.item(),4)}, {np.round(L_v.item(),4)}, {np.round(L_p.item(),4)})\")\n",
    "                    \n",
    "                else:\n",
    "                    print(f\"EPOCH {epoch}: LOSS={np.round(self.L_pde.item() + self.L_bc.item(), 4)} | LOSS u,v,p=({np.round(L_u.item(),4)}, {np.round(L_v.item(),4)}, {np.round(L_p.item(),4)})\")\n",
    "                    "
   ]
  },
  {
   "cell_type": "code",
   "execution_count": 100,
   "id": "d5486aa8-7192-4e58-8aaf-ab2173b7882b",
   "metadata": {},
   "outputs": [],
   "source": [
    "model = PINN(in_dim=2, out_dim=3, data=(pos_train, sol_train), recon=False, my_lr=0.005, depth=7, width=50, rff_dim=None, sigma=1)\n",
    "model.to(device);"
   ]
  },
  {
   "cell_type": "code",
   "execution_count": 261,
   "id": "79e181b7-3cf3-403c-b9ef-4666a6219623",
   "metadata": {},
   "outputs": [
    {
     "name": "stderr",
     "output_type": "stream",
     "text": [
      "  0%|                                         | 2/20001 [00:00<21:52, 15.24it/s]"
     ]
    },
    {
     "name": "stdout",
     "output_type": "stream",
     "text": [
      "EPOCH 0: LOSS=0.7449 | LOSS u,v,p=(0.0561, 0.0225, 0.0169)\n"
     ]
    },
    {
     "name": "stderr",
     "output_type": "stream",
     "text": [
      "  1%|▏                                      | 104/20001 [00:06<20:59, 15.80it/s]"
     ]
    },
    {
     "name": "stdout",
     "output_type": "stream",
     "text": [
      "EPOCH 100: LOSS=0.1939 | LOSS u,v,p=(0.0519, 0.022, 0.0169)\n"
     ]
    },
    {
     "name": "stderr",
     "output_type": "stream",
     "text": [
      "  1%|▍                                      | 204/20001 [00:13<20:44, 15.91it/s]"
     ]
    },
    {
     "name": "stdout",
     "output_type": "stream",
     "text": [
      "EPOCH 200: LOSS=0.1133 | LOSS u,v,p=(0.0148, 0.0219, 0.0099)\n"
     ]
    },
    {
     "name": "stderr",
     "output_type": "stream",
     "text": [
      "  2%|▌                                      | 304/20001 [00:19<20:40, 15.87it/s]"
     ]
    },
    {
     "name": "stdout",
     "output_type": "stream",
     "text": [
      "EPOCH 300: LOSS=0.0371 | LOSS u,v,p=(0.0156, 0.0215, 0.0137)\n"
     ]
    },
    {
     "name": "stderr",
     "output_type": "stream",
     "text": [
      "  2%|▊                                      | 404/20001 [00:25<20:30, 15.92it/s]"
     ]
    },
    {
     "name": "stdout",
     "output_type": "stream",
     "text": [
      "EPOCH 400: LOSS=0.0631 | LOSS u,v,p=(0.0146, 0.0212, 0.0149)\n"
     ]
    },
    {
     "name": "stderr",
     "output_type": "stream",
     "text": [
      "  3%|▉                                      | 504/20001 [00:32<20:21, 15.96it/s]"
     ]
    },
    {
     "name": "stdout",
     "output_type": "stream",
     "text": [
      "EPOCH 500: LOSS=0.082 | LOSS u,v,p=(0.0137, 0.0212, 0.0116)\n"
     ]
    },
    {
     "name": "stderr",
     "output_type": "stream",
     "text": [
      "  3%|█▏                                     | 604/20001 [00:38<20:17, 15.93it/s]"
     ]
    },
    {
     "name": "stdout",
     "output_type": "stream",
     "text": [
      "EPOCH 600: LOSS=0.0292 | LOSS u,v,p=(0.0139, 0.0212, 0.0189)\n"
     ]
    },
    {
     "name": "stderr",
     "output_type": "stream",
     "text": [
      "  4%|█▎                                     | 704/20001 [00:44<20:16, 15.86it/s]"
     ]
    },
    {
     "name": "stdout",
     "output_type": "stream",
     "text": [
      "EPOCH 700: LOSS=0.0985 | LOSS u,v,p=(0.0125, 0.0201, 0.012)\n"
     ]
    },
    {
     "name": "stderr",
     "output_type": "stream",
     "text": [
      "  4%|█▌                                     | 804/20001 [00:51<20:02, 15.96it/s]"
     ]
    },
    {
     "name": "stdout",
     "output_type": "stream",
     "text": [
      "EPOCH 800: LOSS=0.0497 | LOSS u,v,p=(0.012, 0.0188, 0.0091)\n"
     ]
    },
    {
     "name": "stderr",
     "output_type": "stream",
     "text": [
      "  5%|█▊                                     | 904/20001 [00:57<20:01, 15.89it/s]"
     ]
    },
    {
     "name": "stdout",
     "output_type": "stream",
     "text": [
      "EPOCH 900: LOSS=0.0598 | LOSS u,v,p=(0.0123, 0.0194, 0.0125)\n"
     ]
    },
    {
     "name": "stderr",
     "output_type": "stream",
     "text": [
      "  5%|█▉                                    | 1004/20001 [01:03<19:59, 15.84it/s]"
     ]
    },
    {
     "name": "stdout",
     "output_type": "stream",
     "text": [
      "EPOCH 1000: LOSS=0.0489 | LOSS u,v,p=(0.0123, 0.0196, 0.0102)\n"
     ]
    },
    {
     "name": "stderr",
     "output_type": "stream",
     "text": [
      "  6%|██                                    | 1104/20001 [01:10<19:46, 15.93it/s]"
     ]
    },
    {
     "name": "stdout",
     "output_type": "stream",
     "text": [
      "EPOCH 1100: LOSS=0.0968 | LOSS u,v,p=(0.011, 0.0184, 0.0118)\n"
     ]
    },
    {
     "name": "stderr",
     "output_type": "stream",
     "text": [
      "  6%|██▎                                   | 1204/20001 [01:16<19:40, 15.92it/s]"
     ]
    },
    {
     "name": "stdout",
     "output_type": "stream",
     "text": [
      "EPOCH 1200: LOSS=0.0503 | LOSS u,v,p=(0.0112, 0.0188, 0.0089)\n"
     ]
    },
    {
     "name": "stderr",
     "output_type": "stream",
     "text": [
      "  7%|██▍                                   | 1304/20001 [01:23<19:35, 15.90it/s]"
     ]
    },
    {
     "name": "stdout",
     "output_type": "stream",
     "text": [
      "EPOCH 1300: LOSS=0.0825 | LOSS u,v,p=(0.0113, 0.0192, 0.0096)\n"
     ]
    },
    {
     "name": "stderr",
     "output_type": "stream",
     "text": [
      "  7%|██▋                                   | 1404/20001 [01:29<19:27, 15.93it/s]"
     ]
    },
    {
     "name": "stdout",
     "output_type": "stream",
     "text": [
      "EPOCH 1400: LOSS=0.0631 | LOSS u,v,p=(0.0109, 0.0177, 0.0108)\n"
     ]
    },
    {
     "name": "stderr",
     "output_type": "stream",
     "text": [
      "  8%|██▊                                   | 1504/20001 [01:35<19:31, 15.79it/s]"
     ]
    },
    {
     "name": "stdout",
     "output_type": "stream",
     "text": [
      "EPOCH 1500: LOSS=0.0679 | LOSS u,v,p=(0.0104, 0.018, 0.0139)\n"
     ]
    },
    {
     "name": "stderr",
     "output_type": "stream",
     "text": [
      "  8%|███                                   | 1604/20001 [01:42<19:21, 15.83it/s]"
     ]
    },
    {
     "name": "stdout",
     "output_type": "stream",
     "text": [
      "EPOCH 1600: LOSS=0.0568 | LOSS u,v,p=(0.0114, 0.0176, 0.0171)\n"
     ]
    },
    {
     "name": "stderr",
     "output_type": "stream",
     "text": [
      "  9%|███▏                                  | 1704/20001 [01:48<19:10, 15.91it/s]"
     ]
    },
    {
     "name": "stdout",
     "output_type": "stream",
     "text": [
      "EPOCH 1700: LOSS=0.0564 | LOSS u,v,p=(0.01, 0.0177, 0.0341)\n"
     ]
    },
    {
     "name": "stderr",
     "output_type": "stream",
     "text": [
      "  9%|███▍                                  | 1804/20001 [01:54<19:08, 15.85it/s]"
     ]
    },
    {
     "name": "stdout",
     "output_type": "stream",
     "text": [
      "EPOCH 1800: LOSS=0.0401 | LOSS u,v,p=(0.0103, 0.0187, 0.0246)\n"
     ]
    },
    {
     "name": "stderr",
     "output_type": "stream",
     "text": [
      " 10%|███▌                                  | 1904/20001 [02:01<18:50, 16.00it/s]"
     ]
    },
    {
     "name": "stdout",
     "output_type": "stream",
     "text": [
      "EPOCH 1900: LOSS=0.1044 | LOSS u,v,p=(0.0095, 0.0182, 0.0221)\n"
     ]
    },
    {
     "name": "stderr",
     "output_type": "stream",
     "text": [
      " 10%|███▊                                  | 2004/20001 [02:07<18:46, 15.97it/s]"
     ]
    },
    {
     "name": "stdout",
     "output_type": "stream",
     "text": [
      "EPOCH 2000: LOSS=0.0549 | LOSS u,v,p=(0.0096, 0.0173, 0.0367)\n"
     ]
    },
    {
     "name": "stderr",
     "output_type": "stream",
     "text": [
      " 11%|███▉                                  | 2104/20001 [02:13<18:40, 15.97it/s]"
     ]
    },
    {
     "name": "stdout",
     "output_type": "stream",
     "text": [
      "EPOCH 2100: LOSS=0.0602 | LOSS u,v,p=(0.0107, 0.0179, 0.0189)\n"
     ]
    },
    {
     "name": "stderr",
     "output_type": "stream",
     "text": [
      " 11%|████▏                                 | 2204/20001 [02:20<18:35, 15.95it/s]"
     ]
    },
    {
     "name": "stdout",
     "output_type": "stream",
     "text": [
      "EPOCH 2200: LOSS=0.0505 | LOSS u,v,p=(0.0099, 0.0162, 0.0232)\n"
     ]
    },
    {
     "name": "stderr",
     "output_type": "stream",
     "text": [
      " 12%|████▍                                 | 2304/20001 [02:26<18:30, 15.94it/s]"
     ]
    },
    {
     "name": "stdout",
     "output_type": "stream",
     "text": [
      "EPOCH 2300: LOSS=0.038 | LOSS u,v,p=(0.0079, 0.0148, 0.0244)\n"
     ]
    },
    {
     "name": "stderr",
     "output_type": "stream",
     "text": [
      " 12%|████▌                                 | 2404/20001 [02:32<18:27, 15.88it/s]"
     ]
    },
    {
     "name": "stdout",
     "output_type": "stream",
     "text": [
      "EPOCH 2400: LOSS=0.0287 | LOSS u,v,p=(0.0081, 0.0123, 0.0255)\n"
     ]
    },
    {
     "name": "stderr",
     "output_type": "stream",
     "text": [
      " 13%|████▊                                 | 2504/20001 [02:39<18:20, 15.90it/s]"
     ]
    },
    {
     "name": "stdout",
     "output_type": "stream",
     "text": [
      "EPOCH 2500: LOSS=0.061 | LOSS u,v,p=(0.0079, 0.0138, 0.019)\n"
     ]
    },
    {
     "name": "stderr",
     "output_type": "stream",
     "text": [
      " 13%|████▉                                 | 2604/20001 [02:45<18:10, 15.96it/s]"
     ]
    },
    {
     "name": "stdout",
     "output_type": "stream",
     "text": [
      "EPOCH 2600: LOSS=0.0252 | LOSS u,v,p=(0.0074, 0.012, 0.026)\n"
     ]
    },
    {
     "name": "stderr",
     "output_type": "stream",
     "text": [
      " 14%|█████▏                                | 2704/20001 [02:51<18:06, 15.91it/s]"
     ]
    },
    {
     "name": "stdout",
     "output_type": "stream",
     "text": [
      "EPOCH 2700: LOSS=0.0192 | LOSS u,v,p=(0.0067, 0.011, 0.0269)\n"
     ]
    },
    {
     "name": "stderr",
     "output_type": "stream",
     "text": [
      " 14%|█████▎                                | 2804/20001 [02:58<17:59, 15.94it/s]"
     ]
    },
    {
     "name": "stdout",
     "output_type": "stream",
     "text": [
      "EPOCH 2800: LOSS=0.0753 | LOSS u,v,p=(0.01, 0.0162, 0.0352)\n"
     ]
    },
    {
     "name": "stderr",
     "output_type": "stream",
     "text": [
      " 15%|█████▌                                | 2904/20001 [03:04<17:58, 15.85it/s]"
     ]
    },
    {
     "name": "stdout",
     "output_type": "stream",
     "text": [
      "EPOCH 2900: LOSS=0.0327 | LOSS u,v,p=(0.006, 0.011, 0.0544)\n"
     ]
    },
    {
     "name": "stderr",
     "output_type": "stream",
     "text": [
      " 15%|█████▋                                | 3004/20001 [03:10<17:42, 15.99it/s]"
     ]
    },
    {
     "name": "stdout",
     "output_type": "stream",
     "text": [
      "EPOCH 3000: LOSS=0.0395 | LOSS u,v,p=(0.0052, 0.0099, 0.0568)\n"
     ]
    },
    {
     "name": "stderr",
     "output_type": "stream",
     "text": [
      " 16%|█████▉                                | 3104/20001 [03:17<17:45, 15.86it/s]"
     ]
    },
    {
     "name": "stdout",
     "output_type": "stream",
     "text": [
      "EPOCH 3100: LOSS=0.0608 | LOSS u,v,p=(0.0054, 0.0086, 0.0369)\n"
     ]
    },
    {
     "name": "stderr",
     "output_type": "stream",
     "text": [
      " 16%|██████                                | 3204/20001 [03:23<17:37, 15.89it/s]"
     ]
    },
    {
     "name": "stdout",
     "output_type": "stream",
     "text": [
      "EPOCH 3200: LOSS=0.0164 | LOSS u,v,p=(0.0045, 0.0076, 0.0295)\n"
     ]
    },
    {
     "name": "stderr",
     "output_type": "stream",
     "text": [
      " 17%|██████▎                               | 3304/20001 [03:29<17:29, 15.92it/s]"
     ]
    },
    {
     "name": "stdout",
     "output_type": "stream",
     "text": [
      "EPOCH 3300: LOSS=0.0425 | LOSS u,v,p=(0.0046, 0.0068, 0.0228)\n"
     ]
    },
    {
     "name": "stderr",
     "output_type": "stream",
     "text": [
      " 17%|██████▍                               | 3402/20001 [03:36<17:36, 15.70it/s]"
     ]
    },
    {
     "name": "stdout",
     "output_type": "stream",
     "text": [
      "EPOCH 3400: LOSS=0.035 | LOSS u,v,p=(0.0041, 0.0067, 0.0214)\n"
     ]
    },
    {
     "name": "stderr",
     "output_type": "stream",
     "text": [
      " 18%|██████▋                               | 3502/20001 [03:42<20:18, 13.54it/s]"
     ]
    },
    {
     "name": "stdout",
     "output_type": "stream",
     "text": [
      "EPOCH 3500: LOSS=0.0325 | LOSS u,v,p=(0.0039, 0.0058, 0.0305)\n"
     ]
    },
    {
     "name": "stderr",
     "output_type": "stream",
     "text": [
      " 18%|██████▊                               | 3604/20001 [03:49<17:11, 15.89it/s]"
     ]
    },
    {
     "name": "stdout",
     "output_type": "stream",
     "text": [
      "EPOCH 3600: LOSS=0.0252 | LOSS u,v,p=(0.0038, 0.005, 0.0553)\n"
     ]
    },
    {
     "name": "stderr",
     "output_type": "stream",
     "text": [
      " 19%|███████                               | 3704/20001 [03:55<17:02, 15.94it/s]"
     ]
    },
    {
     "name": "stdout",
     "output_type": "stream",
     "text": [
      "EPOCH 3700: LOSS=0.03 | LOSS u,v,p=(0.0036, 0.0048, 0.0714)\n"
     ]
    },
    {
     "name": "stderr",
     "output_type": "stream",
     "text": [
      " 19%|███████▏                              | 3804/20001 [04:02<16:56, 15.93it/s]"
     ]
    },
    {
     "name": "stdout",
     "output_type": "stream",
     "text": [
      "EPOCH 3800: LOSS=0.0268 | LOSS u,v,p=(0.002, 0.0029, 0.0625)\n"
     ]
    },
    {
     "name": "stderr",
     "output_type": "stream",
     "text": [
      " 20%|███████▍                              | 3904/20001 [04:08<16:49, 15.94it/s]"
     ]
    },
    {
     "name": "stdout",
     "output_type": "stream",
     "text": [
      "EPOCH 3900: LOSS=0.0676 | LOSS u,v,p=(0.0025, 0.0039, 0.0315)\n"
     ]
    },
    {
     "name": "stderr",
     "output_type": "stream",
     "text": [
      " 20%|███████▌                              | 4004/20001 [04:14<16:45, 15.91it/s]"
     ]
    },
    {
     "name": "stdout",
     "output_type": "stream",
     "text": [
      "EPOCH 4000: LOSS=0.061 | LOSS u,v,p=(0.0025, 0.0029, 0.0233)\n"
     ]
    },
    {
     "name": "stderr",
     "output_type": "stream",
     "text": [
      " 21%|███████▊                              | 4104/20001 [04:21<16:38, 15.92it/s]"
     ]
    },
    {
     "name": "stdout",
     "output_type": "stream",
     "text": [
      "EPOCH 4100: LOSS=0.0458 | LOSS u,v,p=(0.0027, 0.0049, 0.029)\n"
     ]
    },
    {
     "name": "stderr",
     "output_type": "stream",
     "text": [
      " 21%|███████▉                              | 4204/20001 [04:27<16:36, 15.85it/s]"
     ]
    },
    {
     "name": "stdout",
     "output_type": "stream",
     "text": [
      "EPOCH 4200: LOSS=0.0289 | LOSS u,v,p=(0.0018, 0.0027, 0.0224)\n"
     ]
    },
    {
     "name": "stderr",
     "output_type": "stream",
     "text": [
      " 22%|████████▏                             | 4304/20001 [04:33<16:27, 15.90it/s]"
     ]
    },
    {
     "name": "stdout",
     "output_type": "stream",
     "text": [
      "EPOCH 4300: LOSS=0.0168 | LOSS u,v,p=(0.0022, 0.0023, 0.0175)\n"
     ]
    },
    {
     "name": "stderr",
     "output_type": "stream",
     "text": [
      " 22%|████████▎                             | 4404/20001 [04:40<16:19, 15.92it/s]"
     ]
    },
    {
     "name": "stdout",
     "output_type": "stream",
     "text": [
      "EPOCH 4400: LOSS=0.0104 | LOSS u,v,p=(0.0021, 0.0027, 0.0373)\n"
     ]
    },
    {
     "name": "stderr",
     "output_type": "stream",
     "text": [
      " 23%|████████▌                             | 4504/20001 [04:46<16:10, 15.97it/s]"
     ]
    },
    {
     "name": "stdout",
     "output_type": "stream",
     "text": [
      "EPOCH 4500: LOSS=0.0299 | LOSS u,v,p=(0.0017, 0.0028, 0.0161)\n"
     ]
    },
    {
     "name": "stderr",
     "output_type": "stream",
     "text": [
      " 23%|████████▋                             | 4604/20001 [04:52<16:07, 15.91it/s]"
     ]
    },
    {
     "name": "stdout",
     "output_type": "stream",
     "text": [
      "EPOCH 4600: LOSS=0.0121 | LOSS u,v,p=(0.0017, 0.0025, 0.0079)\n"
     ]
    },
    {
     "name": "stderr",
     "output_type": "stream",
     "text": [
      " 24%|████████▉                             | 4704/20001 [04:59<16:01, 15.91it/s]"
     ]
    },
    {
     "name": "stdout",
     "output_type": "stream",
     "text": [
      "EPOCH 4700: LOSS=0.0106 | LOSS u,v,p=(0.0018, 0.0023, 0.0094)\n"
     ]
    },
    {
     "name": "stderr",
     "output_type": "stream",
     "text": [
      " 24%|█████████▏                            | 4804/20001 [05:05<15:59, 15.83it/s]"
     ]
    },
    {
     "name": "stdout",
     "output_type": "stream",
     "text": [
      "EPOCH 4800: LOSS=0.0117 | LOSS u,v,p=(0.0027, 0.0041, 0.0092)\n"
     ]
    },
    {
     "name": "stderr",
     "output_type": "stream",
     "text": [
      " 25%|█████████▎                            | 4904/20001 [05:12<16:05, 15.64it/s]"
     ]
    },
    {
     "name": "stdout",
     "output_type": "stream",
     "text": [
      "EPOCH 4900: LOSS=0.0113 | LOSS u,v,p=(0.0017, 0.0025, 0.0068)\n"
     ]
    },
    {
     "name": "stderr",
     "output_type": "stream",
     "text": [
      " 25%|█████████▌                            | 5004/20001 [05:18<15:50, 15.77it/s]"
     ]
    },
    {
     "name": "stdout",
     "output_type": "stream",
     "text": [
      "EPOCH 5000: LOSS=0.0115 | LOSS u,v,p=(0.0016, 0.0033, 0.0068)\n"
     ]
    },
    {
     "name": "stderr",
     "output_type": "stream",
     "text": [
      " 26%|█████████▋                            | 5104/20001 [05:24<15:40, 15.83it/s]"
     ]
    },
    {
     "name": "stdout",
     "output_type": "stream",
     "text": [
      "EPOCH 5100: LOSS=0.0079 | LOSS u,v,p=(0.002, 0.003, 0.0043)\n"
     ]
    },
    {
     "name": "stderr",
     "output_type": "stream",
     "text": [
      " 26%|█████████▉                            | 5204/20001 [05:31<15:30, 15.91it/s]"
     ]
    },
    {
     "name": "stdout",
     "output_type": "stream",
     "text": [
      "EPOCH 5200: LOSS=0.0449 | LOSS u,v,p=(0.0017, 0.0022, 0.0076)\n"
     ]
    },
    {
     "name": "stderr",
     "output_type": "stream",
     "text": [
      " 27%|██████████                            | 5304/20001 [05:37<15:21, 15.95it/s]"
     ]
    },
    {
     "name": "stdout",
     "output_type": "stream",
     "text": [
      "EPOCH 5300: LOSS=0.0565 | LOSS u,v,p=(0.0025, 0.0043, 0.0082)\n"
     ]
    },
    {
     "name": "stderr",
     "output_type": "stream",
     "text": [
      " 27%|██████████▎                           | 5404/20001 [05:43<15:12, 15.99it/s]"
     ]
    },
    {
     "name": "stdout",
     "output_type": "stream",
     "text": [
      "EPOCH 5400: LOSS=0.0399 | LOSS u,v,p=(0.003, 0.0029, 0.0079)\n"
     ]
    },
    {
     "name": "stderr",
     "output_type": "stream",
     "text": [
      " 28%|██████████▍                           | 5504/20001 [05:50<15:21, 15.74it/s]"
     ]
    },
    {
     "name": "stdout",
     "output_type": "stream",
     "text": [
      "EPOCH 5500: LOSS=0.0152 | LOSS u,v,p=(0.0015, 0.0027, 0.0044)\n"
     ]
    },
    {
     "name": "stderr",
     "output_type": "stream",
     "text": [
      " 28%|██████████▋                           | 5604/20001 [05:56<15:10, 15.81it/s]"
     ]
    },
    {
     "name": "stdout",
     "output_type": "stream",
     "text": [
      "EPOCH 5600: LOSS=0.0188 | LOSS u,v,p=(0.0016, 0.0022, 0.0035)\n"
     ]
    },
    {
     "name": "stderr",
     "output_type": "stream",
     "text": [
      " 29%|██████████▊                           | 5704/20001 [06:02<15:02, 15.84it/s]"
     ]
    },
    {
     "name": "stdout",
     "output_type": "stream",
     "text": [
      "EPOCH 5700: LOSS=0.0373 | LOSS u,v,p=(0.0023, 0.0029, 0.0049)\n"
     ]
    },
    {
     "name": "stderr",
     "output_type": "stream",
     "text": [
      " 29%|███████████                           | 5804/20001 [06:09<14:55, 15.85it/s]"
     ]
    },
    {
     "name": "stdout",
     "output_type": "stream",
     "text": [
      "EPOCH 5800: LOSS=0.02 | LOSS u,v,p=(0.0016, 0.0022, 0.0046)\n"
     ]
    },
    {
     "name": "stderr",
     "output_type": "stream",
     "text": [
      " 30%|███████████▏                          | 5904/20001 [06:15<14:45, 15.92it/s]"
     ]
    },
    {
     "name": "stdout",
     "output_type": "stream",
     "text": [
      "EPOCH 5900: LOSS=0.0125 | LOSS u,v,p=(0.0022, 0.0032, 0.0071)\n"
     ]
    },
    {
     "name": "stderr",
     "output_type": "stream",
     "text": [
      " 30%|███████████▍                          | 6004/20001 [06:22<14:39, 15.91it/s]"
     ]
    },
    {
     "name": "stdout",
     "output_type": "stream",
     "text": [
      "EPOCH 6000: LOSS=0.0113 | LOSS u,v,p=(0.0025, 0.004, 0.0052)\n"
     ]
    },
    {
     "name": "stderr",
     "output_type": "stream",
     "text": [
      " 31%|███████████▌                          | 6104/20001 [06:28<14:37, 15.84it/s]"
     ]
    },
    {
     "name": "stdout",
     "output_type": "stream",
     "text": [
      "EPOCH 6100: LOSS=0.0127 | LOSS u,v,p=(0.0016, 0.0027, 0.0047)\n"
     ]
    },
    {
     "name": "stderr",
     "output_type": "stream",
     "text": [
      " 31%|███████████▊                          | 6204/20001 [06:34<14:49, 15.51it/s]"
     ]
    },
    {
     "name": "stdout",
     "output_type": "stream",
     "text": [
      "EPOCH 6200: LOSS=0.0125 | LOSS u,v,p=(0.0017, 0.002, 0.0036)\n"
     ]
    },
    {
     "name": "stderr",
     "output_type": "stream",
     "text": [
      " 32%|███████████▉                          | 6304/20001 [06:41<14:30, 15.73it/s]"
     ]
    },
    {
     "name": "stdout",
     "output_type": "stream",
     "text": [
      "EPOCH 6300: LOSS=0.0129 | LOSS u,v,p=(0.0016, 0.0019, 0.004)\n"
     ]
    },
    {
     "name": "stderr",
     "output_type": "stream",
     "text": [
      " 32%|████████████▏                         | 6404/20001 [06:47<14:14, 15.91it/s]"
     ]
    },
    {
     "name": "stdout",
     "output_type": "stream",
     "text": [
      "EPOCH 6400: LOSS=0.013 | LOSS u,v,p=(0.0017, 0.0027, 0.0036)\n"
     ]
    },
    {
     "name": "stderr",
     "output_type": "stream",
     "text": [
      " 33%|████████████▎                         | 6504/20001 [06:53<14:08, 15.90it/s]"
     ]
    },
    {
     "name": "stdout",
     "output_type": "stream",
     "text": [
      "EPOCH 6500: LOSS=0.0159 | LOSS u,v,p=(0.0019, 0.0022, 0.0038)\n"
     ]
    },
    {
     "name": "stderr",
     "output_type": "stream",
     "text": [
      " 33%|████████████▌                         | 6604/20001 [07:00<14:02, 15.91it/s]"
     ]
    },
    {
     "name": "stdout",
     "output_type": "stream",
     "text": [
      "EPOCH 6600: LOSS=0.0129 | LOSS u,v,p=(0.0019, 0.0027, 0.0079)\n"
     ]
    },
    {
     "name": "stderr",
     "output_type": "stream",
     "text": [
      " 34%|████████████▋                         | 6704/20001 [07:06<13:55, 15.92it/s]"
     ]
    },
    {
     "name": "stdout",
     "output_type": "stream",
     "text": [
      "EPOCH 6700: LOSS=0.0211 | LOSS u,v,p=(0.002, 0.0023, 0.0037)\n"
     ]
    },
    {
     "name": "stderr",
     "output_type": "stream",
     "text": [
      " 34%|████████████▉                         | 6804/20001 [07:12<13:47, 15.95it/s]"
     ]
    },
    {
     "name": "stdout",
     "output_type": "stream",
     "text": [
      "EPOCH 6800: LOSS=0.0138 | LOSS u,v,p=(0.002, 0.0033, 0.0036)\n"
     ]
    },
    {
     "name": "stderr",
     "output_type": "stream",
     "text": [
      " 35%|█████████████                         | 6904/20001 [07:19<13:43, 15.91it/s]"
     ]
    },
    {
     "name": "stdout",
     "output_type": "stream",
     "text": [
      "EPOCH 6900: LOSS=0.0357 | LOSS u,v,p=(0.0018, 0.0032, 0.0063)\n"
     ]
    },
    {
     "name": "stderr",
     "output_type": "stream",
     "text": [
      " 35%|█████████████▎                        | 7004/20001 [07:25<13:42, 15.80it/s]"
     ]
    },
    {
     "name": "stdout",
     "output_type": "stream",
     "text": [
      "EPOCH 7000: LOSS=0.0214 | LOSS u,v,p=(0.0012, 0.0024, 0.0039)\n"
     ]
    },
    {
     "name": "stderr",
     "output_type": "stream",
     "text": [
      " 36%|█████████████▍                        | 7104/20001 [07:32<13:32, 15.88it/s]"
     ]
    },
    {
     "name": "stdout",
     "output_type": "stream",
     "text": [
      "EPOCH 7100: LOSS=0.021 | LOSS u,v,p=(0.0013, 0.002, 0.0048)\n"
     ]
    },
    {
     "name": "stderr",
     "output_type": "stream",
     "text": [
      " 36%|█████████████▋                        | 7204/20001 [07:38<13:24, 15.91it/s]"
     ]
    },
    {
     "name": "stdout",
     "output_type": "stream",
     "text": [
      "EPOCH 7200: LOSS=0.0119 | LOSS u,v,p=(0.0018, 0.0023, 0.0043)\n"
     ]
    },
    {
     "name": "stderr",
     "output_type": "stream",
     "text": [
      " 37%|█████████████▉                        | 7304/20001 [07:44<13:20, 15.86it/s]"
     ]
    },
    {
     "name": "stdout",
     "output_type": "stream",
     "text": [
      "EPOCH 7300: LOSS=0.0257 | LOSS u,v,p=(0.0023, 0.0025, 0.0038)\n"
     ]
    },
    {
     "name": "stderr",
     "output_type": "stream",
     "text": [
      " 37%|██████████████                        | 7404/20001 [07:51<13:13, 15.87it/s]"
     ]
    },
    {
     "name": "stdout",
     "output_type": "stream",
     "text": [
      "EPOCH 7400: LOSS=0.0229 | LOSS u,v,p=(0.0016, 0.0019, 0.0032)\n"
     ]
    },
    {
     "name": "stderr",
     "output_type": "stream",
     "text": [
      " 38%|██████████████▎                       | 7504/20001 [07:57<13:24, 15.53it/s]"
     ]
    },
    {
     "name": "stdout",
     "output_type": "stream",
     "text": [
      "EPOCH 7500: LOSS=0.0325 | LOSS u,v,p=(0.0013, 0.0018, 0.004)\n"
     ]
    },
    {
     "name": "stderr",
     "output_type": "stream",
     "text": [
      " 38%|██████████████▍                       | 7604/20001 [08:03<13:03, 15.82it/s]"
     ]
    },
    {
     "name": "stdout",
     "output_type": "stream",
     "text": [
      "EPOCH 7600: LOSS=0.0285 | LOSS u,v,p=(0.0014, 0.0022, 0.0038)\n"
     ]
    },
    {
     "name": "stderr",
     "output_type": "stream",
     "text": [
      " 39%|██████████████▋                       | 7704/20001 [08:10<13:01, 15.74it/s]"
     ]
    },
    {
     "name": "stdout",
     "output_type": "stream",
     "text": [
      "EPOCH 7700: LOSS=0.0407 | LOSS u,v,p=(0.0019, 0.0027, 0.0078)\n"
     ]
    },
    {
     "name": "stderr",
     "output_type": "stream",
     "text": [
      " 39%|██████████████▊                       | 7804/20001 [08:16<12:45, 15.93it/s]"
     ]
    },
    {
     "name": "stdout",
     "output_type": "stream",
     "text": [
      "EPOCH 7800: LOSS=0.019 | LOSS u,v,p=(0.0017, 0.0017, 0.0097)\n"
     ]
    },
    {
     "name": "stderr",
     "output_type": "stream",
     "text": [
      " 40%|███████████████                       | 7904/20001 [08:23<12:42, 15.86it/s]"
     ]
    },
    {
     "name": "stdout",
     "output_type": "stream",
     "text": [
      "EPOCH 7900: LOSS=0.0065 | LOSS u,v,p=(0.0011, 0.0017, 0.0058)\n"
     ]
    },
    {
     "name": "stderr",
     "output_type": "stream",
     "text": [
      " 40%|███████████████▏                      | 8004/20001 [08:29<12:37, 15.84it/s]"
     ]
    },
    {
     "name": "stdout",
     "output_type": "stream",
     "text": [
      "EPOCH 8000: LOSS=0.0077 | LOSS u,v,p=(0.0011, 0.0018, 0.0129)\n"
     ]
    },
    {
     "name": "stderr",
     "output_type": "stream",
     "text": [
      " 41%|███████████████▍                      | 8104/20001 [08:35<12:34, 15.76it/s]"
     ]
    },
    {
     "name": "stdout",
     "output_type": "stream",
     "text": [
      "EPOCH 8100: LOSS=0.0241 | LOSS u,v,p=(0.0014, 0.0018, 0.016)\n"
     ]
    },
    {
     "name": "stderr",
     "output_type": "stream",
     "text": [
      " 41%|███████████████▌                      | 8204/20001 [08:42<12:19, 15.96it/s]"
     ]
    },
    {
     "name": "stdout",
     "output_type": "stream",
     "text": [
      "EPOCH 8200: LOSS=0.0228 | LOSS u,v,p=(0.0015, 0.0017, 0.0087)\n"
     ]
    },
    {
     "name": "stderr",
     "output_type": "stream",
     "text": [
      " 42%|███████████████▊                      | 8304/20001 [08:48<12:15, 15.89it/s]"
     ]
    },
    {
     "name": "stdout",
     "output_type": "stream",
     "text": [
      "EPOCH 8300: LOSS=0.0101 | LOSS u,v,p=(0.0012, 0.0017, 0.0153)\n"
     ]
    },
    {
     "name": "stderr",
     "output_type": "stream",
     "text": [
      " 42%|███████████████▉                      | 8404/20001 [08:54<12:09, 15.89it/s]"
     ]
    },
    {
     "name": "stdout",
     "output_type": "stream",
     "text": [
      "EPOCH 8400: LOSS=0.0409 | LOSS u,v,p=(0.0013, 0.001, 0.0212)\n"
     ]
    },
    {
     "name": "stderr",
     "output_type": "stream",
     "text": [
      " 43%|████████████████▏                     | 8504/20001 [09:01<12:00, 15.95it/s]"
     ]
    },
    {
     "name": "stdout",
     "output_type": "stream",
     "text": [
      "EPOCH 8500: LOSS=0.1113 | LOSS u,v,p=(0.0035, 0.0023, 0.0222)\n"
     ]
    },
    {
     "name": "stderr",
     "output_type": "stream",
     "text": [
      " 43%|████████████████▎                     | 8604/20001 [09:07<12:03, 15.76it/s]"
     ]
    },
    {
     "name": "stdout",
     "output_type": "stream",
     "text": [
      "EPOCH 8600: LOSS=0.016 | LOSS u,v,p=(0.0013, 0.0018, 0.0404)\n"
     ]
    },
    {
     "name": "stderr",
     "output_type": "stream",
     "text": [
      " 44%|████████████████▌                     | 8704/20001 [09:14<11:54, 15.82it/s]"
     ]
    },
    {
     "name": "stdout",
     "output_type": "stream",
     "text": [
      "EPOCH 8700: LOSS=0.0133 | LOSS u,v,p=(0.0012, 0.0019, 0.0203)\n"
     ]
    },
    {
     "name": "stderr",
     "output_type": "stream",
     "text": [
      " 44%|████████████████▋                     | 8804/20001 [09:20<11:45, 15.87it/s]"
     ]
    },
    {
     "name": "stdout",
     "output_type": "stream",
     "text": [
      "EPOCH 8800: LOSS=0.0262 | LOSS u,v,p=(0.0026, 0.0029, 0.0274)\n"
     ]
    },
    {
     "name": "stderr",
     "output_type": "stream",
     "text": [
      " 45%|████████████████▉                     | 8904/20001 [09:26<11:36, 15.93it/s]"
     ]
    },
    {
     "name": "stdout",
     "output_type": "stream",
     "text": [
      "EPOCH 8900: LOSS=0.0132 | LOSS u,v,p=(0.0011, 0.0015, 0.0234)\n"
     ]
    },
    {
     "name": "stderr",
     "output_type": "stream",
     "text": [
      " 45%|█████████████████                     | 9004/20001 [09:33<11:29, 15.94it/s]"
     ]
    },
    {
     "name": "stdout",
     "output_type": "stream",
     "text": [
      "EPOCH 9000: LOSS=0.0295 | LOSS u,v,p=(0.0018, 0.002, 0.0442)\n"
     ]
    },
    {
     "name": "stderr",
     "output_type": "stream",
     "text": [
      " 46%|█████████████████▎                    | 9104/20001 [09:39<11:25, 15.90it/s]"
     ]
    },
    {
     "name": "stdout",
     "output_type": "stream",
     "text": [
      "EPOCH 9100: LOSS=0.0201 | LOSS u,v,p=(0.002, 0.0022, 0.0413)\n"
     ]
    },
    {
     "name": "stderr",
     "output_type": "stream",
     "text": [
      " 46%|█████████████████▍                    | 9204/20001 [09:45<11:22, 15.83it/s]"
     ]
    },
    {
     "name": "stdout",
     "output_type": "stream",
     "text": [
      "EPOCH 9200: LOSS=0.0346 | LOSS u,v,p=(0.0011, 0.0014, 0.0461)\n"
     ]
    },
    {
     "name": "stderr",
     "output_type": "stream",
     "text": [
      " 47%|█████████████████▋                    | 9304/20001 [09:52<11:14, 15.86it/s]"
     ]
    },
    {
     "name": "stdout",
     "output_type": "stream",
     "text": [
      "EPOCH 9300: LOSS=0.0089 | LOSS u,v,p=(0.001, 0.0014, 0.0361)\n"
     ]
    },
    {
     "name": "stderr",
     "output_type": "stream",
     "text": [
      " 47%|█████████████████▊                    | 9404/20001 [09:58<11:09, 15.83it/s]"
     ]
    },
    {
     "name": "stdout",
     "output_type": "stream",
     "text": [
      "EPOCH 9400: LOSS=0.02 | LOSS u,v,p=(0.0015, 0.0018, 0.0602)\n"
     ]
    },
    {
     "name": "stderr",
     "output_type": "stream",
     "text": [
      " 48%|██████████████████                    | 9504/20001 [10:05<11:28, 15.24it/s]"
     ]
    },
    {
     "name": "stdout",
     "output_type": "stream",
     "text": [
      "EPOCH 9500: LOSS=0.0511 | LOSS u,v,p=(0.0016, 0.0021, 0.0412)\n"
     ]
    },
    {
     "name": "stderr",
     "output_type": "stream",
     "text": [
      " 48%|██████████████████▏                   | 9604/20001 [10:11<10:55, 15.87it/s]"
     ]
    },
    {
     "name": "stdout",
     "output_type": "stream",
     "text": [
      "EPOCH 9600: LOSS=0.0712 | LOSS u,v,p=(0.0039, 0.0032, 0.0276)\n"
     ]
    },
    {
     "name": "stderr",
     "output_type": "stream",
     "text": [
      " 49%|██████████████████▍                   | 9704/20001 [10:17<10:48, 15.87it/s]"
     ]
    },
    {
     "name": "stdout",
     "output_type": "stream",
     "text": [
      "EPOCH 9700: LOSS=0.0109 | LOSS u,v,p=(0.0012, 0.0013, 0.046)\n"
     ]
    },
    {
     "name": "stderr",
     "output_type": "stream",
     "text": [
      " 49%|██████████████████▋                   | 9804/20001 [10:24<10:44, 15.83it/s]"
     ]
    },
    {
     "name": "stdout",
     "output_type": "stream",
     "text": [
      "EPOCH 9800: LOSS=0.0329 | LOSS u,v,p=(0.0014, 0.0018, 0.0455)\n"
     ]
    },
    {
     "name": "stderr",
     "output_type": "stream",
     "text": [
      " 50%|██████████████████▊                   | 9904/20001 [10:30<10:39, 15.80it/s]"
     ]
    },
    {
     "name": "stdout",
     "output_type": "stream",
     "text": [
      "EPOCH 9900: LOSS=0.0125 | LOSS u,v,p=(0.0013, 0.0015, 0.0778)\n"
     ]
    },
    {
     "name": "stderr",
     "output_type": "stream",
     "text": [
      " 50%|██████████████████▌                  | 10004/20001 [10:36<10:27, 15.94it/s]"
     ]
    },
    {
     "name": "stdout",
     "output_type": "stream",
     "text": [
      "EPOCH 10000: LOSS=0.0104 | LOSS u,v,p=(0.0014, 0.0016, 0.0449)\n"
     ]
    },
    {
     "name": "stderr",
     "output_type": "stream",
     "text": [
      " 51%|██████████████████▋                  | 10104/20001 [10:43<10:18, 15.99it/s]"
     ]
    },
    {
     "name": "stdout",
     "output_type": "stream",
     "text": [
      "EPOCH 10100: LOSS=0.0221 | LOSS u,v,p=(0.0014, 0.002, 0.0529)\n"
     ]
    },
    {
     "name": "stderr",
     "output_type": "stream",
     "text": [
      " 51%|██████████████████▉                  | 10204/20001 [10:49<10:23, 15.72it/s]"
     ]
    },
    {
     "name": "stdout",
     "output_type": "stream",
     "text": [
      "EPOCH 10200: LOSS=0.0259 | LOSS u,v,p=(0.001, 0.0015, 0.0455)\n"
     ]
    },
    {
     "name": "stderr",
     "output_type": "stream",
     "text": [
      " 52%|███████████████████                  | 10304/20001 [10:55<10:11, 15.85it/s]"
     ]
    },
    {
     "name": "stdout",
     "output_type": "stream",
     "text": [
      "EPOCH 10300: LOSS=0.0081 | LOSS u,v,p=(0.0008, 0.0015, 0.058)\n"
     ]
    },
    {
     "name": "stderr",
     "output_type": "stream",
     "text": [
      " 52%|███████████████████▏                 | 10404/20001 [11:02<10:02, 15.92it/s]"
     ]
    },
    {
     "name": "stdout",
     "output_type": "stream",
     "text": [
      "EPOCH 10400: LOSS=0.0045 | LOSS u,v,p=(0.0009, 0.0013, 0.0544)\n"
     ]
    },
    {
     "name": "stderr",
     "output_type": "stream",
     "text": [
      " 53%|███████████████████▍                 | 10504/20001 [11:08<10:01, 15.78it/s]"
     ]
    },
    {
     "name": "stdout",
     "output_type": "stream",
     "text": [
      "EPOCH 10500: LOSS=0.014 | LOSS u,v,p=(0.0017, 0.002, 0.0539)\n"
     ]
    },
    {
     "name": "stderr",
     "output_type": "stream",
     "text": [
      " 53%|███████████████████▌                 | 10604/20001 [11:14<09:49, 15.94it/s]"
     ]
    },
    {
     "name": "stdout",
     "output_type": "stream",
     "text": [
      "EPOCH 10600: LOSS=0.0102 | LOSS u,v,p=(0.0013, 0.0013, 0.042)\n"
     ]
    },
    {
     "name": "stderr",
     "output_type": "stream",
     "text": [
      " 54%|███████████████████▊                 | 10704/20001 [11:21<09:44, 15.91it/s]"
     ]
    },
    {
     "name": "stdout",
     "output_type": "stream",
     "text": [
      "EPOCH 10700: LOSS=0.0244 | LOSS u,v,p=(0.0013, 0.0014, 0.0216)\n"
     ]
    },
    {
     "name": "stderr",
     "output_type": "stream",
     "text": [
      " 54%|███████████████████▉                 | 10804/20001 [11:27<09:36, 15.95it/s]"
     ]
    },
    {
     "name": "stdout",
     "output_type": "stream",
     "text": [
      "EPOCH 10800: LOSS=0.0141 | LOSS u,v,p=(0.0011, 0.0018, 0.0267)\n"
     ]
    },
    {
     "name": "stderr",
     "output_type": "stream",
     "text": [
      " 55%|████████████████████▏                | 10904/20001 [11:33<09:33, 15.86it/s]"
     ]
    },
    {
     "name": "stdout",
     "output_type": "stream",
     "text": [
      "EPOCH 10900: LOSS=0.0123 | LOSS u,v,p=(0.002, 0.0031, 0.0151)\n"
     ]
    },
    {
     "name": "stderr",
     "output_type": "stream",
     "text": [
      " 55%|████████████████████▎                | 11004/20001 [11:40<09:30, 15.78it/s]"
     ]
    },
    {
     "name": "stdout",
     "output_type": "stream",
     "text": [
      "EPOCH 11000: LOSS=0.0074 | LOSS u,v,p=(0.0009, 0.0012, 0.0091)\n"
     ]
    },
    {
     "name": "stderr",
     "output_type": "stream",
     "text": [
      " 56%|████████████████████▌                | 11104/20001 [11:46<09:21, 15.85it/s]"
     ]
    },
    {
     "name": "stdout",
     "output_type": "stream",
     "text": [
      "EPOCH 11100: LOSS=0.0284 | LOSS u,v,p=(0.0012, 0.0018, 0.0256)\n"
     ]
    },
    {
     "name": "stderr",
     "output_type": "stream",
     "text": [
      " 56%|████████████████████▋                | 11204/20001 [11:52<09:18, 15.74it/s]"
     ]
    },
    {
     "name": "stdout",
     "output_type": "stream",
     "text": [
      "EPOCH 11200: LOSS=0.0186 | LOSS u,v,p=(0.0008, 0.0012, 0.0209)\n"
     ]
    },
    {
     "name": "stderr",
     "output_type": "stream",
     "text": [
      " 57%|████████████████████▉                | 11304/20001 [11:59<09:05, 15.94it/s]"
     ]
    },
    {
     "name": "stdout",
     "output_type": "stream",
     "text": [
      "EPOCH 11300: LOSS=0.0315 | LOSS u,v,p=(0.0016, 0.0012, 0.0557)\n"
     ]
    },
    {
     "name": "stderr",
     "output_type": "stream",
     "text": [
      " 57%|█████████████████████                | 11404/20001 [12:05<09:17, 15.42it/s]"
     ]
    },
    {
     "name": "stdout",
     "output_type": "stream",
     "text": [
      "EPOCH 11400: LOSS=0.0136 | LOSS u,v,p=(0.0009, 0.0012, 0.0566)\n"
     ]
    },
    {
     "name": "stderr",
     "output_type": "stream",
     "text": [
      " 58%|█████████████████████▎               | 11504/20001 [12:12<08:54, 15.88it/s]"
     ]
    },
    {
     "name": "stdout",
     "output_type": "stream",
     "text": [
      "EPOCH 11500: LOSS=0.0175 | LOSS u,v,p=(0.0013, 0.0022, 0.0595)\n"
     ]
    },
    {
     "name": "stderr",
     "output_type": "stream",
     "text": [
      " 58%|█████████████████████▍               | 11604/20001 [12:18<08:48, 15.89it/s]"
     ]
    },
    {
     "name": "stdout",
     "output_type": "stream",
     "text": [
      "EPOCH 11600: LOSS=0.0332 | LOSS u,v,p=(0.0009, 0.001, 0.1)\n"
     ]
    },
    {
     "name": "stderr",
     "output_type": "stream",
     "text": [
      " 59%|█████████████████████▋               | 11704/20001 [12:24<08:45, 15.79it/s]"
     ]
    },
    {
     "name": "stdout",
     "output_type": "stream",
     "text": [
      "EPOCH 11700: LOSS=0.0279 | LOSS u,v,p=(0.0013, 0.0012, 0.1488)\n"
     ]
    },
    {
     "name": "stderr",
     "output_type": "stream",
     "text": [
      " 59%|█████████████████████▊               | 11804/20001 [12:31<08:36, 15.88it/s]"
     ]
    },
    {
     "name": "stdout",
     "output_type": "stream",
     "text": [
      "EPOCH 11800: LOSS=0.0123 | LOSS u,v,p=(0.0009, 0.0015, 0.2396)\n"
     ]
    },
    {
     "name": "stderr",
     "output_type": "stream",
     "text": [
      " 60%|██████████████████████               | 11904/20001 [12:37<08:32, 15.81it/s]"
     ]
    },
    {
     "name": "stdout",
     "output_type": "stream",
     "text": [
      "EPOCH 11900: LOSS=0.0251 | LOSS u,v,p=(0.0007, 0.001, 0.2871)\n"
     ]
    },
    {
     "name": "stderr",
     "output_type": "stream",
     "text": [
      " 60%|██████████████████████▏              | 12004/20001 [12:43<08:22, 15.91it/s]"
     ]
    },
    {
     "name": "stdout",
     "output_type": "stream",
     "text": [
      "EPOCH 12000: LOSS=0.0055 | LOSS u,v,p=(0.0008, 0.001, 0.3205)\n"
     ]
    },
    {
     "name": "stderr",
     "output_type": "stream",
     "text": [
      " 61%|██████████████████████▍              | 12104/20001 [12:50<08:21, 15.75it/s]"
     ]
    },
    {
     "name": "stdout",
     "output_type": "stream",
     "text": [
      "EPOCH 12100: LOSS=0.0118 | LOSS u,v,p=(0.0008, 0.0009, 0.3541)\n"
     ]
    },
    {
     "name": "stderr",
     "output_type": "stream",
     "text": [
      " 61%|██████████████████████▌              | 12204/20001 [12:56<08:11, 15.85it/s]"
     ]
    },
    {
     "name": "stdout",
     "output_type": "stream",
     "text": [
      "EPOCH 12200: LOSS=0.0149 | LOSS u,v,p=(0.0012, 0.0013, 0.4253)\n"
     ]
    },
    {
     "name": "stderr",
     "output_type": "stream",
     "text": [
      " 62%|██████████████████████▊              | 12304/20001 [13:02<08:02, 15.96it/s]"
     ]
    },
    {
     "name": "stdout",
     "output_type": "stream",
     "text": [
      "EPOCH 12300: LOSS=0.008 | LOSS u,v,p=(0.0007, 0.0011, 0.4278)\n"
     ]
    },
    {
     "name": "stderr",
     "output_type": "stream",
     "text": [
      " 62%|██████████████████████▉              | 12404/20001 [13:09<07:55, 15.99it/s]"
     ]
    },
    {
     "name": "stdout",
     "output_type": "stream",
     "text": [
      "EPOCH 12400: LOSS=0.0103 | LOSS u,v,p=(0.0009, 0.001, 0.3975)\n"
     ]
    },
    {
     "name": "stderr",
     "output_type": "stream",
     "text": [
      " 63%|███████████████████████▏             | 12504/20001 [13:15<07:52, 15.86it/s]"
     ]
    },
    {
     "name": "stdout",
     "output_type": "stream",
     "text": [
      "EPOCH 12500: LOSS=0.0167 | LOSS u,v,p=(0.0011, 0.0014, 0.4494)\n"
     ]
    },
    {
     "name": "stderr",
     "output_type": "stream",
     "text": [
      " 63%|███████████████████████▎             | 12604/20001 [13:22<07:49, 15.75it/s]"
     ]
    },
    {
     "name": "stdout",
     "output_type": "stream",
     "text": [
      "EPOCH 12600: LOSS=0.0159 | LOSS u,v,p=(0.0015, 0.0022, 0.4618)\n"
     ]
    },
    {
     "name": "stderr",
     "output_type": "stream",
     "text": [
      " 64%|███████████████████████▌             | 12704/20001 [13:28<07:38, 15.92it/s]"
     ]
    },
    {
     "name": "stdout",
     "output_type": "stream",
     "text": [
      "EPOCH 12700: LOSS=0.0206 | LOSS u,v,p=(0.0008, 0.001, 0.4153)\n"
     ]
    },
    {
     "name": "stderr",
     "output_type": "stream",
     "text": [
      " 64%|███████████████████████▋             | 12804/20001 [13:34<07:32, 15.92it/s]"
     ]
    },
    {
     "name": "stdout",
     "output_type": "stream",
     "text": [
      "EPOCH 12800: LOSS=0.0117 | LOSS u,v,p=(0.0011, 0.0011, 0.327)\n"
     ]
    },
    {
     "name": "stderr",
     "output_type": "stream",
     "text": [
      " 65%|███████████████████████▊             | 12904/20001 [13:41<07:25, 15.91it/s]"
     ]
    },
    {
     "name": "stdout",
     "output_type": "stream",
     "text": [
      "EPOCH 12900: LOSS=0.0263 | LOSS u,v,p=(0.001, 0.0014, 0.34)\n"
     ]
    },
    {
     "name": "stderr",
     "output_type": "stream",
     "text": [
      " 65%|████████████████████████             | 13004/20001 [13:47<07:19, 15.92it/s]"
     ]
    },
    {
     "name": "stdout",
     "output_type": "stream",
     "text": [
      "EPOCH 13000: LOSS=0.0051 | LOSS u,v,p=(0.0008, 0.0013, 0.3941)\n"
     ]
    },
    {
     "name": "stderr",
     "output_type": "stream",
     "text": [
      " 66%|████████████████████████▏            | 13104/20001 [13:53<07:13, 15.89it/s]"
     ]
    },
    {
     "name": "stdout",
     "output_type": "stream",
     "text": [
      "EPOCH 13100: LOSS=0.0155 | LOSS u,v,p=(0.0009, 0.0012, 0.4734)\n"
     ]
    },
    {
     "name": "stderr",
     "output_type": "stream",
     "text": [
      " 66%|████████████████████████▍            | 13204/20001 [14:00<07:12, 15.71it/s]"
     ]
    },
    {
     "name": "stdout",
     "output_type": "stream",
     "text": [
      "EPOCH 13200: LOSS=0.0838 | LOSS u,v,p=(0.0012, 0.0013, 0.558)\n"
     ]
    },
    {
     "name": "stderr",
     "output_type": "stream",
     "text": [
      " 67%|████████████████████████▌            | 13304/20001 [14:06<07:07, 15.65it/s]"
     ]
    },
    {
     "name": "stdout",
     "output_type": "stream",
     "text": [
      "EPOCH 13300: LOSS=0.0293 | LOSS u,v,p=(0.0012, 0.0013, 0.5372)\n"
     ]
    },
    {
     "name": "stderr",
     "output_type": "stream",
     "text": [
      " 67%|████████████████████████▊            | 13404/20001 [14:12<06:55, 15.87it/s]"
     ]
    },
    {
     "name": "stdout",
     "output_type": "stream",
     "text": [
      "EPOCH 13400: LOSS=0.0291 | LOSS u,v,p=(0.0016, 0.0016, 0.5043)\n"
     ]
    },
    {
     "name": "stderr",
     "output_type": "stream",
     "text": [
      " 68%|████████████████████████▉            | 13504/20001 [14:19<06:51, 15.78it/s]"
     ]
    },
    {
     "name": "stdout",
     "output_type": "stream",
     "text": [
      "EPOCH 13500: LOSS=0.0149 | LOSS u,v,p=(0.0011, 0.0014, 0.414)\n"
     ]
    },
    {
     "name": "stderr",
     "output_type": "stream",
     "text": [
      " 68%|█████████████████████████▏           | 13604/20001 [14:25<06:39, 16.03it/s]"
     ]
    },
    {
     "name": "stdout",
     "output_type": "stream",
     "text": [
      "EPOCH 13600: LOSS=0.0133 | LOSS u,v,p=(0.001, 0.0012, 0.4664)\n"
     ]
    },
    {
     "name": "stderr",
     "output_type": "stream",
     "text": [
      " 69%|█████████████████████████▎           | 13704/20001 [14:31<06:35, 15.93it/s]"
     ]
    },
    {
     "name": "stdout",
     "output_type": "stream",
     "text": [
      "EPOCH 13700: LOSS=0.0127 | LOSS u,v,p=(0.0007, 0.0011, 0.4709)\n"
     ]
    },
    {
     "name": "stderr",
     "output_type": "stream",
     "text": [
      " 69%|█████████████████████████▌           | 13804/20001 [14:38<06:29, 15.93it/s]"
     ]
    },
    {
     "name": "stdout",
     "output_type": "stream",
     "text": [
      "EPOCH 13800: LOSS=0.016 | LOSS u,v,p=(0.0009, 0.0014, 0.4769)\n"
     ]
    },
    {
     "name": "stderr",
     "output_type": "stream",
     "text": [
      " 70%|█████████████████████████▋           | 13904/20001 [14:44<06:28, 15.70it/s]"
     ]
    },
    {
     "name": "stdout",
     "output_type": "stream",
     "text": [
      "EPOCH 13900: LOSS=0.0133 | LOSS u,v,p=(0.001, 0.0011, 0.4448)\n"
     ]
    },
    {
     "name": "stderr",
     "output_type": "stream",
     "text": [
      " 70%|█████████████████████████▉           | 14004/20001 [14:51<06:19, 15.79it/s]"
     ]
    },
    {
     "name": "stdout",
     "output_type": "stream",
     "text": [
      "EPOCH 14000: LOSS=0.0081 | LOSS u,v,p=(0.0006, 0.0009, 0.518)\n"
     ]
    },
    {
     "name": "stderr",
     "output_type": "stream",
     "text": [
      " 71%|██████████████████████████           | 14104/20001 [14:57<06:11, 15.89it/s]"
     ]
    },
    {
     "name": "stdout",
     "output_type": "stream",
     "text": [
      "EPOCH 14100: LOSS=0.0221 | LOSS u,v,p=(0.0005, 0.0008, 0.5025)\n"
     ]
    },
    {
     "name": "stderr",
     "output_type": "stream",
     "text": [
      " 71%|██████████████████████████▎          | 14204/20001 [15:03<06:07, 15.77it/s]"
     ]
    },
    {
     "name": "stdout",
     "output_type": "stream",
     "text": [
      "EPOCH 14200: LOSS=0.0062 | LOSS u,v,p=(0.0006, 0.0009, 0.4713)\n"
     ]
    },
    {
     "name": "stderr",
     "output_type": "stream",
     "text": [
      " 72%|██████████████████████████▍          | 14304/20001 [15:10<05:59, 15.86it/s]"
     ]
    },
    {
     "name": "stdout",
     "output_type": "stream",
     "text": [
      "EPOCH 14300: LOSS=0.0241 | LOSS u,v,p=(0.0008, 0.0011, 0.4795)\n"
     ]
    },
    {
     "name": "stderr",
     "output_type": "stream",
     "text": [
      " 72%|██████████████████████████▋          | 14404/20001 [15:16<05:51, 15.94it/s]"
     ]
    },
    {
     "name": "stdout",
     "output_type": "stream",
     "text": [
      "EPOCH 14400: LOSS=0.0116 | LOSS u,v,p=(0.0009, 0.0011, 0.5254)\n"
     ]
    },
    {
     "name": "stderr",
     "output_type": "stream",
     "text": [
      " 73%|██████████████████████████▊          | 14504/20001 [15:22<05:44, 15.97it/s]"
     ]
    },
    {
     "name": "stdout",
     "output_type": "stream",
     "text": [
      "EPOCH 14500: LOSS=0.0062 | LOSS u,v,p=(0.0008, 0.0012, 0.4663)\n"
     ]
    },
    {
     "name": "stderr",
     "output_type": "stream",
     "text": [
      " 73%|███████████████████████████          | 14604/20001 [15:29<05:40, 15.85it/s]"
     ]
    },
    {
     "name": "stdout",
     "output_type": "stream",
     "text": [
      "EPOCH 14600: LOSS=0.0146 | LOSS u,v,p=(0.0007, 0.0011, 0.4564)\n"
     ]
    },
    {
     "name": "stderr",
     "output_type": "stream",
     "text": [
      " 74%|███████████████████████████▏         | 14702/20001 [15:35<05:44, 15.40it/s]"
     ]
    },
    {
     "name": "stdout",
     "output_type": "stream",
     "text": [
      "EPOCH 14700: LOSS=0.0146 | LOSS u,v,p=(0.0007, 0.0006, 0.4843)\n"
     ]
    },
    {
     "name": "stderr",
     "output_type": "stream",
     "text": [
      " 74%|███████████████████████████▍         | 14804/20001 [15:41<05:27, 15.85it/s]"
     ]
    },
    {
     "name": "stdout",
     "output_type": "stream",
     "text": [
      "EPOCH 14800: LOSS=0.0313 | LOSS u,v,p=(0.001, 0.0012, 0.4898)\n"
     ]
    },
    {
     "name": "stderr",
     "output_type": "stream",
     "text": [
      " 75%|███████████████████████████▌         | 14904/20001 [15:48<05:21, 15.86it/s]"
     ]
    },
    {
     "name": "stdout",
     "output_type": "stream",
     "text": [
      "EPOCH 14900: LOSS=0.0119 | LOSS u,v,p=(0.001, 0.0016, 0.4388)\n"
     ]
    },
    {
     "name": "stderr",
     "output_type": "stream",
     "text": [
      " 75%|███████████████████████████▊         | 15004/20001 [15:54<05:13, 15.93it/s]"
     ]
    },
    {
     "name": "stdout",
     "output_type": "stream",
     "text": [
      "EPOCH 15000: LOSS=0.0122 | LOSS u,v,p=(0.0006, 0.0008, 0.4779)\n"
     ]
    },
    {
     "name": "stderr",
     "output_type": "stream",
     "text": [
      " 76%|███████████████████████████▉         | 15104/20001 [16:00<05:09, 15.84it/s]"
     ]
    },
    {
     "name": "stdout",
     "output_type": "stream",
     "text": [
      "EPOCH 15100: LOSS=0.0105 | LOSS u,v,p=(0.0009, 0.0012, 0.4637)\n"
     ]
    },
    {
     "name": "stderr",
     "output_type": "stream",
     "text": [
      " 76%|████████████████████████████▏        | 15204/20001 [16:07<05:03, 15.81it/s]"
     ]
    },
    {
     "name": "stdout",
     "output_type": "stream",
     "text": [
      "EPOCH 15200: LOSS=0.007 | LOSS u,v,p=(0.0009, 0.0009, 0.3767)\n"
     ]
    },
    {
     "name": "stderr",
     "output_type": "stream",
     "text": [
      " 77%|████████████████████████████▎        | 15304/20001 [16:13<04:55, 15.87it/s]"
     ]
    },
    {
     "name": "stdout",
     "output_type": "stream",
     "text": [
      "EPOCH 15300: LOSS=0.0072 | LOSS u,v,p=(0.0006, 0.0008, 0.3432)\n"
     ]
    },
    {
     "name": "stderr",
     "output_type": "stream",
     "text": [
      " 77%|████████████████████████████▍        | 15404/20001 [16:19<04:48, 15.92it/s]"
     ]
    },
    {
     "name": "stdout",
     "output_type": "stream",
     "text": [
      "EPOCH 15400: LOSS=0.0196 | LOSS u,v,p=(0.0008, 0.001, 0.2978)\n"
     ]
    },
    {
     "name": "stderr",
     "output_type": "stream",
     "text": [
      " 78%|████████████████████████████▋        | 15504/20001 [16:26<04:40, 16.00it/s]"
     ]
    },
    {
     "name": "stdout",
     "output_type": "stream",
     "text": [
      "EPOCH 15500: LOSS=0.0139 | LOSS u,v,p=(0.0007, 0.001, 0.3762)\n"
     ]
    },
    {
     "name": "stderr",
     "output_type": "stream",
     "text": [
      " 78%|████████████████████████████▊        | 15604/20001 [16:32<04:37, 15.84it/s]"
     ]
    },
    {
     "name": "stdout",
     "output_type": "stream",
     "text": [
      "EPOCH 15600: LOSS=0.0228 | LOSS u,v,p=(0.0013, 0.0017, 0.3675)\n"
     ]
    },
    {
     "name": "stderr",
     "output_type": "stream",
     "text": [
      " 79%|█████████████████████████████        | 15704/20001 [16:38<04:31, 15.85it/s]"
     ]
    },
    {
     "name": "stdout",
     "output_type": "stream",
     "text": [
      "EPOCH 15700: LOSS=0.0133 | LOSS u,v,p=(0.0007, 0.0009, 0.3799)\n"
     ]
    },
    {
     "name": "stderr",
     "output_type": "stream",
     "text": [
      " 79%|█████████████████████████████▏       | 15804/20001 [16:45<04:22, 16.00it/s]"
     ]
    },
    {
     "name": "stdout",
     "output_type": "stream",
     "text": [
      "EPOCH 15800: LOSS=0.0186 | LOSS u,v,p=(0.0008, 0.0008, 0.3689)\n"
     ]
    },
    {
     "name": "stderr",
     "output_type": "stream",
     "text": [
      " 80%|█████████████████████████████▍       | 15904/20001 [16:51<04:20, 15.71it/s]"
     ]
    },
    {
     "name": "stdout",
     "output_type": "stream",
     "text": [
      "EPOCH 15900: LOSS=0.0102 | LOSS u,v,p=(0.0008, 0.0012, 0.3348)\n"
     ]
    },
    {
     "name": "stderr",
     "output_type": "stream",
     "text": [
      " 80%|█████████████████████████████▌       | 16004/20001 [16:58<04:13, 15.79it/s]"
     ]
    },
    {
     "name": "stdout",
     "output_type": "stream",
     "text": [
      "EPOCH 16000: LOSS=0.0082 | LOSS u,v,p=(0.0009, 0.0009, 0.3374)\n"
     ]
    },
    {
     "name": "stderr",
     "output_type": "stream",
     "text": [
      " 81%|█████████████████████████████▊       | 16104/20001 [17:04<04:04, 15.93it/s]"
     ]
    },
    {
     "name": "stdout",
     "output_type": "stream",
     "text": [
      "EPOCH 16100: LOSS=0.0246 | LOSS u,v,p=(0.0008, 0.0008, 0.4023)\n"
     ]
    },
    {
     "name": "stderr",
     "output_type": "stream",
     "text": [
      " 81%|█████████████████████████████▉       | 16204/20001 [17:10<04:00, 15.77it/s]"
     ]
    },
    {
     "name": "stdout",
     "output_type": "stream",
     "text": [
      "EPOCH 16200: LOSS=0.0231 | LOSS u,v,p=(0.0015, 0.0019, 0.4759)\n"
     ]
    },
    {
     "name": "stderr",
     "output_type": "stream",
     "text": [
      " 82%|██████████████████████████████▏      | 16304/20001 [17:17<03:51, 15.94it/s]"
     ]
    },
    {
     "name": "stdout",
     "output_type": "stream",
     "text": [
      "EPOCH 16300: LOSS=0.0317 | LOSS u,v,p=(0.0007, 0.0007, 0.4882)\n"
     ]
    },
    {
     "name": "stderr",
     "output_type": "stream",
     "text": [
      " 82%|██████████████████████████████▎      | 16404/20001 [17:23<03:49, 15.71it/s]"
     ]
    },
    {
     "name": "stdout",
     "output_type": "stream",
     "text": [
      "EPOCH 16400: LOSS=0.0337 | LOSS u,v,p=(0.0012, 0.0013, 0.4638)\n"
     ]
    },
    {
     "name": "stderr",
     "output_type": "stream",
     "text": [
      " 83%|██████████████████████████████▌      | 16504/20001 [17:29<03:39, 15.93it/s]"
     ]
    },
    {
     "name": "stdout",
     "output_type": "stream",
     "text": [
      "EPOCH 16500: LOSS=0.0139 | LOSS u,v,p=(0.0007, 0.0009, 0.3561)\n"
     ]
    },
    {
     "name": "stderr",
     "output_type": "stream",
     "text": [
      " 83%|██████████████████████████████▋      | 16604/20001 [17:36<03:36, 15.69it/s]"
     ]
    },
    {
     "name": "stdout",
     "output_type": "stream",
     "text": [
      "EPOCH 16600: LOSS=0.0108 | LOSS u,v,p=(0.0009, 0.0012, 0.4312)\n"
     ]
    },
    {
     "name": "stderr",
     "output_type": "stream",
     "text": [
      " 84%|██████████████████████████████▉      | 16704/20001 [17:42<03:28, 15.85it/s]"
     ]
    },
    {
     "name": "stdout",
     "output_type": "stream",
     "text": [
      "EPOCH 16700: LOSS=0.0077 | LOSS u,v,p=(0.0006, 0.001, 0.4418)\n"
     ]
    },
    {
     "name": "stderr",
     "output_type": "stream",
     "text": [
      " 84%|███████████████████████████████      | 16804/20001 [17:48<03:20, 15.96it/s]"
     ]
    },
    {
     "name": "stdout",
     "output_type": "stream",
     "text": [
      "EPOCH 16800: LOSS=0.0081 | LOSS u,v,p=(0.0009, 0.0012, 0.4238)\n"
     ]
    },
    {
     "name": "stderr",
     "output_type": "stream",
     "text": [
      " 85%|███████████████████████████████▎     | 16904/20001 [17:55<03:18, 15.59it/s]"
     ]
    },
    {
     "name": "stdout",
     "output_type": "stream",
     "text": [
      "EPOCH 16900: LOSS=0.0241 | LOSS u,v,p=(0.0006, 0.0007, 0.4271)\n"
     ]
    },
    {
     "name": "stderr",
     "output_type": "stream",
     "text": [
      " 85%|███████████████████████████████▍     | 17004/20001 [18:01<03:09, 15.85it/s]"
     ]
    },
    {
     "name": "stdout",
     "output_type": "stream",
     "text": [
      "EPOCH 17000: LOSS=0.0051 | LOSS u,v,p=(0.0006, 0.001, 0.3182)\n"
     ]
    },
    {
     "name": "stderr",
     "output_type": "stream",
     "text": [
      " 86%|███████████████████████████████▋     | 17104/20001 [18:08<03:02, 15.86it/s]"
     ]
    },
    {
     "name": "stdout",
     "output_type": "stream",
     "text": [
      "EPOCH 17100: LOSS=0.0373 | LOSS u,v,p=(0.0016, 0.0019, 0.2491)\n"
     ]
    },
    {
     "name": "stderr",
     "output_type": "stream",
     "text": [
      " 86%|███████████████████████████████▊     | 17204/20001 [18:14<02:56, 15.87it/s]"
     ]
    },
    {
     "name": "stdout",
     "output_type": "stream",
     "text": [
      "EPOCH 17200: LOSS=0.0161 | LOSS u,v,p=(0.001, 0.0013, 0.2038)\n"
     ]
    },
    {
     "name": "stderr",
     "output_type": "stream",
     "text": [
      " 87%|████████████████████████████████     | 17304/20001 [18:20<02:51, 15.73it/s]"
     ]
    },
    {
     "name": "stdout",
     "output_type": "stream",
     "text": [
      "EPOCH 17300: LOSS=0.0167 | LOSS u,v,p=(0.0005, 0.0008, 0.167)\n"
     ]
    },
    {
     "name": "stderr",
     "output_type": "stream",
     "text": [
      " 87%|████████████████████████████████▏    | 17404/20001 [18:27<02:43, 15.88it/s]"
     ]
    },
    {
     "name": "stdout",
     "output_type": "stream",
     "text": [
      "EPOCH 17400: LOSS=0.0566 | LOSS u,v,p=(0.0016, 0.0008, 0.1441)\n"
     ]
    },
    {
     "name": "stderr",
     "output_type": "stream",
     "text": [
      " 88%|████████████████████████████████▍    | 17504/20001 [18:33<02:36, 15.96it/s]"
     ]
    },
    {
     "name": "stdout",
     "output_type": "stream",
     "text": [
      "EPOCH 17500: LOSS=0.0057 | LOSS u,v,p=(0.0007, 0.0013, 0.1994)\n"
     ]
    },
    {
     "name": "stderr",
     "output_type": "stream",
     "text": [
      " 88%|████████████████████████████████▌    | 17604/20001 [18:39<02:30, 15.98it/s]"
     ]
    },
    {
     "name": "stdout",
     "output_type": "stream",
     "text": [
      "EPOCH 17600: LOSS=0.005 | LOSS u,v,p=(0.0004, 0.0005, 0.2331)\n"
     ]
    },
    {
     "name": "stderr",
     "output_type": "stream",
     "text": [
      " 89%|████████████████████████████████▊    | 17704/20001 [18:46<02:25, 15.76it/s]"
     ]
    },
    {
     "name": "stdout",
     "output_type": "stream",
     "text": [
      "EPOCH 17700: LOSS=0.0058 | LOSS u,v,p=(0.0005, 0.0008, 0.2187)\n"
     ]
    },
    {
     "name": "stderr",
     "output_type": "stream",
     "text": [
      " 89%|████████████████████████████████▉    | 17804/20001 [18:52<02:18, 15.88it/s]"
     ]
    },
    {
     "name": "stdout",
     "output_type": "stream",
     "text": [
      "EPOCH 17800: LOSS=0.0123 | LOSS u,v,p=(0.0006, 0.0008, 0.2407)\n"
     ]
    },
    {
     "name": "stderr",
     "output_type": "stream",
     "text": [
      " 90%|█████████████████████████████████    | 17904/20001 [18:58<02:12, 15.84it/s]"
     ]
    },
    {
     "name": "stdout",
     "output_type": "stream",
     "text": [
      "EPOCH 17900: LOSS=0.0284 | LOSS u,v,p=(0.0005, 0.0008, 0.1909)\n"
     ]
    },
    {
     "name": "stderr",
     "output_type": "stream",
     "text": [
      " 90%|█████████████████████████████████▎   | 18004/20001 [19:05<02:06, 15.80it/s]"
     ]
    },
    {
     "name": "stdout",
     "output_type": "stream",
     "text": [
      "EPOCH 18000: LOSS=0.0183 | LOSS u,v,p=(0.0008, 0.0008, 0.1386)\n"
     ]
    },
    {
     "name": "stderr",
     "output_type": "stream",
     "text": [
      " 91%|█████████████████████████████████▍   | 18104/20001 [19:11<02:00, 15.79it/s]"
     ]
    },
    {
     "name": "stdout",
     "output_type": "stream",
     "text": [
      "EPOCH 18100: LOSS=0.0143 | LOSS u,v,p=(0.0006, 0.0009, 0.1579)\n"
     ]
    },
    {
     "name": "stderr",
     "output_type": "stream",
     "text": [
      " 91%|█████████████████████████████████▋   | 18204/20001 [19:17<01:53, 15.87it/s]"
     ]
    },
    {
     "name": "stdout",
     "output_type": "stream",
     "text": [
      "EPOCH 18200: LOSS=0.0083 | LOSS u,v,p=(0.0005, 0.0006, 0.1813)\n"
     ]
    },
    {
     "name": "stderr",
     "output_type": "stream",
     "text": [
      " 92%|█████████████████████████████████▊   | 18304/20001 [19:24<01:46, 15.88it/s]"
     ]
    },
    {
     "name": "stdout",
     "output_type": "stream",
     "text": [
      "EPOCH 18300: LOSS=0.0147 | LOSS u,v,p=(0.0006, 0.0008, 0.2111)\n"
     ]
    },
    {
     "name": "stderr",
     "output_type": "stream",
     "text": [
      " 92%|██████████████████████████████████   | 18404/20001 [19:30<01:41, 15.73it/s]"
     ]
    },
    {
     "name": "stdout",
     "output_type": "stream",
     "text": [
      "EPOCH 18400: LOSS=0.0078 | LOSS u,v,p=(0.001, 0.0013, 0.2821)\n"
     ]
    },
    {
     "name": "stderr",
     "output_type": "stream",
     "text": [
      " 93%|██████████████████████████████████▏  | 18504/20001 [19:36<01:35, 15.64it/s]"
     ]
    },
    {
     "name": "stdout",
     "output_type": "stream",
     "text": [
      "EPOCH 18500: LOSS=0.0084 | LOSS u,v,p=(0.0008, 0.0007, 0.3115)\n"
     ]
    },
    {
     "name": "stderr",
     "output_type": "stream",
     "text": [
      " 93%|██████████████████████████████████▍  | 18604/20001 [19:43<01:27, 15.88it/s]"
     ]
    },
    {
     "name": "stdout",
     "output_type": "stream",
     "text": [
      "EPOCH 18600: LOSS=0.0333 | LOSS u,v,p=(0.001, 0.0021, 0.3564)\n"
     ]
    },
    {
     "name": "stderr",
     "output_type": "stream",
     "text": [
      " 94%|██████████████████████████████████▌  | 18704/20001 [19:49<01:21, 15.92it/s]"
     ]
    },
    {
     "name": "stdout",
     "output_type": "stream",
     "text": [
      "EPOCH 18700: LOSS=0.0264 | LOSS u,v,p=(0.0006, 0.001, 0.4111)\n"
     ]
    },
    {
     "name": "stderr",
     "output_type": "stream",
     "text": [
      " 94%|██████████████████████████████████▊  | 18804/20001 [19:55<01:15, 15.83it/s]"
     ]
    },
    {
     "name": "stdout",
     "output_type": "stream",
     "text": [
      "EPOCH 18800: LOSS=0.0315 | LOSS u,v,p=(0.0008, 0.0011, 0.37)\n"
     ]
    },
    {
     "name": "stderr",
     "output_type": "stream",
     "text": [
      " 95%|██████████████████████████████████▉  | 18904/20001 [20:02<01:08, 15.93it/s]"
     ]
    },
    {
     "name": "stdout",
     "output_type": "stream",
     "text": [
      "EPOCH 18900: LOSS=0.004 | LOSS u,v,p=(0.0008, 0.0014, 0.4047)\n"
     ]
    },
    {
     "name": "stderr",
     "output_type": "stream",
     "text": [
      " 95%|███████████████████████████████████▏ | 19004/20001 [20:08<01:02, 16.06it/s]"
     ]
    },
    {
     "name": "stdout",
     "output_type": "stream",
     "text": [
      "EPOCH 19000: LOSS=0.0211 | LOSS u,v,p=(0.0005, 0.0007, 0.4072)\n"
     ]
    },
    {
     "name": "stderr",
     "output_type": "stream",
     "text": [
      " 96%|███████████████████████████████████▎ | 19104/20001 [20:15<00:56, 15.82it/s]"
     ]
    },
    {
     "name": "stdout",
     "output_type": "stream",
     "text": [
      "EPOCH 19100: LOSS=0.023 | LOSS u,v,p=(0.0009, 0.0011, 0.4021)\n"
     ]
    },
    {
     "name": "stderr",
     "output_type": "stream",
     "text": [
      " 96%|███████████████████████████████████▌ | 19204/20001 [20:21<00:50, 15.90it/s]"
     ]
    },
    {
     "name": "stdout",
     "output_type": "stream",
     "text": [
      "EPOCH 19200: LOSS=0.0268 | LOSS u,v,p=(0.0008, 0.001, 0.4156)\n"
     ]
    },
    {
     "name": "stderr",
     "output_type": "stream",
     "text": [
      " 97%|███████████████████████████████████▋ | 19304/20001 [20:27<00:44, 15.76it/s]"
     ]
    },
    {
     "name": "stdout",
     "output_type": "stream",
     "text": [
      "EPOCH 19300: LOSS=0.0063 | LOSS u,v,p=(0.0006, 0.0009, 0.4617)\n"
     ]
    },
    {
     "name": "stderr",
     "output_type": "stream",
     "text": [
      " 97%|███████████████████████████████████▉ | 19404/20001 [20:34<00:37, 15.88it/s]"
     ]
    },
    {
     "name": "stdout",
     "output_type": "stream",
     "text": [
      "EPOCH 19400: LOSS=0.02 | LOSS u,v,p=(0.0011, 0.001, 0.5164)\n"
     ]
    },
    {
     "name": "stderr",
     "output_type": "stream",
     "text": [
      " 98%|████████████████████████████████████ | 19504/20001 [20:40<00:31, 16.01it/s]"
     ]
    },
    {
     "name": "stdout",
     "output_type": "stream",
     "text": [
      "EPOCH 19500: LOSS=0.0113 | LOSS u,v,p=(0.0006, 0.0008, 0.4951)\n"
     ]
    },
    {
     "name": "stderr",
     "output_type": "stream",
     "text": [
      " 98%|████████████████████████████████████▎| 19604/20001 [20:46<00:24, 15.99it/s]"
     ]
    },
    {
     "name": "stdout",
     "output_type": "stream",
     "text": [
      "EPOCH 19600: LOSS=0.0038 | LOSS u,v,p=(0.0005, 0.0007, 0.4316)\n"
     ]
    },
    {
     "name": "stderr",
     "output_type": "stream",
     "text": [
      " 99%|████████████████████████████████████▍| 19704/20001 [20:53<00:18, 15.88it/s]"
     ]
    },
    {
     "name": "stdout",
     "output_type": "stream",
     "text": [
      "EPOCH 19700: LOSS=0.0214 | LOSS u,v,p=(0.0008, 0.0013, 0.4165)\n"
     ]
    },
    {
     "name": "stderr",
     "output_type": "stream",
     "text": [
      " 99%|████████████████████████████████████▋| 19804/20001 [20:59<00:12, 15.82it/s]"
     ]
    },
    {
     "name": "stdout",
     "output_type": "stream",
     "text": [
      "EPOCH 19800: LOSS=0.0108 | LOSS u,v,p=(0.0006, 0.0008, 0.3823)\n"
     ]
    },
    {
     "name": "stderr",
     "output_type": "stream",
     "text": [
      "100%|████████████████████████████████████▊| 19904/20001 [21:05<00:06, 14.33it/s]"
     ]
    },
    {
     "name": "stdout",
     "output_type": "stream",
     "text": [
      "EPOCH 19900: LOSS=0.0259 | LOSS u,v,p=(0.0014, 0.001, 0.3976)\n"
     ]
    },
    {
     "name": "stderr",
     "output_type": "stream",
     "text": [
      "100%|█████████████████████████████████████| 20001/20001 [21:12<00:00, 15.72it/s]"
     ]
    },
    {
     "name": "stdout",
     "output_type": "stream",
     "text": [
      "EPOCH 20000: LOSS=0.0167 | LOSS u,v,p=(0.0004, 0.0005, 0.4321)\n"
     ]
    },
    {
     "name": "stderr",
     "output_type": "stream",
     "text": [
      "\n"
     ]
    }
   ],
   "source": [
    "torch.cuda.empty_cache()\n",
    "epochs = 20001\n",
    "losses=np.zeros((epochs, 5))\n",
    "\n",
    "TRAIN_KWARGS = {\n",
    "    \"losses\": losses, \n",
    "    \"adapt_weights\": False,\n",
    "    \"F\": 500\n",
    "}\n",
    "model.train(epochs, **TRAIN_KWARGS)"
   ]
  },
  {
   "cell_type": "code",
   "execution_count": 262,
   "id": "b95357df-2a28-4d0d-a82c-62c702cd0a75",
   "metadata": {},
   "outputs": [
    {
     "name": "stdout",
     "output_type": "stream",
     "text": [
      "u: Relative Error:0.007693396054880236 | Absolute MSE:0.0003684440744109452\n",
      "v: Relative Error:0.024322755924892088 | Absolute MSE:0.0005343505181372166\n",
      "p: Relative Error:38.900464084940076 | Absolute MSE:0.4306856691837311\n",
      "PDE Residue:0.002673621289432049 | BC:0.006546155083924532\n"
     ]
    }
   ],
   "source": [
    "with torch.no_grad():\n",
    "    torch.cuda.empty_cache()\n",
    "    sol_hat = model(x_train, y_train).detach().cpu()\n",
    "    abs_mse_u = mse_loss(sol_hat[:,0], sol_train[:,0].cpu()).item()\n",
    "    rel_err_u = mse_loss(sol_hat[:,0], sol_train[:,0].cpu()).item() / np.mean(np.square(sol_train[:,0].cpu().detach().numpy()))\n",
    "    abs_mse_v = mse_loss(sol_hat[:,1], sol_train[:,1].cpu()).item()\n",
    "    rel_err_v = mse_loss(sol_hat[:,1], sol_train[:,1].cpu()).item() / np.mean(np.square(sol_train[:,1].cpu().detach().numpy()))\n",
    "    abs_mse_p = mse_loss(sol_hat[:,2], sol_train[:,2].cpu()).item()\n",
    "    rel_err_p = mse_loss(sol_hat[:,2], sol_train[:,2].cpu()).item() / np.mean(np.square(sol_train[:,2].cpu().detach().numpy()))\n",
    "    print(f\"u: Relative Error:{rel_err_u} | Absolute MSE:{abs_mse_u}\")\n",
    "    print(f\"v: Relative Error:{rel_err_v} | Absolute MSE:{abs_mse_v}\")\n",
    "    print(f\"p: Relative Error:{rel_err_p} | Absolute MSE:{abs_mse_p}\")\n",
    "    \n",
    "    # BC\n",
    "    model.compute_boundaries(500)\n",
    "    model.compute_bc_loss()\n",
    "\n",
    "    # PDE\n",
    "    model.compute_pde_residues(random=False)\n",
    "    print(f\"PDE Residue:{model.L_pde.item()} | BC:{model.L_bc.item()}\")"
   ]
  },
  {
   "cell_type": "code",
   "execution_count": 284,
   "id": "0029c37a-1480-42e0-a470-9ec463f4dae2",
   "metadata": {},
   "outputs": [
    {
     "data": {
      "image/png": "[encoded data removed]",
      "text/plain": [
       "<Figure size 640x480 with 1 Axes>"
      ]
     },
     "metadata": {},
     "output_type": "display_data"
    }
   ],
   "source": [
    "def moving_window_avg(x, window=200):\n",
    "    x_avg = np.zeros(len(x) - window)\n",
    "    for i in range(len(x) - window):\n",
    "        x_avg[i] = np.mean(x[i:i+window])\n",
    "    return x_avg\n",
    "\n",
    "torch.save(losses, 'forward-train-losses.tensor')\n",
    "# plt.plot(losses[3:5000,0], c='salmon', alpha=0.3)\n",
    "# plt.plot(losses[3:5000,1], c='navy', alpha=0.3)\n",
    "plt.plot(moving_window_avg(losses[:5000,0].flatten()), c='salmon', linewidth=4, label='PDE Loss')\n",
    "plt.plot(moving_window_avg(losses[:5000,1].flatten()), c='navy', linewidth=4, label='BC Loss')\n",
    "# plt.plot(losses[:,0]+losses[:,1], label='Total Loss', alpha=0.6)\n",
    "plt.plot(moving_window_avg(losses[3:5000,2]), linewidth=4, label='$u$ Loss')\n",
    "plt.plot(moving_window_avg(losses[3:5000,3]), linewidth=4, label='$v$ Loss')\n",
    "plt.plot(moving_window_avg(losses[3:5000,4]), linewidth=4, label='$p$ Loss')\n",
    "plt.yscale(\"log\")\n",
    "plt.legend()\n",
    "plt.xlabel(\"Epoch\")\n",
    "plt.savefig(\"forward-training-losses.png\")"
   ]
  },
  {
   "cell_type": "code",
   "execution_count": 264,
   "id": "c1e62af1-132f-4bd3-bb29-72e49cbd6e2d",
   "metadata": {},
   "outputs": [],
   "source": [
    "with torch.no_grad():\n",
    "    NUM_PTS = 2000\n",
    "    torch.cuda.empty_cache()\n",
    "    x_test = torch.linspace(0,1,NUM_PTS)\n",
    "    y_test = torch.linspace(0,1,NUM_PTS)\n",
    "    x_test, y_test = get_grid(x_test, y_test)\n",
    "    uvp_hat = model(x_test, y_test)"
   ]
  },
  {
   "cell_type": "code",
   "execution_count": 265,
   "id": "d5b0beb5-2aac-4594-8ebb-517732355e78",
   "metadata": {},
   "outputs": [],
   "source": [
    "uvp_hat = uvp_hat.reshape(NUM_PTS, NUM_PTS, 3)\n",
    "u_hat = uvp_hat[:,:,0].detach().cpu().numpy()\n",
    "v_hat = uvp_hat[:,:,1].detach().cpu().numpy()\n",
    "p_hat = uvp_hat[:,:,2].detach().cpu().numpy()"
   ]
  },
  {
   "cell_type": "code",
   "execution_count": 275,
   "id": "f6702b7b-f06b-484c-bb43-c9f3d126287c",
   "metadata": {},
   "outputs": [
    {
     "data": {
      "image/png": "[encoded data removed]",
      "text/plain": [
       "<Figure size 1200x500 with 6 Axes>"
      ]
     },
     "metadata": {},
     "output_type": "display_data"
    }
   ],
   "source": [
    "fig, axs = plt.subplots(1,3, figsize=(12, 5))\n",
    "cmap = plt.get_cmap('PuOr', 25)\n",
    "cmap2= plt.get_cmap('PuOr', 10)\n",
    "u_im = axs[0].imshow(u_hat, vmin=-0.24, vmax=1, origin='lower', cmap=cmap)\n",
    "v_im = axs[1].imshow(v_hat, vmin=-0.5, vmax=0.4, origin='lower', cmap=cmap)\n",
    "p_im = axs[2].imshow(p_hat, origin='lower', cmap=cmap2)\n",
    "                     \n",
    "plt.colorbar(u_im, ax=axs[0], fraction=0.045, pad=0.04)\n",
    "plt.colorbar(v_im, ax=axs[1],fraction=0.045, pad=0.04)\n",
    "plt.colorbar(p_im, ax=axs[2], fraction=0.045, pad=0.04)\n",
    "TITLES = [\"$u$\", \"$v$\", \"$p$\"]\n",
    "for i in range(3):\n",
    "    axs[i].set_title(TITLES[i])\n",
    "plt.tight_layout()\n",
    "plt.savefig(\"forward-fields.png\")"
   ]
  },
  {
   "cell_type": "code",
   "execution_count": 274,
   "id": "f67a7dc0-dcc6-4535-895f-c6ccf5997c12",
   "metadata": {},
   "outputs": [
    {
     "data": {
      "image/png": "[encoded data removed]",
      "text/plain": [
       "<Figure size 1200x400 with 3 Axes>"
      ]
     },
     "metadata": {},
     "output_type": "display_data"
    }
   ],
   "source": [
    "with torch.no_grad():\n",
    "    y_vals = [0.1, 0.3, 0.5, 0.7, 0.9]\n",
    "    fig, axs = plt.subplots(1,3, figsize=(12, 4))\n",
    "    cs = ['purple', 'orange', 'black', 'blue', 'red']\n",
    "    for i in range(len(y_vals)):\n",
    "        y_val = y_vals[i]\n",
    "        u_val = u_train[y_train == y_val].cpu().detach().numpy()\n",
    "        v_val = v_train[y_train == y_val].cpu().detach().numpy()\n",
    "        p_val = p_train[y_train == y_val].cpu().detach().numpy()\n",
    "        x_val = x_train[y_train == y_val]\n",
    "        axs[0].scatter(x_val.cpu().detach().numpy()[::5], u_val[::5], c=cs[i])\n",
    "        axs[1].scatter(x_val.cpu().detach().numpy()[::5], v_val[::5], c=cs[i])\n",
    "        axs[2].scatter(x_val.cpu().detach().numpy()[::5], p_val[::5], c=cs[i])\n",
    "        \n",
    "        sol_hat = model(x_val.to(device), y_val*torch.ones_like(x_val)).cpu().detach().numpy()\n",
    "        u_val_hat = sol_hat[:,0]\n",
    "        v_val_hat = sol_hat[:,1]\n",
    "        p_val_hat = sol_hat[:,2]\n",
    "        axs[0].plot(x_val.cpu(), u_val_hat, c=cs[i], label=f\"$y={y_val}$\")\n",
    "        axs[1].plot(x_val.cpu(), v_val_hat, c=cs[i], label=f\"$y={y_val}$\")\n",
    "        axs[2].plot(x_val.cpu(), p_val_hat - p_hat[0,0], c=cs[i], label=f\"$y={y_val}$\")\n",
    "\n",
    "    plt.legend(loc='center left', bbox_to_anchor=(1.05, 0.5))\n",
    "    axs[0].set_xlabel(\"$x$\")\n",
    "    axs[1].set_xlabel(\"$x$\")\n",
    "    axs[2].set_xlabel(\"$x$\")\n",
    "    axs[0].set_title(\"Slices of $u$\")\n",
    "    axs[1].set_title(\"Slices of $v$\")\n",
    "    axs[2].set_title(\"Slices of $p$\")\n",
    "    plt.tight_layout()\n",
    "    plt.savefig(\"forward-slices.png\")"
   ]
  },
  {
   "cell_type": "code",
   "execution_count": 271,
   "id": "cf0bfb0e-a85a-416c-b23b-629bb5ddbe59",
   "metadata": {},
   "outputs": [],
   "source": [
    "# Save the forward model\n",
    "# model = PINN(in_dim=2, out_dim=3, data=(pos_train, sol_train), recon=False, my_lr=0.005, depth=7, width=50, rff_dim=None, sigma=1)\n",
    "torch.save(model.state_dict(), 'forward-depth-7-width-50-vanilla-finite-diff.model')"
   ]
  },
  {
   "cell_type": "markdown",
   "id": "f36dad1d-6966-4c4f-a07d-08307fa801cb",
   "metadata": {},
   "source": [
    "# Flow Field Reconstruction"
   ]
  },
  {
   "cell_type": "code",
   "execution_count": 11,
   "id": "009f03dd-dd1d-444c-8277-d5152b3038df",
   "metadata": {},
   "outputs": [],
   "source": [
    "class ReconPINN(nn.Module):\n",
    "    def __init__(self, in_dim, out_dim, data, depth, width, optimizer='adam', loss_fn='mse', recon_num_obs=10, my_lr=0.001):\n",
    "        super(ReconPINN, self).__init__()\n",
    "        self.model = create_net(in_dim, out_dim, depth, width, activation=torch.nn.SiLU())\n",
    "        \n",
    "        # Training data\n",
    "        self.data = data\n",
    "        self.pos_train = data[0]\n",
    "        self.sol_train = data[1]\n",
    "        self.loss_fn = loss_fn\n",
    "\n",
    "        self.logcosh = lambda x: torch.mean(torch.log(torch.cosh(x)))\n",
    "\n",
    "        # Recon data\n",
    "        self.recon_num_obs = recon_num_obs\n",
    "        obs_idx = (self.pos_train[:,0]>=0.2) & (self.pos_train[:,0]<=0.8) & (self.pos_train[:,1]>=0.2) & (self.pos_train[:,1]<=0.8)\n",
    "        self.pos_recon = pos_train[obs_idx, :]\n",
    "        self.sol_recon = sol_train[obs_idx, :]\n",
    "        rand_idx = torch.randint(0, len(self.pos_recon), (recon_num_obs,))\n",
    "        self.pos_recon = self.pos_recon[rand_idx].detach().clone()\n",
    "        self.sol_recon = self.sol_recon[rand_idx].detach().clone()\n",
    "\n",
    "        if optimizer==\"lbfgs\":\n",
    "            self.optimizer = torch.optim.LBFGS(self.model.parameters(), lr=my_lr)\n",
    "        elif optimizer==\"adam\": \n",
    "            self.optimizer = torch.optim.Adam(self.model.parameters(), lr=my_lr)\n",
    "\n",
    "        # SAMPLE SIZES\n",
    "        self.PDE_R_SAMPLE_SIZE = 20000\n",
    "        self.der_grid_res = 600\n",
    "        \n",
    "        # Variables for gradient estimation\n",
    "        self.x_pde, self.y_pde = torch.linspace(0,1,self.der_grid_res).to(device), torch.linspace(0,1,self.der_grid_res).to(device)\n",
    "        self.xg_pde, self.yg_pde = get_grid(self.x_pde,self.y_pde)\n",
    "        self.dr = self.x_pde[1] - self.x_pde[0] # spatial increments\n",
    "\n",
    "    def forward(self, x, y):\n",
    "        pos = torch.stack((x,y)).T\n",
    "        uvp = self.model(pos)\n",
    "        return uvp\n",
    "\n",
    "    def compute_derivatives(self):\n",
    "        # Esimate Gradients with finite difference\n",
    "        sol_pde = self.forward(self.xg_pde, self.yg_pde)\n",
    "        sol_pde = sol_pde.reshape(self.der_grid_res, self.der_grid_res, 3)\n",
    "        x_der = (sol_pde - torch.roll(sol_pde, shifts=1, dims=1)) / self.dr\n",
    "        y_der = (sol_pde - torch.roll(sol_pde, shifts=1, dims=0)) / self.dr\n",
    "        x_der_2 = (torch.roll(sol_pde, shifts=1, dims=1) + torch.roll(sol_pde, shifts=-1, dims=1) - 2*sol_pde) / self.dr**2\n",
    "        y_der_2 = (torch.roll(sol_pde, shifts=1, dims=0) + torch.roll(sol_pde, shifts=-1, dims=0) - 2*sol_pde) / self.dr**2\n",
    "\n",
    "        # Remove the border to avoid large outlier artifacts from the boundaries\n",
    "        x_der = x_der[1:-1, 1:-1, :]\n",
    "        x_der_2 = x_der_2[1:-1, 1:-1, :]\n",
    "        y_der = y_der[1:-1, 1:-1, :]\n",
    "        y_der_2 = y_der_2[1:-1, 1:-1, :]\n",
    "        sol_pde = sol_pde[1:-1, 1:-1]\n",
    "        self.u_hat_pde = sol_pde[:,:,0].flatten()\n",
    "        self.v_hat_pde = sol_pde[:,:,1].flatten()\n",
    "        self.p_hat_pde = sol_pde[:,:,2].flatten()\n",
    "\n",
    "        # Store the results of computation\n",
    "        self.u_x, self.u_y = x_der[:,:,0].flatten(), y_der[:,:,0].flatten()\n",
    "        self.v_x, self.v_y = x_der[:,:,1].flatten(), y_der[:,:,1].flatten()\n",
    "        self.p_x, self.p_y = x_der[:,:,2].flatten(), y_der[:,:,2].flatten()\n",
    "        self.u_xx, self.u_yy = x_der_2[:,:,0].flatten(), y_der_2[:,:,0].flatten()\n",
    "        self.v_xx, self.v_yy = x_der_2[:,:,1].flatten(), y_der_2[:,:,1].flatten()  \n",
    "\n",
    "    def compute_pde_residues(self, random=True):\n",
    "        pde_r_x = self.u_hat_pde*self.u_x + self.v_hat_pde*self.u_y + self.p_x - (self.u_xx + self.u_yy)/100\n",
    "        pde_r_y = self.u_hat_pde*self.v_x + self.v_hat_pde*self.v_y + self.p_y - (self.v_xx + self.v_yy)/100\n",
    "        pde_r_incompress = self.u_x + self.v_y\n",
    "        if random:\n",
    "            residue_rand_pts = torch.randint(0, len(pde_r_x), (self.PDE_R_SAMPLE_SIZE,))\n",
    "            if self.loss_fn == 'mse':\n",
    "                self.L_pde = torch.mean(pde_r_x[residue_rand_pts]**2) + torch.mean(pde_r_y[residue_rand_pts]**2)\\\n",
    "                              + torch.mean(pde_r_incompress[residue_rand_pts]**2) \n",
    "            elif self.loss_fn == 'logcosh':\n",
    "                self.L_pde = self.logcosh(pde_r_x[residue_rand_pts]) + self.logcosh(pde_r_y[residue_rand_pts])\\\n",
    "                              + self.logcosh(pde_r_incompress[residue_rand_pts])\n",
    "        else:\n",
    "            if self.loss_fn == 'mse':\n",
    "                self.L_pde = torch.mean(pde_r_x**2) + torch.mean(pde_r_y**2) + torch.mean(pde_r_incompress**2)\n",
    "            elif self.loss_fn == 'logcosh':\n",
    "                self.L_pde = self.logcosh(pde_r_x) + self.logcosh(pde_r_y) + self.logcosh(pde_r_incompress)\n",
    "\n",
    "    def print_losses(self, epoch):\n",
    "        with torch.no_grad():\n",
    "            self.sol_hat = self.forward(x_train, y_train)\n",
    "            self.L_u = mse_loss(self.sol_hat[:,0], self.sol_train[:,0])\n",
    "            self.L_v = mse_loss(self.sol_hat[:,1], self.sol_train[:,1])\n",
    "            self.L_p = mse_loss(self.sol_hat[:,2], self.sol_train[:,2])\n",
    "        print(f\"EPOCH {epoch}, LOSS={np.round(self.loss.item(),9)}, PDE RES={np.round(self.L_pde.item(),9)} | LOSS u,v,p=({np.round(self.L_u.item(),4)}, {np.round(self.L_v.item(),4)}, {np.round(self.L_p.item(),4)})\")    \n",
    "    \n",
    "    def train(self, max_epoch, tol=5e-5, losses=None):\n",
    "        x_train = self.pos_train[:,0]\n",
    "        y_train = self.pos_train[:,1]\n",
    "        x_recon = self.pos_recon[:,0]\n",
    "        y_recon = self.pos_recon[:,1]\n",
    "        \n",
    "        ALPHA=0.9\n",
    "\n",
    "        self.loss = torch.inf\n",
    "        def closure():\n",
    "            self.optimizer.zero_grad()\n",
    "            \n",
    "            # =========================== PDE Equation Loss =============================\n",
    "            self.compute_derivatives()\n",
    "            self.compute_pde_residues(random=False)\n",
    "            \n",
    "            # ========================== Recon Data loss =============================\n",
    "            self.sol_recon_hat = self.forward(x_recon, y_recon)\n",
    "            if self.loss_fn == 'mse':\n",
    "                self.L_recon = torch.mean((self.sol_recon_hat[:,0]-self.sol_recon[:,0])**2\\\n",
    "                         + (self.sol_recon_hat[:,1] - self.sol_recon[:,1])**2)\n",
    "            elif self.loss_fn == 'logcosh':\n",
    "                self.L_recon = self.logcosh(self.sol_recon_hat[:,0] - self.sol_recon[:,0])\\\n",
    "                           + self.logcosh(self.sol_recon_hat[:,1] - self.sol_recon[:,1])\n",
    "\n",
    "            self.loss = self.L_recon + self.L_pde\n",
    "            self.loss.backward()\n",
    "            return self.loss\n",
    "        epoch = 0\n",
    "        with tqdm(range(max_epoch), \n",
    "                  desc=f\"Recon:{self.recon_num_obs} samples, loss={self.loss_fn}.\") as pbar:\n",
    "            while self.loss > tol and epoch<max_epoch:\n",
    "                self.optimizer.step(closure=closure)\n",
    "            \n",
    "                if epoch%1 == 0:\n",
    "                    self.print_losses(epoch)\n",
    "                epoch += 1\n",
    "                pbar.update(1)\n",
    "        if epoch!=max_epoch:\n",
    "            print(\"Model Converged to Tolerance.\")\n",
    "        self.print_losses(epoch)"
   ]
  },
  {
   "cell_type": "code",
   "execution_count": 17,
   "id": "eba84a23-108f-46fc-b68e-94a2e5dc440e",
   "metadata": {},
   "outputs": [],
   "source": [
    "def train_field_recon_PINN(recon_num_obs, optimizer='adam', tol=5e-5, epochs=200, lr=0.1, loss_fn='mse', save=True):\n",
    "    # torch.random.manual_seed(4365)\n",
    "    recon_model = ReconPINN(in_dim=2, out_dim=3, data=(pos_train, sol_train), \n",
    "                            recon_num_obs=recon_num_obs, optimizer=optimizer,\n",
    "                            my_lr=lr, loss_fn=loss_fn, depth=9, width=20)\n",
    "    recon_model.to(device);\n",
    "    torch.cuda.empty_cache()\n",
    "    recon_model.train(epochs, tol=tol)\n",
    "    if save:\n",
    "        torch.save(recon_model.state_dict(), f\"recon-models/recon-fields-{recon_num_obs}-pts-{loss_fn}-tol.model\")\n",
    "        \n",
    "def eval_model_field(model, x, y, use_grid=True):\n",
    "    if use_grid:\n",
    "        xg, yg = get_grid(x,y)\n",
    "        uvp_hat = model(xg, yg)\n",
    "        uvp_hat = uvp_hat.reshape(len(y), len(x), 3)\n",
    "    else:\n",
    "        uvp_hat = model(x,y)\n",
    "        uvp_hat.reshape(int(np.sqrt(len(y))), int(np.sqrt(len(x))), 3)\n",
    "    u_hat = uvp_hat[:,:,0].detach().cpu().numpy()\n",
    "    v_hat = uvp_hat[:,:,1].detach().cpu().numpy()\n",
    "    p_hat = uvp_hat[:,:,2].detach().cpu().numpy()\n",
    "    return u_hat, v_hat, p_hat\n",
    "\n",
    "def plot_fields(u, v, p):\n",
    "    fig, axs = plt.subplots(1,3, figsize=(12, 5))\n",
    "    cmap = plt.get_cmap('PuOr', 25)\n",
    "    cmap2= plt.get_cmap('PuOr', 10)\n",
    "    u_im = axs[0].imshow(u_hat, origin='lower', cmap=cmap)\n",
    "    v_im = axs[1].imshow(v_hat, origin='lower', cmap=cmap)\n",
    "    p_im = axs[2].imshow(p_hat, origin='lower', cmap=cmap2)\n",
    "                         \n",
    "    plt.colorbar(u_im, ax=axs[0], fraction=0.045, pad=0.04)\n",
    "    plt.colorbar(v_im, ax=axs[1],fraction=0.045, pad=0.04)\n",
    "    plt.colorbar(p_im, ax=axs[2], fraction=0.045, pad=0.04)\n",
    "    TITLES = [\"$u$\", \"$v$\", \"$p$\"]\n",
    "    for i in range(3):\n",
    "        axs[i].set_title(TITLES[i])\n",
    "    plt.tight_layout()\n",
    "    return fig\n",
    "\n",
    "def recon_field(recon_model):\n",
    "    with torch.no_grad():\n",
    "        sol_hat = recon_model(x_train, y_train)\n",
    "        u_err = mse_loss(sol_hat[:,0], sol_train[:,0]) / torch.mean(torch.square(sol_train[:,0]))\n",
    "        v_err = mse_loss(sol_hat[:,1], sol_train[:,1]).item() / torch.mean(torch.square(sol_train[:,1]))\n",
    "        p_err = mse_loss(sol_hat[:,2] - sol_hat[0,2], sol_train[:,2]).item() / torch.mean(torch.square(sol_train[:,2]))\n",
    "        print(\"REL L2 ERRS:\", np.round(u_err.item(),3), np.round(v_err.item(),3), np.round(p_err.item(),3))\n",
    "\n",
    "        # Plot reconstructed field\n",
    "        NUM_PTS = 3000\n",
    "        x_test, y_test = torch.linspace(0,1,NUM_PTS).to(device), torch.linspace(0,1,NUM_PTS).to(device)\n",
    "        u_hat, v_hat, p_hat = eval_model_field(recon_model, x_test, y_test)\n",
    "        # plot_fields(u_hat, v_hat, p_hat)\n",
    "        return u_hat, v_hat, p_hat"
   ]
  },
  {
   "cell_type": "code",
   "execution_count": 18,
   "id": "5f1d2e06-6934-4723-8d34-3fed8cfb4777",
   "metadata": {
    "scrolled": true
   },
   "outputs": [
    {
     "name": "stderr",
     "output_type": "stream",
     "text": [
      "Recon:10 samples, loss=mse.:   0%|             | 1/1001 [00:00<13:21,  1.25it/s]"
     ]
    },
    {
     "name": "stdout",
     "output_type": "stream",
     "text": [
      "EPOCH 0, LOSS=0.027019437, PDE RES=5.39e-07 | LOSS u,v,p=(0.0657, 0.0247, 0.0145)\n"
     ]
    },
    {
     "name": "stderr",
     "output_type": "stream",
     "text": [
      "Recon:10 samples, loss=mse.:   0%|             | 2/1001 [00:01<13:03,  1.28it/s]"
     ]
    },
    {
     "name": "stdout",
     "output_type": "stream",
     "text": [
      "EPOCH 1, LOSS=0.026958743, PDE RES=5.52e-07 | LOSS u,v,p=(0.0663, 0.0241, 0.0144)\n"
     ]
    },
    {
     "name": "stderr",
     "output_type": "stream",
     "text": [
      "Recon:10 samples, loss=mse.:   0%|             | 3/1001 [00:02<13:47,  1.21it/s]"
     ]
    },
    {
     "name": "stdout",
     "output_type": "stream",
     "text": [
      "EPOCH 2, LOSS=0.026916817, PDE RES=7.95e-07 | LOSS u,v,p=(0.0668, 0.0234, 0.0141)\n"
     ]
    },
    {
     "name": "stderr",
     "output_type": "stream",
     "text": [
      "Recon:10 samples, loss=mse.:   0%|             | 4/1001 [00:03<14:34,  1.14it/s]"
     ]
    },
    {
     "name": "stdout",
     "output_type": "stream",
     "text": [
      "EPOCH 3, LOSS=0.017814983, PDE RES=0.003763763 | LOSS u,v,p=(0.0597, 0.0145, 0.0124)\n"
     ]
    },
    {
     "name": "stderr",
     "output_type": "stream",
     "text": [
      "Recon:10 samples, loss=mse.:   0%|             | 5/1001 [00:04<14:42,  1.13it/s]"
     ]
    },
    {
     "name": "stdout",
     "output_type": "stream",
     "text": [
      "EPOCH 4, LOSS=0.01215137, PDE RES=0.001751085 | LOSS u,v,p=(0.0517, 0.0193, 0.0129)\n"
     ]
    },
    {
     "name": "stderr",
     "output_type": "stream",
     "text": [
      "Recon:10 samples, loss=mse.:   1%|             | 6/1001 [00:05<14:55,  1.11it/s]"
     ]
    },
    {
     "name": "stdout",
     "output_type": "stream",
     "text": [
      "EPOCH 5, LOSS=0.009527508, PDE RES=0.001160512 | LOSS u,v,p=(0.0532, 0.0238, 0.012)\n"
     ]
    },
    {
     "name": "stderr",
     "output_type": "stream",
     "text": [
      "Recon:10 samples, loss=mse.:   1%|             | 7/1001 [00:06<15:02,  1.10it/s]"
     ]
    },
    {
     "name": "stdout",
     "output_type": "stream",
     "text": [
      "EPOCH 6, LOSS=0.007403513, PDE RES=0.0014628 | LOSS u,v,p=(0.0561, 0.032, 0.0153)\n"
     ]
    },
    {
     "name": "stderr",
     "output_type": "stream",
     "text": [
      "Recon:10 samples, loss=mse.:   1%|             | 8/1001 [00:07<15:07,  1.09it/s]"
     ]
    },
    {
     "name": "stdout",
     "output_type": "stream",
     "text": [
      "EPOCH 7, LOSS=0.005871424, PDE RES=0.000637027 | LOSS u,v,p=(0.058, 0.0388, 0.02)\n"
     ]
    },
    {
     "name": "stderr",
     "output_type": "stream",
     "text": [
      "Recon:10 samples, loss=mse.:   1%|             | 9/1001 [00:08<15:34,  1.06it/s]"
     ]
    },
    {
     "name": "stdout",
     "output_type": "stream",
     "text": [
      "EPOCH 8, LOSS=0.005555144, PDE RES=0.000386351 | LOSS u,v,p=(0.0591, 0.0389, 0.0195)\n"
     ]
    },
    {
     "name": "stderr",
     "output_type": "stream",
     "text": [
      "Recon:10 samples, loss=mse.:   1%|            | 10/1001 [00:09<15:47,  1.05it/s]"
     ]
    },
    {
     "name": "stdout",
     "output_type": "stream",
     "text": [
      "EPOCH 9, LOSS=0.005229168, PDE RES=0.000273519 | LOSS u,v,p=(0.0599, 0.038, 0.0159)\n"
     ]
    },
    {
     "name": "stderr",
     "output_type": "stream",
     "text": [
      "Recon:10 samples, loss=mse.:   1%|▏           | 11/1001 [00:10<15:59,  1.03it/s]"
     ]
    },
    {
     "name": "stdout",
     "output_type": "stream",
     "text": [
      "EPOCH 10, LOSS=0.004990127, PDE RES=0.00023557 | LOSS u,v,p=(0.0607, 0.0379, 0.017)\n"
     ]
    },
    {
     "name": "stderr",
     "output_type": "stream",
     "text": [
      "Recon:10 samples, loss=mse.:   1%|▏           | 12/1001 [00:11<16:19,  1.01it/s]"
     ]
    },
    {
     "name": "stdout",
     "output_type": "stream",
     "text": [
      "EPOCH 11, LOSS=0.004863122, PDE RES=0.000330348 | LOSS u,v,p=(0.0606, 0.0365, 0.0195)\n"
     ]
    },
    {
     "name": "stderr",
     "output_type": "stream",
     "text": [
      "Recon:10 samples, loss=mse.:   1%|▏           | 13/1001 [00:12<16:29,  1.00s/it]"
     ]
    },
    {
     "name": "stdout",
     "output_type": "stream",
     "text": [
      "EPOCH 12, LOSS=0.004769316, PDE RES=0.000347988 | LOSS u,v,p=(0.0599, 0.036, 0.0225)\n"
     ]
    },
    {
     "name": "stderr",
     "output_type": "stream",
     "text": [
      "Recon:10 samples, loss=mse.:   1%|▏           | 14/1001 [00:13<16:15,  1.01it/s]"
     ]
    },
    {
     "name": "stdout",
     "output_type": "stream",
     "text": [
      "EPOCH 13, LOSS=0.00448613, PDE RES=0.000224341 | LOSS u,v,p=(0.0586, 0.0377, 0.0308)\n"
     ]
    },
    {
     "name": "stderr",
     "output_type": "stream",
     "text": [
      "Recon:10 samples, loss=mse.:   1%|▏           | 15/1001 [00:14<16:18,  1.01it/s]"
     ]
    },
    {
     "name": "stdout",
     "output_type": "stream",
     "text": [
      "EPOCH 14, LOSS=0.004268577, PDE RES=0.000228602 | LOSS u,v,p=(0.0577, 0.0379, 0.0404)\n"
     ]
    },
    {
     "name": "stderr",
     "output_type": "stream",
     "text": [
      "Recon:10 samples, loss=mse.:   2%|▏           | 16/1001 [00:15<16:09,  1.02it/s]"
     ]
    },
    {
     "name": "stdout",
     "output_type": "stream",
     "text": [
      "EPOCH 15, LOSS=0.00415977, PDE RES=0.000220696 | LOSS u,v,p=(0.0574, 0.038, 0.0469)\n"
     ]
    },
    {
     "name": "stderr",
     "output_type": "stream",
     "text": [
      "Recon:10 samples, loss=mse.:   2%|▏           | 17/1001 [00:15<15:50,  1.04it/s]"
     ]
    },
    {
     "name": "stdout",
     "output_type": "stream",
     "text": [
      "EPOCH 16, LOSS=0.004078757, PDE RES=0.000148867 | LOSS u,v,p=(0.057, 0.0382, 0.0506)\n"
     ]
    },
    {
     "name": "stderr",
     "output_type": "stream",
     "text": [
      "Recon:10 samples, loss=mse.:   2%|▏           | 18/1001 [00:16<15:36,  1.05it/s]"
     ]
    },
    {
     "name": "stdout",
     "output_type": "stream",
     "text": [
      "EPOCH 17, LOSS=0.003913595, PDE RES=8.0502e-05 | LOSS u,v,p=(0.0553, 0.0389, 0.0531)\n"
     ]
    },
    {
     "name": "stderr",
     "output_type": "stream",
     "text": [
      "Recon:10 samples, loss=mse.:   2%|▏           | 19/1001 [00:17<15:27,  1.06it/s]"
     ]
    },
    {
     "name": "stdout",
     "output_type": "stream",
     "text": [
      "EPOCH 18, LOSS=0.003839269, PDE RES=9.3074e-05 | LOSS u,v,p=(0.0544, 0.0382, 0.0561)\n"
     ]
    },
    {
     "name": "stderr",
     "output_type": "stream",
     "text": [
      "Recon:10 samples, loss=mse.:   2%|▏           | 20/1001 [00:18<15:23,  1.06it/s]"
     ]
    },
    {
     "name": "stdout",
     "output_type": "stream",
     "text": [
      "EPOCH 19, LOSS=0.003817901, PDE RES=0.000114966 | LOSS u,v,p=(0.0536, 0.0373, 0.0646)\n"
     ]
    },
    {
     "name": "stderr",
     "output_type": "stream",
     "text": [
      "Recon:10 samples, loss=mse.:   2%|▎           | 21/1001 [00:19<15:33,  1.05it/s]"
     ]
    },
    {
     "name": "stdout",
     "output_type": "stream",
     "text": [
      "EPOCH 20, LOSS=0.003770849, PDE RES=0.000131907 | LOSS u,v,p=(0.0524, 0.0368, 0.0814)\n"
     ]
    },
    {
     "name": "stderr",
     "output_type": "stream",
     "text": [
      "Recon:10 samples, loss=mse.:   2%|▎           | 22/1001 [00:20<15:44,  1.04it/s]"
     ]
    },
    {
     "name": "stdout",
     "output_type": "stream",
     "text": [
      "EPOCH 21, LOSS=0.003751984, PDE RES=0.000118332 | LOSS u,v,p=(0.0521, 0.0374, 0.0788)\n"
     ]
    },
    {
     "name": "stderr",
     "output_type": "stream",
     "text": [
      "Recon:10 samples, loss=mse.:   2%|▎           | 23/1001 [00:21<15:34,  1.05it/s]"
     ]
    },
    {
     "name": "stdout",
     "output_type": "stream",
     "text": [
      "EPOCH 22, LOSS=0.003694707, PDE RES=0.000100864 | LOSS u,v,p=(0.0517, 0.038, 0.0616)\n"
     ]
    },
    {
     "name": "stderr",
     "output_type": "stream",
     "text": [
      "Recon:10 samples, loss=mse.:   2%|▎           | 24/1001 [00:22<15:25,  1.06it/s]"
     ]
    },
    {
     "name": "stdout",
     "output_type": "stream",
     "text": [
      "EPOCH 23, LOSS=0.003643381, PDE RES=0.000125787 | LOSS u,v,p=(0.0506, 0.037, 0.0592)\n"
     ]
    },
    {
     "name": "stderr",
     "output_type": "stream",
     "text": [
      "Recon:10 samples, loss=mse.:   2%|▎           | 25/1001 [00:23<15:18,  1.06it/s]"
     ]
    },
    {
     "name": "stdout",
     "output_type": "stream",
     "text": [
      "EPOCH 24, LOSS=0.003596635, PDE RES=0.000143027 | LOSS u,v,p=(0.0498, 0.0363, 0.0537)\n"
     ]
    },
    {
     "name": "stderr",
     "output_type": "stream",
     "text": [
      "Recon:10 samples, loss=mse.:   3%|▎           | 26/1001 [00:24<15:14,  1.07it/s]"
     ]
    },
    {
     "name": "stdout",
     "output_type": "stream",
     "text": [
      "EPOCH 25, LOSS=0.003532339, PDE RES=0.000157919 | LOSS u,v,p=(0.0488, 0.0356, 0.0438)\n"
     ]
    },
    {
     "name": "stderr",
     "output_type": "stream",
     "text": [
      "Recon:10 samples, loss=mse.:   3%|▎           | 27/1001 [00:25<15:09,  1.07it/s]"
     ]
    },
    {
     "name": "stdout",
     "output_type": "stream",
     "text": [
      "EPOCH 26, LOSS=0.003492163, PDE RES=0.00021186 | LOSS u,v,p=(0.0476, 0.0347, 0.0441)\n"
     ]
    },
    {
     "name": "stderr",
     "output_type": "stream",
     "text": [
      "Recon:10 samples, loss=mse.:   3%|▎           | 28/1001 [00:26<15:37,  1.04it/s]"
     ]
    },
    {
     "name": "stdout",
     "output_type": "stream",
     "text": [
      "EPOCH 27, LOSS=0.003437068, PDE RES=0.000270709 | LOSS u,v,p=(0.0454, 0.0325, 0.0523)\n"
     ]
    },
    {
     "name": "stderr",
     "output_type": "stream",
     "text": [
      "Recon:10 samples, loss=mse.:   3%|▎           | 29/1001 [00:27<15:24,  1.05it/s]"
     ]
    },
    {
     "name": "stdout",
     "output_type": "stream",
     "text": [
      "EPOCH 28, LOSS=0.003405248, PDE RES=0.00025764 | LOSS u,v,p=(0.045, 0.0323, 0.0549)\n"
     ]
    },
    {
     "name": "stderr",
     "output_type": "stream",
     "text": [
      "Recon:10 samples, loss=mse.:   3%|▎           | 30/1001 [00:28<15:36,  1.04it/s]"
     ]
    },
    {
     "name": "stdout",
     "output_type": "stream",
     "text": [
      "EPOCH 29, LOSS=0.003283038, PDE RES=0.000239888 | LOSS u,v,p=(0.0438, 0.0312, 0.0679)\n"
     ]
    },
    {
     "name": "stderr",
     "output_type": "stream",
     "text": [
      "Recon:10 samples, loss=mse.:   3%|▎           | 31/1001 [00:29<15:22,  1.05it/s]"
     ]
    },
    {
     "name": "stdout",
     "output_type": "stream",
     "text": [
      "EPOCH 30, LOSS=0.003204066, PDE RES=0.000312943 | LOSS u,v,p=(0.0419, 0.0298, 0.0781)\n"
     ]
    },
    {
     "name": "stderr",
     "output_type": "stream",
     "text": [
      "Recon:10 samples, loss=mse.:   3%|▍           | 32/1001 [00:30<15:12,  1.06it/s]"
     ]
    },
    {
     "name": "stdout",
     "output_type": "stream",
     "text": [
      "EPOCH 31, LOSS=0.003022576, PDE RES=0.000399777 | LOSS u,v,p=(0.0392, 0.026, 0.0938)\n"
     ]
    },
    {
     "name": "stderr",
     "output_type": "stream",
     "text": [
      "Recon:10 samples, loss=mse.:   3%|▍           | 33/1001 [00:31<15:05,  1.07it/s]"
     ]
    },
    {
     "name": "stdout",
     "output_type": "stream",
     "text": [
      "EPOCH 32, LOSS=0.002842779, PDE RES=0.000374529 | LOSS u,v,p=(0.0371, 0.0256, 0.0981)\n"
     ]
    },
    {
     "name": "stderr",
     "output_type": "stream",
     "text": [
      "Recon:10 samples, loss=mse.:   3%|▍           | 34/1001 [00:32<15:00,  1.07it/s]"
     ]
    },
    {
     "name": "stdout",
     "output_type": "stream",
     "text": [
      "EPOCH 33, LOSS=0.002638361, PDE RES=0.000501038 | LOSS u,v,p=(0.0332, 0.0256, 0.1037)\n"
     ]
    },
    {
     "name": "stderr",
     "output_type": "stream",
     "text": [
      "Recon:10 samples, loss=mse.:   3%|▍           | 35/1001 [00:32<14:57,  1.08it/s]"
     ]
    },
    {
     "name": "stdout",
     "output_type": "stream",
     "text": [
      "EPOCH 34, LOSS=0.00248266, PDE RES=0.000343005 | LOSS u,v,p=(0.034, 0.0263, 0.1087)\n"
     ]
    },
    {
     "name": "stderr",
     "output_type": "stream",
     "text": [
      "Recon:10 samples, loss=mse.:   4%|▍           | 36/1001 [00:33<14:55,  1.08it/s]"
     ]
    },
    {
     "name": "stdout",
     "output_type": "stream",
     "text": [
      "EPOCH 35, LOSS=0.00228615, PDE RES=0.000470648 | LOSS u,v,p=(0.031, 0.0222, 0.1148)\n"
     ]
    },
    {
     "name": "stderr",
     "output_type": "stream",
     "text": [
      "Recon:10 samples, loss=mse.:   4%|▍           | 37/1001 [00:34<14:53,  1.08it/s]"
     ]
    },
    {
     "name": "stdout",
     "output_type": "stream",
     "text": [
      "EPOCH 36, LOSS=0.00214315, PDE RES=0.000602633 | LOSS u,v,p=(0.0289, 0.0181, 0.1019)\n"
     ]
    },
    {
     "name": "stderr",
     "output_type": "stream",
     "text": [
      "Recon:10 samples, loss=mse.:   4%|▍           | 38/1001 [00:35<14:49,  1.08it/s]"
     ]
    },
    {
     "name": "stdout",
     "output_type": "stream",
     "text": [
      "EPOCH 37, LOSS=0.002033179, PDE RES=0.000484978 | LOSS u,v,p=(0.0299, 0.0169, 0.0891)\n"
     ]
    },
    {
     "name": "stderr",
     "output_type": "stream",
     "text": [
      "Recon:10 samples, loss=mse.:   4%|▍           | 39/1001 [00:36<14:49,  1.08it/s]"
     ]
    },
    {
     "name": "stdout",
     "output_type": "stream",
     "text": [
      "EPOCH 38, LOSS=0.001921471, PDE RES=0.000552169 | LOSS u,v,p=(0.0281, 0.0149, 0.0861)\n"
     ]
    },
    {
     "name": "stderr",
     "output_type": "stream",
     "text": [
      "Recon:10 samples, loss=mse.:   4%|▍           | 40/1001 [00:37<14:46,  1.08it/s]"
     ]
    },
    {
     "name": "stdout",
     "output_type": "stream",
     "text": [
      "EPOCH 39, LOSS=0.001758054, PDE RES=0.000666121 | LOSS u,v,p=(0.0262, 0.0119, 0.0877)\n"
     ]
    },
    {
     "name": "stderr",
     "output_type": "stream",
     "text": [
      "Recon:10 samples, loss=mse.:   4%|▍           | 41/1001 [00:38<14:45,  1.08it/s]"
     ]
    },
    {
     "name": "stdout",
     "output_type": "stream",
     "text": [
      "EPOCH 40, LOSS=0.001656603, PDE RES=0.000610335 | LOSS u,v,p=(0.0266, 0.0112, 0.0968)\n"
     ]
    },
    {
     "name": "stderr",
     "output_type": "stream",
     "text": [
      "Recon:10 samples, loss=mse.:   4%|▌           | 42/1001 [00:39<14:44,  1.08it/s]"
     ]
    },
    {
     "name": "stdout",
     "output_type": "stream",
     "text": [
      "EPOCH 41, LOSS=0.001577723, PDE RES=0.000618511 | LOSS u,v,p=(0.0264, 0.0102, 0.1097)\n"
     ]
    },
    {
     "name": "stderr",
     "output_type": "stream",
     "text": [
      "Recon:10 samples, loss=mse.:   4%|▌           | 43/1001 [00:40<14:42,  1.09it/s]"
     ]
    },
    {
     "name": "stdout",
     "output_type": "stream",
     "text": [
      "EPOCH 42, LOSS=0.001528183, PDE RES=0.00059768 | LOSS u,v,p=(0.0263, 0.0097, 0.1231)\n"
     ]
    },
    {
     "name": "stderr",
     "output_type": "stream",
     "text": [
      "Recon:10 samples, loss=mse.:   4%|▌           | 44/1001 [00:41<14:41,  1.09it/s]"
     ]
    },
    {
     "name": "stdout",
     "output_type": "stream",
     "text": [
      "EPOCH 43, LOSS=0.00149086, PDE RES=0.000611788 | LOSS u,v,p=(0.0266, 0.009, 0.1283)\n"
     ]
    },
    {
     "name": "stderr",
     "output_type": "stream",
     "text": [
      "Recon:10 samples, loss=mse.:   4%|▌           | 45/1001 [00:42<14:39,  1.09it/s]"
     ]
    },
    {
     "name": "stdout",
     "output_type": "stream",
     "text": [
      "EPOCH 44, LOSS=0.001441066, PDE RES=0.000672155 | LOSS u,v,p=(0.0265, 0.0085, 0.1261)\n"
     ]
    },
    {
     "name": "stderr",
     "output_type": "stream",
     "text": [
      "Recon:10 samples, loss=mse.:   5%|▌           | 46/1001 [00:43<14:38,  1.09it/s]"
     ]
    },
    {
     "name": "stdout",
     "output_type": "stream",
     "text": [
      "EPOCH 45, LOSS=0.0013875, PDE RES=0.000651682 | LOSS u,v,p=(0.0259, 0.0083, 0.115)\n"
     ]
    },
    {
     "name": "stderr",
     "output_type": "stream",
     "text": [
      "Recon:10 samples, loss=mse.:   5%|▌           | 47/1001 [00:43<14:37,  1.09it/s]"
     ]
    },
    {
     "name": "stdout",
     "output_type": "stream",
     "text": [
      "EPOCH 46, LOSS=0.001312114, PDE RES=0.000593755 | LOSS u,v,p=(0.0248, 0.0078, 0.0954)\n"
     ]
    },
    {
     "name": "stderr",
     "output_type": "stream",
     "text": [
      "Recon:10 samples, loss=mse.:   5%|▌           | 48/1001 [00:44<14:37,  1.09it/s]"
     ]
    },
    {
     "name": "stdout",
     "output_type": "stream",
     "text": [
      "EPOCH 47, LOSS=0.001259645, PDE RES=0.000600707 | LOSS u,v,p=(0.0242, 0.0074, 0.0885)\n"
     ]
    },
    {
     "name": "stderr",
     "output_type": "stream",
     "text": [
      "Recon:10 samples, loss=mse.:   5%|▌           | 49/1001 [00:45<14:35,  1.09it/s]"
     ]
    },
    {
     "name": "stdout",
     "output_type": "stream",
     "text": [
      "EPOCH 48, LOSS=0.001217607, PDE RES=0.000591837 | LOSS u,v,p=(0.0244, 0.0075, 0.0882)\n"
     ]
    },
    {
     "name": "stderr",
     "output_type": "stream",
     "text": [
      "Recon:10 samples, loss=mse.:   5%|▌           | 50/1001 [00:46<14:35,  1.09it/s]"
     ]
    },
    {
     "name": "stdout",
     "output_type": "stream",
     "text": [
      "EPOCH 49, LOSS=0.001179272, PDE RES=0.000552529 | LOSS u,v,p=(0.0247, 0.0075, 0.0914)\n"
     ]
    },
    {
     "name": "stderr",
     "output_type": "stream",
     "text": [
      "Recon:10 samples, loss=mse.:   5%|▌           | 51/1001 [00:47<14:34,  1.09it/s]"
     ]
    },
    {
     "name": "stdout",
     "output_type": "stream",
     "text": [
      "EPOCH 50, LOSS=0.001127994, PDE RES=0.000535061 | LOSS u,v,p=(0.0243, 0.0071, 0.0913)\n"
     ]
    },
    {
     "name": "stderr",
     "output_type": "stream",
     "text": [
      "Recon:10 samples, loss=mse.:   5%|▌           | 52/1001 [00:48<14:36,  1.08it/s]"
     ]
    },
    {
     "name": "stdout",
     "output_type": "stream",
     "text": [
      "EPOCH 51, LOSS=0.001088006, PDE RES=0.000527998 | LOSS u,v,p=(0.0246, 0.007, 0.0869)\n"
     ]
    },
    {
     "name": "stderr",
     "output_type": "stream",
     "text": [
      "Recon:10 samples, loss=mse.:   5%|▋           | 53/1001 [00:49<14:35,  1.08it/s]"
     ]
    },
    {
     "name": "stdout",
     "output_type": "stream",
     "text": [
      "EPOCH 52, LOSS=0.001043941, PDE RES=0.000515243 | LOSS u,v,p=(0.0252, 0.0066, 0.0847)\n"
     ]
    },
    {
     "name": "stderr",
     "output_type": "stream",
     "text": [
      "Recon:10 samples, loss=mse.:   5%|▋           | 54/1001 [00:50<14:34,  1.08it/s]"
     ]
    },
    {
     "name": "stdout",
     "output_type": "stream",
     "text": [
      "EPOCH 53, LOSS=0.000969135, PDE RES=0.000489452 | LOSS u,v,p=(0.0244, 0.0064, 0.084)\n"
     ]
    },
    {
     "name": "stderr",
     "output_type": "stream",
     "text": [
      "Recon:10 samples, loss=mse.:   5%|▋           | 55/1001 [00:51<14:33,  1.08it/s]"
     ]
    },
    {
     "name": "stdout",
     "output_type": "stream",
     "text": [
      "EPOCH 54, LOSS=0.000883606, PDE RES=0.000421745 | LOSS u,v,p=(0.024, 0.0067, 0.0801)\n"
     ]
    },
    {
     "name": "stderr",
     "output_type": "stream",
     "text": [
      "Recon:10 samples, loss=mse.:   6%|▋           | 56/1001 [00:52<14:32,  1.08it/s]"
     ]
    },
    {
     "name": "stdout",
     "output_type": "stream",
     "text": [
      "EPOCH 55, LOSS=0.000838712, PDE RES=0.000401321 | LOSS u,v,p=(0.024, 0.0065, 0.0808)\n"
     ]
    },
    {
     "name": "stderr",
     "output_type": "stream",
     "text": [
      "Recon:10 samples, loss=mse.:   6%|▋           | 57/1001 [00:53<14:31,  1.08it/s]"
     ]
    },
    {
     "name": "stdout",
     "output_type": "stream",
     "text": [
      "EPOCH 56, LOSS=0.000794636, PDE RES=0.000442605 | LOSS u,v,p=(0.0232, 0.0061, 0.0875)\n"
     ]
    },
    {
     "name": "stderr",
     "output_type": "stream",
     "text": [
      "Recon:10 samples, loss=mse.:   6%|▋           | 58/1001 [00:54<14:28,  1.09it/s]"
     ]
    },
    {
     "name": "stdout",
     "output_type": "stream",
     "text": [
      "EPOCH 57, LOSS=0.000718666, PDE RES=0.00043092 | LOSS u,v,p=(0.0226, 0.0063, 0.0923)\n"
     ]
    },
    {
     "name": "stderr",
     "output_type": "stream",
     "text": [
      "Recon:10 samples, loss=mse.:   6%|▋           | 59/1001 [00:55<14:28,  1.08it/s]"
     ]
    },
    {
     "name": "stdout",
     "output_type": "stream",
     "text": [
      "EPOCH 58, LOSS=0.00067043, PDE RES=0.000365058 | LOSS u,v,p=(0.0228, 0.0067, 0.0916)\n"
     ]
    },
    {
     "name": "stderr",
     "output_type": "stream",
     "text": [
      "Recon:10 samples, loss=mse.:   6%|▋           | 60/1001 [00:55<14:27,  1.08it/s]"
     ]
    },
    {
     "name": "stdout",
     "output_type": "stream",
     "text": [
      "EPOCH 59, LOSS=0.000625428, PDE RES=0.00035041 | LOSS u,v,p=(0.0221, 0.0068, 0.0936)\n"
     ]
    },
    {
     "name": "stderr",
     "output_type": "stream",
     "text": [
      "Recon:10 samples, loss=mse.:   6%|▋           | 61/1001 [00:56<14:27,  1.08it/s]"
     ]
    },
    {
     "name": "stdout",
     "output_type": "stream",
     "text": [
      "EPOCH 60, LOSS=0.00057722, PDE RES=0.000327486 | LOSS u,v,p=(0.0214, 0.0066, 0.0935)\n"
     ]
    },
    {
     "name": "stderr",
     "output_type": "stream",
     "text": [
      "Recon:10 samples, loss=mse.:   6%|▋           | 62/1001 [00:57<14:25,  1.08it/s]"
     ]
    },
    {
     "name": "stdout",
     "output_type": "stream",
     "text": [
      "EPOCH 61, LOSS=0.000551355, PDE RES=0.000313061 | LOSS u,v,p=(0.0214, 0.0066, 0.0931)\n"
     ]
    },
    {
     "name": "stderr",
     "output_type": "stream",
     "text": [
      "Recon:10 samples, loss=mse.:   6%|▊           | 63/1001 [00:58<14:24,  1.08it/s]"
     ]
    },
    {
     "name": "stdout",
     "output_type": "stream",
     "text": [
      "EPOCH 62, LOSS=0.000523738, PDE RES=0.00031483 | LOSS u,v,p=(0.0211, 0.0066, 0.0947)\n"
     ]
    },
    {
     "name": "stderr",
     "output_type": "stream",
     "text": [
      "Recon:10 samples, loss=mse.:   6%|▊           | 64/1001 [00:59<14:23,  1.09it/s]"
     ]
    },
    {
     "name": "stdout",
     "output_type": "stream",
     "text": [
      "EPOCH 63, LOSS=0.000486781, PDE RES=0.000295582 | LOSS u,v,p=(0.0208, 0.0065, 0.0916)\n"
     ]
    },
    {
     "name": "stderr",
     "output_type": "stream",
     "text": [
      "Recon:10 samples, loss=mse.:   6%|▊           | 65/1001 [01:00<14:24,  1.08it/s]"
     ]
    },
    {
     "name": "stdout",
     "output_type": "stream",
     "text": [
      "EPOCH 64, LOSS=0.000459346, PDE RES=0.000292025 | LOSS u,v,p=(0.0208, 0.0066, 0.0882)\n"
     ]
    },
    {
     "name": "stderr",
     "output_type": "stream",
     "text": [
      "Recon:10 samples, loss=mse.:   7%|▊           | 66/1001 [01:01<14:23,  1.08it/s]"
     ]
    },
    {
     "name": "stdout",
     "output_type": "stream",
     "text": [
      "EPOCH 65, LOSS=0.000440589, PDE RES=0.000282317 | LOSS u,v,p=(0.0206, 0.0067, 0.0861)\n"
     ]
    },
    {
     "name": "stderr",
     "output_type": "stream",
     "text": [
      "Recon:10 samples, loss=mse.:   7%|▊           | 67/1001 [01:02<14:22,  1.08it/s]"
     ]
    },
    {
     "name": "stdout",
     "output_type": "stream",
     "text": [
      "EPOCH 66, LOSS=0.000414761, PDE RES=0.000258282 | LOSS u,v,p=(0.0202, 0.0064, 0.0799)\n"
     ]
    },
    {
     "name": "stderr",
     "output_type": "stream",
     "text": [
      "Recon:10 samples, loss=mse.:   7%|▊           | 68/1001 [01:03<14:20,  1.08it/s]"
     ]
    },
    {
     "name": "stdout",
     "output_type": "stream",
     "text": [
      "EPOCH 67, LOSS=0.000390191, PDE RES=0.00025095 | LOSS u,v,p=(0.0198, 0.0063, 0.0759)\n"
     ]
    },
    {
     "name": "stderr",
     "output_type": "stream",
     "text": [
      "Recon:10 samples, loss=mse.:   7%|▊           | 69/1001 [01:04<14:20,  1.08it/s]"
     ]
    },
    {
     "name": "stdout",
     "output_type": "stream",
     "text": [
      "EPOCH 68, LOSS=0.000372694, PDE RES=0.000238971 | LOSS u,v,p=(0.0196, 0.0064, 0.0748)\n"
     ]
    },
    {
     "name": "stderr",
     "output_type": "stream",
     "text": [
      "Recon:10 samples, loss=mse.:   7%|▊           | 70/1001 [01:05<14:20,  1.08it/s]"
     ]
    },
    {
     "name": "stdout",
     "output_type": "stream",
     "text": [
      "EPOCH 69, LOSS=0.000355054, PDE RES=0.000227855 | LOSS u,v,p=(0.0194, 0.0062, 0.0738)\n"
     ]
    },
    {
     "name": "stderr",
     "output_type": "stream",
     "text": [
      "Recon:10 samples, loss=mse.:   7%|▊           | 71/1001 [01:06<14:17,  1.08it/s]"
     ]
    },
    {
     "name": "stdout",
     "output_type": "stream",
     "text": [
      "EPOCH 70, LOSS=0.000340737, PDE RES=0.00022661 | LOSS u,v,p=(0.0191, 0.0059, 0.0742)\n"
     ]
    },
    {
     "name": "stderr",
     "output_type": "stream",
     "text": [
      "Recon:10 samples, loss=mse.:   7%|▊           | 72/1001 [01:07<14:18,  1.08it/s]"
     ]
    },
    {
     "name": "stdout",
     "output_type": "stream",
     "text": [
      "EPOCH 71, LOSS=0.000330049, PDE RES=0.000225064 | LOSS u,v,p=(0.0187, 0.0059, 0.0731)\n"
     ]
    },
    {
     "name": "stderr",
     "output_type": "stream",
     "text": [
      "Recon:10 samples, loss=mse.:   7%|▉           | 73/1001 [01:07<14:16,  1.08it/s]"
     ]
    },
    {
     "name": "stdout",
     "output_type": "stream",
     "text": [
      "EPOCH 72, LOSS=0.000317405, PDE RES=0.000215607 | LOSS u,v,p=(0.0187, 0.0057, 0.0712)\n"
     ]
    },
    {
     "name": "stderr",
     "output_type": "stream",
     "text": [
      "Recon:10 samples, loss=mse.:   7%|▉           | 74/1001 [01:08<14:15,  1.08it/s]"
     ]
    },
    {
     "name": "stdout",
     "output_type": "stream",
     "text": [
      "EPOCH 73, LOSS=0.000305236, PDE RES=0.000196891 | LOSS u,v,p=(0.0188, 0.0056, 0.0709)\n"
     ]
    },
    {
     "name": "stderr",
     "output_type": "stream",
     "text": [
      "Recon:10 samples, loss=mse.:   7%|▉           | 75/1001 [01:09<14:13,  1.09it/s]"
     ]
    },
    {
     "name": "stdout",
     "output_type": "stream",
     "text": [
      "EPOCH 74, LOSS=0.000292248, PDE RES=0.000183919 | LOSS u,v,p=(0.0185, 0.0054, 0.0698)\n"
     ]
    },
    {
     "name": "stderr",
     "output_type": "stream",
     "text": [
      "Recon:10 samples, loss=mse.:   8%|▉           | 76/1001 [01:10<14:13,  1.08it/s]"
     ]
    },
    {
     "name": "stdout",
     "output_type": "stream",
     "text": [
      "EPOCH 75, LOSS=0.000283157, PDE RES=0.000184703 | LOSS u,v,p=(0.0182, 0.0053, 0.0673)\n"
     ]
    },
    {
     "name": "stderr",
     "output_type": "stream",
     "text": [
      "Recon:10 samples, loss=mse.:   8%|▉           | 77/1001 [01:11<14:11,  1.09it/s]"
     ]
    },
    {
     "name": "stdout",
     "output_type": "stream",
     "text": [
      "EPOCH 76, LOSS=0.00027146, PDE RES=0.000182864 | LOSS u,v,p=(0.018, 0.0052, 0.0657)\n"
     ]
    },
    {
     "name": "stderr",
     "output_type": "stream",
     "text": [
      "Recon:10 samples, loss=mse.:   8%|▉           | 78/1001 [01:12<14:11,  1.08it/s]"
     ]
    },
    {
     "name": "stdout",
     "output_type": "stream",
     "text": [
      "EPOCH 77, LOSS=0.000262487, PDE RES=0.000180011 | LOSS u,v,p=(0.0177, 0.0052, 0.0654)\n"
     ]
    },
    {
     "name": "stderr",
     "output_type": "stream",
     "text": [
      "Recon:10 samples, loss=mse.:   8%|▉           | 79/1001 [01:13<14:10,  1.08it/s]"
     ]
    },
    {
     "name": "stdout",
     "output_type": "stream",
     "text": [
      "EPOCH 78, LOSS=0.00025145, PDE RES=0.000174246 | LOSS u,v,p=(0.0176, 0.0052, 0.0647)\n"
     ]
    },
    {
     "name": "stderr",
     "output_type": "stream",
     "text": [
      "Recon:10 samples, loss=mse.:   8%|▉           | 80/1001 [01:13<11:21,  1.35it/s]"
     ]
    },
    {
     "name": "stdout",
     "output_type": "stream",
     "text": [
      "EPOCH 79, LOSS=0.000248847, PDE RES=0.000172217 | LOSS u,v,p=(0.0176, 0.0051, 0.0645)\n"
     ]
    },
    {
     "name": "stderr",
     "output_type": "stream",
     "text": [
      "Recon:10 samples, loss=mse.:   8%|▉           | 81/1001 [01:14<12:11,  1.26it/s]"
     ]
    },
    {
     "name": "stdout",
     "output_type": "stream",
     "text": [
      "EPOCH 80, LOSS=0.000240858, PDE RES=0.000165436 | LOSS u,v,p=(0.0176, 0.005, 0.0646)\n"
     ]
    },
    {
     "name": "stderr",
     "output_type": "stream",
     "text": [
      "Recon:10 samples, loss=mse.:   8%|▉           | 82/1001 [01:15<12:44,  1.20it/s]"
     ]
    },
    {
     "name": "stdout",
     "output_type": "stream",
     "text": [
      "EPOCH 81, LOSS=0.000231384, PDE RES=0.00015415 | LOSS u,v,p=(0.0172, 0.0049, 0.0646)\n"
     ]
    },
    {
     "name": "stderr",
     "output_type": "stream",
     "text": [
      "Recon:10 samples, loss=mse.:   8%|▉           | 83/1001 [01:16<13:09,  1.16it/s]"
     ]
    },
    {
     "name": "stdout",
     "output_type": "stream",
     "text": [
      "EPOCH 82, LOSS=0.00022513, PDE RES=0.000145253 | LOSS u,v,p=(0.0169, 0.0048, 0.0639)\n"
     ]
    },
    {
     "name": "stderr",
     "output_type": "stream",
     "text": [
      "Recon:10 samples, loss=mse.:   8%|█           | 84/1001 [01:17<13:24,  1.14it/s]"
     ]
    },
    {
     "name": "stdout",
     "output_type": "stream",
     "text": [
      "EPOCH 83, LOSS=0.000219276, PDE RES=0.000140946 | LOSS u,v,p=(0.0168, 0.0048, 0.064)\n"
     ]
    },
    {
     "name": "stderr",
     "output_type": "stream",
     "text": [
      "Recon:10 samples, loss=mse.:   8%|█           | 85/1001 [01:18<13:34,  1.12it/s]"
     ]
    },
    {
     "name": "stdout",
     "output_type": "stream",
     "text": [
      "EPOCH 84, LOSS=0.000213457, PDE RES=0.000138999 | LOSS u,v,p=(0.0169, 0.005, 0.0651)\n"
     ]
    },
    {
     "name": "stderr",
     "output_type": "stream",
     "text": [
      "Recon:10 samples, loss=mse.:   9%|█           | 86/1001 [01:19<13:44,  1.11it/s]"
     ]
    },
    {
     "name": "stdout",
     "output_type": "stream",
     "text": [
      "EPOCH 85, LOSS=0.00020463, PDE RES=0.000133083 | LOSS u,v,p=(0.0167, 0.0049, 0.0662)\n"
     ]
    },
    {
     "name": "stderr",
     "output_type": "stream",
     "text": [
      "Recon:10 samples, loss=mse.:   9%|█           | 87/1001 [01:20<13:48,  1.10it/s]"
     ]
    },
    {
     "name": "stdout",
     "output_type": "stream",
     "text": [
      "EPOCH 86, LOSS=0.000196599, PDE RES=0.00012882 | LOSS u,v,p=(0.0165, 0.0048, 0.0671)\n"
     ]
    },
    {
     "name": "stderr",
     "output_type": "stream",
     "text": [
      "Recon:10 samples, loss=mse.:   9%|█           | 88/1001 [01:21<13:52,  1.10it/s]"
     ]
    },
    {
     "name": "stdout",
     "output_type": "stream",
     "text": [
      "EPOCH 87, LOSS=0.000186201, PDE RES=0.000123006 | LOSS u,v,p=(0.0163, 0.0048, 0.0687)\n"
     ]
    },
    {
     "name": "stderr",
     "output_type": "stream",
     "text": [
      "Recon:10 samples, loss=mse.:   9%|█           | 89/1001 [01:22<13:53,  1.09it/s]"
     ]
    },
    {
     "name": "stdout",
     "output_type": "stream",
     "text": [
      "EPOCH 88, LOSS=0.00018042, PDE RES=0.000116795 | LOSS u,v,p=(0.0161, 0.0047, 0.069)\n"
     ]
    },
    {
     "name": "stderr",
     "output_type": "stream",
     "text": [
      "Recon:10 samples, loss=mse.:   9%|█           | 90/1001 [01:23<13:54,  1.09it/s]"
     ]
    },
    {
     "name": "stdout",
     "output_type": "stream",
     "text": [
      "EPOCH 89, LOSS=0.000176606, PDE RES=0.000118364 | LOSS u,v,p=(0.0158, 0.0046, 0.0686)\n"
     ]
    },
    {
     "name": "stderr",
     "output_type": "stream",
     "text": [
      "Recon:10 samples, loss=mse.:   9%|█           | 91/1001 [01:23<12:01,  1.26it/s]"
     ]
    },
    {
     "name": "stdout",
     "output_type": "stream",
     "text": [
      "EPOCH 90, LOSS=0.000175096, PDE RES=0.000119956 | LOSS u,v,p=(0.0158, 0.0045, 0.0688)\n"
     ]
    },
    {
     "name": "stderr",
     "output_type": "stream",
     "text": [
      "Recon:10 samples, loss=mse.:   9%|█           | 92/1001 [01:24<12:34,  1.20it/s]"
     ]
    },
    {
     "name": "stdout",
     "output_type": "stream",
     "text": [
      "EPOCH 91, LOSS=0.000171254, PDE RES=0.000118134 | LOSS u,v,p=(0.0157, 0.0045, 0.0697)\n"
     ]
    },
    {
     "name": "stderr",
     "output_type": "stream",
     "text": [
      "Recon:10 samples, loss=mse.:   9%|█           | 93/1001 [01:25<12:59,  1.16it/s]"
     ]
    },
    {
     "name": "stdout",
     "output_type": "stream",
     "text": [
      "EPOCH 92, LOSS=0.000166009, PDE RES=0.000112109 | LOSS u,v,p=(0.0156, 0.0044, 0.0694)\n"
     ]
    },
    {
     "name": "stderr",
     "output_type": "stream",
     "text": [
      "Recon:10 samples, loss=mse.:   9%|█▏          | 94/1001 [01:26<13:15,  1.14it/s]"
     ]
    },
    {
     "name": "stdout",
     "output_type": "stream",
     "text": [
      "EPOCH 93, LOSS=0.00015928, PDE RES=0.000110277 | LOSS u,v,p=(0.0153, 0.0043, 0.0673)\n"
     ]
    },
    {
     "name": "stderr",
     "output_type": "stream",
     "text": [
      "Recon:10 samples, loss=mse.:   9%|█▏          | 95/1001 [01:27<13:27,  1.12it/s]"
     ]
    },
    {
     "name": "stdout",
     "output_type": "stream",
     "text": [
      "EPOCH 94, LOSS=0.000151456, PDE RES=0.000109328 | LOSS u,v,p=(0.0151, 0.0043, 0.0665)\n"
     ]
    },
    {
     "name": "stderr",
     "output_type": "stream",
     "text": [
      "Recon:10 samples, loss=mse.:  10%|█▏          | 96/1001 [01:28<13:34,  1.11it/s]"
     ]
    },
    {
     "name": "stdout",
     "output_type": "stream",
     "text": [
      "EPOCH 95, LOSS=0.000147867, PDE RES=0.000106258 | LOSS u,v,p=(0.015, 0.0042, 0.0662)\n"
     ]
    },
    {
     "name": "stderr",
     "output_type": "stream",
     "text": [
      "Recon:10 samples, loss=mse.:  10%|█▏          | 97/1001 [01:29<13:40,  1.10it/s]"
     ]
    },
    {
     "name": "stdout",
     "output_type": "stream",
     "text": [
      "EPOCH 96, LOSS=0.000143251, PDE RES=0.000100068 | LOSS u,v,p=(0.0148, 0.0041, 0.0648)\n"
     ]
    },
    {
     "name": "stderr",
     "output_type": "stream",
     "text": [
      "Recon:10 samples, loss=mse.:  10%|█▏          | 98/1001 [01:30<13:44,  1.09it/s]"
     ]
    },
    {
     "name": "stdout",
     "output_type": "stream",
     "text": [
      "EPOCH 97, LOSS=0.00014021, PDE RES=9.7202e-05 | LOSS u,v,p=(0.0146, 0.0041, 0.0639)\n"
     ]
    },
    {
     "name": "stderr",
     "output_type": "stream",
     "text": [
      "Recon:10 samples, loss=mse.:  10%|█▏          | 99/1001 [01:30<13:46,  1.09it/s]"
     ]
    },
    {
     "name": "stdout",
     "output_type": "stream",
     "text": [
      "EPOCH 98, LOSS=0.000136945, PDE RES=9.5353e-05 | LOSS u,v,p=(0.0144, 0.0041, 0.0632)\n"
     ]
    },
    {
     "name": "stderr",
     "output_type": "stream",
     "text": [
      "Recon:10 samples, loss=mse.:  10%|█          | 100/1001 [01:31<13:46,  1.09it/s]"
     ]
    },
    {
     "name": "stdout",
     "output_type": "stream",
     "text": [
      "EPOCH 99, LOSS=0.000132842, PDE RES=9.0317e-05 | LOSS u,v,p=(0.0144, 0.0041, 0.0623)\n"
     ]
    },
    {
     "name": "stderr",
     "output_type": "stream",
     "text": [
      "Recon:10 samples, loss=mse.:  10%|█          | 101/1001 [01:32<13:46,  1.09it/s]"
     ]
    },
    {
     "name": "stdout",
     "output_type": "stream",
     "text": [
      "EPOCH 100, LOSS=0.00012867, PDE RES=8.7605e-05 | LOSS u,v,p=(0.0143, 0.0041, 0.0618)\n"
     ]
    },
    {
     "name": "stderr",
     "output_type": "stream",
     "text": [
      "Recon:10 samples, loss=mse.:  10%|█          | 102/1001 [01:33<13:48,  1.09it/s]"
     ]
    },
    {
     "name": "stdout",
     "output_type": "stream",
     "text": [
      "EPOCH 101, LOSS=0.000125096, PDE RES=8.6256e-05 | LOSS u,v,p=(0.014, 0.0041, 0.061)\n"
     ]
    },
    {
     "name": "stderr",
     "output_type": "stream",
     "text": [
      "Recon:10 samples, loss=mse.:  10%|█▏         | 103/1001 [01:34<13:47,  1.09it/s]"
     ]
    },
    {
     "name": "stdout",
     "output_type": "stream",
     "text": [
      "EPOCH 102, LOSS=0.000121818, PDE RES=8.2124e-05 | LOSS u,v,p=(0.0139, 0.0041, 0.0603)\n"
     ]
    },
    {
     "name": "stderr",
     "output_type": "stream",
     "text": [
      "Recon:10 samples, loss=mse.:  10%|█▏         | 104/1001 [01:35<13:45,  1.09it/s]"
     ]
    },
    {
     "name": "stdout",
     "output_type": "stream",
     "text": [
      "EPOCH 103, LOSS=0.000119643, PDE RES=7.79e-05 | LOSS u,v,p=(0.0138, 0.0041, 0.0603)\n"
     ]
    },
    {
     "name": "stderr",
     "output_type": "stream",
     "text": [
      "Recon:10 samples, loss=mse.:  10%|█▏         | 105/1001 [01:36<13:44,  1.09it/s]"
     ]
    },
    {
     "name": "stdout",
     "output_type": "stream",
     "text": [
      "EPOCH 104, LOSS=0.000117251, PDE RES=7.511e-05 | LOSS u,v,p=(0.0139, 0.0041, 0.0611)\n"
     ]
    },
    {
     "name": "stderr",
     "output_type": "stream",
     "text": [
      "Recon:10 samples, loss=mse.:  11%|█▏         | 106/1001 [01:37<12:27,  1.20it/s]"
     ]
    },
    {
     "name": "stdout",
     "output_type": "stream",
     "text": [
      "EPOCH 105, LOSS=0.000115919, PDE RES=7.5709e-05 | LOSS u,v,p=(0.0139, 0.004, 0.0615)\n"
     ]
    },
    {
     "name": "stderr",
     "output_type": "stream",
     "text": [
      "Recon:10 samples, loss=mse.:  11%|█▏         | 107/1001 [01:38<12:49,  1.16it/s]"
     ]
    },
    {
     "name": "stdout",
     "output_type": "stream",
     "text": [
      "EPOCH 106, LOSS=0.000114532, PDE RES=7.7765e-05 | LOSS u,v,p=(0.0137, 0.004, 0.062)\n"
     ]
    },
    {
     "name": "stderr",
     "output_type": "stream",
     "text": [
      "Recon:10 samples, loss=mse.:  11%|█▏         | 108/1001 [01:38<13:07,  1.13it/s]"
     ]
    },
    {
     "name": "stdout",
     "output_type": "stream",
     "text": [
      "EPOCH 107, LOSS=0.000110916, PDE RES=7.6267e-05 | LOSS u,v,p=(0.0134, 0.0039, 0.0626)\n"
     ]
    },
    {
     "name": "stderr",
     "output_type": "stream",
     "text": [
      "Recon:10 samples, loss=mse.:  11%|█▏         | 109/1001 [01:39<13:16,  1.12it/s]"
     ]
    },
    {
     "name": "stdout",
     "output_type": "stream",
     "text": [
      "EPOCH 108, LOSS=0.000108089, PDE RES=7.4655e-05 | LOSS u,v,p=(0.0133, 0.0039, 0.063)\n"
     ]
    },
    {
     "name": "stderr",
     "output_type": "stream",
     "text": [
      "Recon:10 samples, loss=mse.:  11%|█▏         | 110/1001 [01:40<13:23,  1.11it/s]"
     ]
    },
    {
     "name": "stdout",
     "output_type": "stream",
     "text": [
      "EPOCH 109, LOSS=0.000106367, PDE RES=7.3891e-05 | LOSS u,v,p=(0.0132, 0.0039, 0.063)\n"
     ]
    },
    {
     "name": "stderr",
     "output_type": "stream",
     "text": [
      "Recon:10 samples, loss=mse.:  11%|█▏         | 111/1001 [01:41<13:27,  1.10it/s]"
     ]
    },
    {
     "name": "stdout",
     "output_type": "stream",
     "text": [
      "EPOCH 110, LOSS=0.000104469, PDE RES=7.3506e-05 | LOSS u,v,p=(0.0131, 0.0039, 0.0625)\n"
     ]
    },
    {
     "name": "stderr",
     "output_type": "stream",
     "text": [
      "Recon:10 samples, loss=mse.:  11%|█▏         | 112/1001 [01:42<13:30,  1.10it/s]"
     ]
    },
    {
     "name": "stdout",
     "output_type": "stream",
     "text": [
      "EPOCH 111, LOSS=0.000102374, PDE RES=7.3366e-05 | LOSS u,v,p=(0.0131, 0.0039, 0.0626)\n"
     ]
    },
    {
     "name": "stderr",
     "output_type": "stream",
     "text": [
      "Recon:10 samples, loss=mse.:  11%|█▏         | 113/1001 [01:43<13:32,  1.09it/s]"
     ]
    },
    {
     "name": "stdout",
     "output_type": "stream",
     "text": [
      "EPOCH 112, LOSS=0.000100072, PDE RES=7.207e-05 | LOSS u,v,p=(0.0131, 0.0039, 0.0633)\n"
     ]
    },
    {
     "name": "stderr",
     "output_type": "stream",
     "text": [
      "Recon:10 samples, loss=mse.:  11%|█▎         | 114/1001 [01:44<13:33,  1.09it/s]"
     ]
    },
    {
     "name": "stdout",
     "output_type": "stream",
     "text": [
      "EPOCH 113, LOSS=9.8013e-05, PDE RES=6.9729e-05 | LOSS u,v,p=(0.013, 0.0039, 0.0637)\n"
     ]
    },
    {
     "name": "stderr",
     "output_type": "stream",
     "text": [
      "Recon:10 samples, loss=mse.:  11%|█▎         | 115/1001 [01:45<14:08,  1.04it/s]"
     ]
    },
    {
     "name": "stdout",
     "output_type": "stream",
     "text": [
      "EPOCH 114, LOSS=9.5257e-05, PDE RES=6.6889e-05 | LOSS u,v,p=(0.0129, 0.0039, 0.0647)\n"
     ]
    },
    {
     "name": "stderr",
     "output_type": "stream",
     "text": [
      "Recon:10 samples, loss=mse.:  12%|█▎         | 116/1001 [01:46<14:44,  1.00it/s]"
     ]
    },
    {
     "name": "stdout",
     "output_type": "stream",
     "text": [
      "EPOCH 115, LOSS=9.3132e-05, PDE RES=6.6057e-05 | LOSS u,v,p=(0.0128, 0.0039, 0.066)\n"
     ]
    },
    {
     "name": "stderr",
     "output_type": "stream",
     "text": [
      "Recon:10 samples, loss=mse.:  12%|█▎         | 117/1001 [01:47<14:57,  1.02s/it]"
     ]
    },
    {
     "name": "stdout",
     "output_type": "stream",
     "text": [
      "EPOCH 116, LOSS=9.033e-05, PDE RES=6.328e-05 | LOSS u,v,p=(0.0128, 0.0039, 0.0673)\n"
     ]
    },
    {
     "name": "stderr",
     "output_type": "stream",
     "text": [
      "Recon:10 samples, loss=mse.:  12%|█▎         | 118/1001 [01:48<14:54,  1.01s/it]"
     ]
    },
    {
     "name": "stdout",
     "output_type": "stream",
     "text": [
      "EPOCH 117, LOSS=8.9061e-05, PDE RES=6.1126e-05 | LOSS u,v,p=(0.0129, 0.0039, 0.069)\n"
     ]
    },
    {
     "name": "stderr",
     "output_type": "stream",
     "text": [
      "Recon:10 samples, loss=mse.:  12%|█▎         | 119/1001 [01:49<14:46,  1.01s/it]"
     ]
    },
    {
     "name": "stdout",
     "output_type": "stream",
     "text": [
      "EPOCH 118, LOSS=8.8144e-05, PDE RES=6.0518e-05 | LOSS u,v,p=(0.0129, 0.0039, 0.0706)\n"
     ]
    },
    {
     "name": "stderr",
     "output_type": "stream",
     "text": [
      "Recon:10 samples, loss=mse.:  12%|█▎         | 120/1001 [01:50<14:44,  1.00s/it]"
     ]
    },
    {
     "name": "stdout",
     "output_type": "stream",
     "text": [
      "EPOCH 119, LOSS=8.6457e-05, PDE RES=6.0484e-05 | LOSS u,v,p=(0.0129, 0.0039, 0.0728)\n"
     ]
    },
    {
     "name": "stderr",
     "output_type": "stream",
     "text": [
      "Recon:10 samples, loss=mse.:  12%|█▎         | 121/1001 [01:51<14:50,  1.01s/it]"
     ]
    },
    {
     "name": "stdout",
     "output_type": "stream",
     "text": [
      "EPOCH 120, LOSS=8.4013e-05, PDE RES=5.9675e-05 | LOSS u,v,p=(0.0127, 0.0039, 0.0757)\n"
     ]
    },
    {
     "name": "stderr",
     "output_type": "stream",
     "text": [
      "Recon:10 samples, loss=mse.:  12%|█▎         | 122/1001 [01:52<14:38,  1.00it/s]"
     ]
    },
    {
     "name": "stdout",
     "output_type": "stream",
     "text": [
      "EPOCH 121, LOSS=8.0247e-05, PDE RES=5.5331e-05 | LOSS u,v,p=(0.0125, 0.004, 0.0785)\n"
     ]
    },
    {
     "name": "stderr",
     "output_type": "stream",
     "text": [
      "Recon:10 samples, loss=mse.:  12%|█▎         | 123/1001 [01:53<14:18,  1.02it/s]"
     ]
    },
    {
     "name": "stdout",
     "output_type": "stream",
     "text": [
      "EPOCH 122, LOSS=7.8028e-05, PDE RES=5.2594e-05 | LOSS u,v,p=(0.0124, 0.004, 0.0809)\n"
     ]
    },
    {
     "name": "stderr",
     "output_type": "stream",
     "text": [
      "Recon:10 samples, loss=mse.:  12%|█▎         | 124/1001 [01:54<14:03,  1.04it/s]"
     ]
    },
    {
     "name": "stdout",
     "output_type": "stream",
     "text": [
      "EPOCH 123, LOSS=7.6118e-05, PDE RES=5.1889e-05 | LOSS u,v,p=(0.0122, 0.0039, 0.0848)\n"
     ]
    },
    {
     "name": "stderr",
     "output_type": "stream",
     "text": [
      "Recon:10 samples, loss=mse.:  12%|█▎         | 125/1001 [01:55<13:52,  1.05it/s]"
     ]
    },
    {
     "name": "stdout",
     "output_type": "stream",
     "text": [
      "EPOCH 124, LOSS=7.3785e-05, PDE RES=5.0402e-05 | LOSS u,v,p=(0.012, 0.0039, 0.088)\n"
     ]
    },
    {
     "name": "stderr",
     "output_type": "stream",
     "text": [
      "Recon:10 samples, loss=mse.:  13%|█▍         | 126/1001 [01:56<13:43,  1.06it/s]"
     ]
    },
    {
     "name": "stdout",
     "output_type": "stream",
     "text": [
      "EPOCH 125, LOSS=7.2613e-05, PDE RES=4.8125e-05 | LOSS u,v,p=(0.0121, 0.0039, 0.0894)\n"
     ]
    },
    {
     "name": "stderr",
     "output_type": "stream",
     "text": [
      "Recon:10 samples, loss=mse.:  13%|█▍         | 127/1001 [01:57<13:37,  1.07it/s]"
     ]
    },
    {
     "name": "stdout",
     "output_type": "stream",
     "text": [
      "EPOCH 126, LOSS=7.1019e-05, PDE RES=4.6282e-05 | LOSS u,v,p=(0.0121, 0.0039, 0.0918)\n"
     ]
    },
    {
     "name": "stderr",
     "output_type": "stream",
     "text": [
      "Recon:10 samples, loss=mse.:  13%|█▍         | 128/1001 [01:58<13:32,  1.07it/s]"
     ]
    },
    {
     "name": "stdout",
     "output_type": "stream",
     "text": [
      "EPOCH 127, LOSS=6.9804e-05, PDE RES=4.7256e-05 | LOSS u,v,p=(0.0119, 0.0039, 0.0952)\n"
     ]
    },
    {
     "name": "stderr",
     "output_type": "stream",
     "text": [
      "Recon:10 samples, loss=mse.:  13%|█▍         | 129/1001 [01:59<13:30,  1.08it/s]"
     ]
    },
    {
     "name": "stdout",
     "output_type": "stream",
     "text": [
      "EPOCH 128, LOSS=6.8489e-05, PDE RES=4.6935e-05 | LOSS u,v,p=(0.0118, 0.0039, 0.0972)\n"
     ]
    },
    {
     "name": "stderr",
     "output_type": "stream",
     "text": [
      "Recon:10 samples, loss=mse.:  13%|█▍         | 130/1001 [02:00<13:28,  1.08it/s]"
     ]
    },
    {
     "name": "stdout",
     "output_type": "stream",
     "text": [
      "EPOCH 129, LOSS=6.787e-05, PDE RES=4.6731e-05 | LOSS u,v,p=(0.0118, 0.0039, 0.0979)\n"
     ]
    },
    {
     "name": "stderr",
     "output_type": "stream",
     "text": [
      "Recon:10 samples, loss=mse.:  13%|█▍         | 131/1001 [02:00<13:25,  1.08it/s]"
     ]
    },
    {
     "name": "stdout",
     "output_type": "stream",
     "text": [
      "EPOCH 130, LOSS=6.7148e-05, PDE RES=4.7256e-05 | LOSS u,v,p=(0.0117, 0.0039, 0.0986)\n"
     ]
    },
    {
     "name": "stderr",
     "output_type": "stream",
     "text": [
      "Recon:10 samples, loss=mse.:  13%|█▍         | 132/1001 [02:01<13:23,  1.08it/s]"
     ]
    },
    {
     "name": "stdout",
     "output_type": "stream",
     "text": [
      "EPOCH 131, LOSS=6.6091e-05, PDE RES=4.6902e-05 | LOSS u,v,p=(0.0117, 0.0038, 0.0996)\n"
     ]
    },
    {
     "name": "stderr",
     "output_type": "stream",
     "text": [
      "Recon:10 samples, loss=mse.:  13%|█▍         | 133/1001 [02:02<13:22,  1.08it/s]"
     ]
    },
    {
     "name": "stdout",
     "output_type": "stream",
     "text": [
      "EPOCH 132, LOSS=6.5732e-05, PDE RES=4.638e-05 | LOSS u,v,p=(0.0116, 0.0038, 0.0993)\n"
     ]
    },
    {
     "name": "stderr",
     "output_type": "stream",
     "text": [
      "Recon:10 samples, loss=mse.:  13%|█▍         | 134/1001 [02:03<10:55,  1.32it/s]"
     ]
    },
    {
     "name": "stdout",
     "output_type": "stream",
     "text": [
      "EPOCH 133, LOSS=6.5192e-05, PDE RES=4.5835e-05 | LOSS u,v,p=(0.0116, 0.0038, 0.099)\n"
     ]
    },
    {
     "name": "stderr",
     "output_type": "stream",
     "text": [
      "Recon:10 samples, loss=mse.:  13%|█▍         | 135/1001 [02:04<11:37,  1.24it/s]"
     ]
    },
    {
     "name": "stdout",
     "output_type": "stream",
     "text": [
      "EPOCH 134, LOSS=6.4436e-05, PDE RES=4.5242e-05 | LOSS u,v,p=(0.0115, 0.0039, 0.0994)\n"
     ]
    },
    {
     "name": "stderr",
     "output_type": "stream",
     "text": [
      "Recon:10 samples, loss=mse.:  14%|█▍         | 136/1001 [02:05<12:07,  1.19it/s]"
     ]
    },
    {
     "name": "stdout",
     "output_type": "stream",
     "text": [
      "EPOCH 135, LOSS=6.377e-05, PDE RES=4.4745e-05 | LOSS u,v,p=(0.0115, 0.0039, 0.1013)\n"
     ]
    },
    {
     "name": "stderr",
     "output_type": "stream",
     "text": [
      "Recon:10 samples, loss=mse.:  14%|█▌         | 137/1001 [02:05<12:26,  1.16it/s]"
     ]
    },
    {
     "name": "stdout",
     "output_type": "stream",
     "text": [
      "EPOCH 136, LOSS=6.301e-05, PDE RES=4.4706e-05 | LOSS u,v,p=(0.0114, 0.0039, 0.1027)\n"
     ]
    },
    {
     "name": "stderr",
     "output_type": "stream",
     "text": [
      "Recon:10 samples, loss=mse.:  14%|█▌         | 138/1001 [02:06<12:41,  1.13it/s]"
     ]
    },
    {
     "name": "stdout",
     "output_type": "stream",
     "text": [
      "EPOCH 137, LOSS=6.201e-05, PDE RES=4.4382e-05 | LOSS u,v,p=(0.0113, 0.0039, 0.104)\n"
     ]
    },
    {
     "name": "stderr",
     "output_type": "stream",
     "text": [
      "Recon:10 samples, loss=mse.:  14%|█▌         | 139/1001 [02:07<12:51,  1.12it/s]"
     ]
    },
    {
     "name": "stdout",
     "output_type": "stream",
     "text": [
      "EPOCH 138, LOSS=6.1318e-05, PDE RES=4.3035e-05 | LOSS u,v,p=(0.0114, 0.0039, 0.1059)\n"
     ]
    },
    {
     "name": "stderr",
     "output_type": "stream",
     "text": [
      "Recon:10 samples, loss=mse.:  14%|█▌         | 140/1001 [02:08<12:57,  1.11it/s]"
     ]
    },
    {
     "name": "stdout",
     "output_type": "stream",
     "text": [
      "EPOCH 139, LOSS=6.065e-05, PDE RES=4.1737e-05 | LOSS u,v,p=(0.0113, 0.0039, 0.1081)\n"
     ]
    },
    {
     "name": "stderr",
     "output_type": "stream",
     "text": [
      "Recon:10 samples, loss=mse.:  14%|█▌         | 141/1001 [02:09<13:01,  1.10it/s]"
     ]
    },
    {
     "name": "stdout",
     "output_type": "stream",
     "text": [
      "EPOCH 140, LOSS=6.0176e-05, PDE RES=4.1707e-05 | LOSS u,v,p=(0.0112, 0.0039, 0.1095)\n"
     ]
    },
    {
     "name": "stderr",
     "output_type": "stream",
     "text": [
      "Recon:10 samples, loss=mse.:  14%|█▌         | 142/1001 [02:10<13:03,  1.10it/s]"
     ]
    },
    {
     "name": "stdout",
     "output_type": "stream",
     "text": [
      "EPOCH 141, LOSS=5.9397e-05, PDE RES=4.1323e-05 | LOSS u,v,p=(0.0112, 0.0039, 0.1109)\n"
     ]
    },
    {
     "name": "stderr",
     "output_type": "stream",
     "text": [
      "Recon:10 samples, loss=mse.:  14%|█▌         | 143/1001 [02:11<13:05,  1.09it/s]"
     ]
    },
    {
     "name": "stdout",
     "output_type": "stream",
     "text": [
      "EPOCH 142, LOSS=5.8695e-05, PDE RES=4.1129e-05 | LOSS u,v,p=(0.0111, 0.0039, 0.1122)\n"
     ]
    },
    {
     "name": "stderr",
     "output_type": "stream",
     "text": [
      "Recon:10 samples, loss=mse.:  14%|█▌         | 144/1001 [02:12<13:06,  1.09it/s]"
     ]
    },
    {
     "name": "stdout",
     "output_type": "stream",
     "text": [
      "EPOCH 143, LOSS=5.7847e-05, PDE RES=4.0715e-05 | LOSS u,v,p=(0.0111, 0.0039, 0.1134)\n"
     ]
    },
    {
     "name": "stderr",
     "output_type": "stream",
     "text": [
      "Recon:10 samples, loss=mse.:  14%|█▌         | 145/1001 [02:13<13:33,  1.05it/s]"
     ]
    },
    {
     "name": "stdout",
     "output_type": "stream",
     "text": [
      "EPOCH 144, LOSS=5.7948e-05, PDE RES=4.0765e-05 | LOSS u,v,p=(0.0111, 0.0039, 0.1142)\n"
     ]
    },
    {
     "name": "stderr",
     "output_type": "stream",
     "text": [
      "Recon:10 samples, loss=mse.:  15%|█▌         | 146/1001 [02:14<13:42,  1.04it/s]"
     ]
    },
    {
     "name": "stdout",
     "output_type": "stream",
     "text": [
      "EPOCH 145, LOSS=5.6462e-05, PDE RES=3.9477e-05 | LOSS u,v,p=(0.0111, 0.0039, 0.1152)\n"
     ]
    },
    {
     "name": "stderr",
     "output_type": "stream",
     "text": [
      "Recon:10 samples, loss=mse.:  15%|█▌         | 147/1001 [02:15<13:53,  1.02it/s]"
     ]
    },
    {
     "name": "stdout",
     "output_type": "stream",
     "text": [
      "EPOCH 146, LOSS=5.5975e-05, PDE RES=3.95e-05 | LOSS u,v,p=(0.0111, 0.0039, 0.1163)\n"
     ]
    },
    {
     "name": "stderr",
     "output_type": "stream",
     "text": [
      "Recon:10 samples, loss=mse.:  15%|█▋         | 148/1001 [02:16<13:38,  1.04it/s]"
     ]
    },
    {
     "name": "stdout",
     "output_type": "stream",
     "text": [
      "EPOCH 147, LOSS=5.5223e-05, PDE RES=3.9535e-05 | LOSS u,v,p=(0.011, 0.0038, 0.1171)\n"
     ]
    },
    {
     "name": "stderr",
     "output_type": "stream",
     "text": [
      "Recon:10 samples, loss=mse.:  15%|█▋         | 149/1001 [02:17<13:27,  1.05it/s]"
     ]
    },
    {
     "name": "stdout",
     "output_type": "stream",
     "text": [
      "EPOCH 148, LOSS=5.4736e-05, PDE RES=3.9639e-05 | LOSS u,v,p=(0.0109, 0.0038, 0.1178)\n"
     ]
    },
    {
     "name": "stderr",
     "output_type": "stream",
     "text": [
      "Recon:10 samples, loss=mse.:  15%|█▋         | 150/1001 [02:18<13:18,  1.07it/s]"
     ]
    },
    {
     "name": "stdout",
     "output_type": "stream",
     "text": [
      "EPOCH 149, LOSS=5.4853e-05, PDE RES=3.9756e-05 | LOSS u,v,p=(0.0109, 0.0038, 0.1189)\n"
     ]
    },
    {
     "name": "stderr",
     "output_type": "stream",
     "text": [
      "Recon:10 samples, loss=mse.:  15%|█▋         | 151/1001 [02:19<13:15,  1.07it/s]"
     ]
    },
    {
     "name": "stdout",
     "output_type": "stream",
     "text": [
      "EPOCH 150, LOSS=5.3506e-05, PDE RES=3.8577e-05 | LOSS u,v,p=(0.0109, 0.0037, 0.1211)\n"
     ]
    },
    {
     "name": "stderr",
     "output_type": "stream",
     "text": [
      "Recon:10 samples, loss=mse.:  15%|█▋         | 152/1001 [02:20<13:10,  1.07it/s]"
     ]
    },
    {
     "name": "stdout",
     "output_type": "stream",
     "text": [
      "EPOCH 151, LOSS=5.2771e-05, PDE RES=3.835e-05 | LOSS u,v,p=(0.0109, 0.0037, 0.1232)\n"
     ]
    },
    {
     "name": "stderr",
     "output_type": "stream",
     "text": [
      "Recon:10 samples, loss=mse.:  15%|█▋         | 153/1001 [02:20<13:08,  1.08it/s]"
     ]
    },
    {
     "name": "stdout",
     "output_type": "stream",
     "text": [
      "EPOCH 152, LOSS=5.2087e-05, PDE RES=3.7589e-05 | LOSS u,v,p=(0.0109, 0.0037, 0.1236)\n"
     ]
    },
    {
     "name": "stderr",
     "output_type": "stream",
     "text": [
      "Recon:10 samples, loss=mse.:  15%|█▋         | 154/1001 [02:21<13:04,  1.08it/s]"
     ]
    },
    {
     "name": "stdout",
     "output_type": "stream",
     "text": [
      "EPOCH 153, LOSS=5.1405e-05, PDE RES=3.6934e-05 | LOSS u,v,p=(0.0108, 0.0037, 0.125)\n"
     ]
    },
    {
     "name": "stderr",
     "output_type": "stream",
     "text": [
      "Recon:10 samples, loss=mse.:  15%|█▋         | 155/1001 [02:22<13:02,  1.08it/s]"
     ]
    },
    {
     "name": "stdout",
     "output_type": "stream",
     "text": [
      "EPOCH 154, LOSS=5.0968e-05, PDE RES=3.6854e-05 | LOSS u,v,p=(0.0107, 0.0036, 0.1264)\n"
     ]
    },
    {
     "name": "stderr",
     "output_type": "stream",
     "text": [
      "Recon:10 samples, loss=mse.:  16%|█▋         | 156/1001 [02:23<13:00,  1.08it/s]"
     ]
    },
    {
     "name": "stdout",
     "output_type": "stream",
     "text": [
      "EPOCH 155, LOSS=5.0275e-05, PDE RES=3.6485e-05 | LOSS u,v,p=(0.0107, 0.0036, 0.1265)\n"
     ]
    },
    {
     "name": "stderr",
     "output_type": "stream",
     "text": [
      "Recon:10 samples, loss=mse.:  16%|█▋         | 157/1001 [02:24<13:18,  1.06it/s]"
     ]
    },
    {
     "name": "stdout",
     "output_type": "stream",
     "text": [
      "EPOCH 156, LOSS=4.9112e-05, PDE RES=3.6215e-05 | LOSS u,v,p=(0.0107, 0.0035, 0.1256)\n"
     ]
    },
    {
     "name": "stderr",
     "output_type": "stream",
     "text": [
      "Recon:10 samples, loss=mse.:  16%|█▋         | 158/1001 [02:25<14:01,  1.00it/s]"
     ]
    },
    {
     "name": "stdout",
     "output_type": "stream",
     "text": [
      "EPOCH 157, LOSS=4.9172e-05, PDE RES=3.6785e-05 | LOSS u,v,p=(0.0106, 0.0035, 0.1254)\n"
     ]
    },
    {
     "name": "stderr",
     "output_type": "stream",
     "text": [
      "Recon:10 samples, loss=mse.:  16%|█▋         | 159/1001 [02:26<14:00,  1.00it/s]"
     ]
    },
    {
     "name": "stdout",
     "output_type": "stream",
     "text": [
      "EPOCH 158, LOSS=4.7231e-05, PDE RES=3.4683e-05 | LOSS u,v,p=(0.0107, 0.0035, 0.1244)\n"
     ]
    },
    {
     "name": "stderr",
     "output_type": "stream",
     "text": [
      "Recon:10 samples, loss=mse.:  16%|█▊         | 160/1001 [02:27<13:42,  1.02it/s]"
     ]
    },
    {
     "name": "stdout",
     "output_type": "stream",
     "text": [
      "EPOCH 159, LOSS=4.6481e-05, PDE RES=3.3677e-05 | LOSS u,v,p=(0.0106, 0.0034, 0.1236)\n"
     ]
    },
    {
     "name": "stderr",
     "output_type": "stream",
     "text": [
      "Recon:10 samples, loss=mse.:  16%|█▊         | 161/1001 [02:28<13:44,  1.02it/s]"
     ]
    },
    {
     "name": "stdout",
     "output_type": "stream",
     "text": [
      "EPOCH 160, LOSS=4.6091e-05, PDE RES=3.3605e-05 | LOSS u,v,p=(0.0105, 0.0034, 0.1243)\n"
     ]
    },
    {
     "name": "stderr",
     "output_type": "stream",
     "text": [
      "Recon:10 samples, loss=mse.:  16%|█▊         | 162/1001 [02:29<13:30,  1.03it/s]"
     ]
    },
    {
     "name": "stdout",
     "output_type": "stream",
     "text": [
      "EPOCH 161, LOSS=4.5629e-05, PDE RES=3.3785e-05 | LOSS u,v,p=(0.0105, 0.0034, 0.1249)\n"
     ]
    },
    {
     "name": "stderr",
     "output_type": "stream",
     "text": [
      "Recon:10 samples, loss=mse.:  16%|█▊         | 163/1001 [02:30<10:46,  1.30it/s]"
     ]
    },
    {
     "name": "stdout",
     "output_type": "stream",
     "text": [
      "EPOCH 162, LOSS=4.4914e-05, PDE RES=3.3141e-05 | LOSS u,v,p=(0.0105, 0.0034, 0.1249)\n"
     ]
    },
    {
     "name": "stderr",
     "output_type": "stream",
     "text": [
      "Recon:10 samples, loss=mse.:  16%|█▊         | 164/1001 [02:30<11:24,  1.22it/s]"
     ]
    },
    {
     "name": "stdout",
     "output_type": "stream",
     "text": [
      "EPOCH 163, LOSS=4.4709e-05, PDE RES=3.2994e-05 | LOSS u,v,p=(0.0105, 0.0034, 0.1244)\n"
     ]
    },
    {
     "name": "stderr",
     "output_type": "stream",
     "text": [
      "Recon:10 samples, loss=mse.:  16%|█▊         | 165/1001 [02:31<11:49,  1.18it/s]"
     ]
    },
    {
     "name": "stdout",
     "output_type": "stream",
     "text": [
      "EPOCH 164, LOSS=4.4269e-05, PDE RES=3.2533e-05 | LOSS u,v,p=(0.0104, 0.0034, 0.1241)\n"
     ]
    },
    {
     "name": "stderr",
     "output_type": "stream",
     "text": [
      "Recon:10 samples, loss=mse.:  17%|█▊         | 166/1001 [02:32<12:06,  1.15it/s]"
     ]
    },
    {
     "name": "stdout",
     "output_type": "stream",
     "text": [
      "EPOCH 165, LOSS=4.3618e-05, PDE RES=3.1752e-05 | LOSS u,v,p=(0.0104, 0.0033, 0.1241)\n"
     ]
    },
    {
     "name": "stderr",
     "output_type": "stream",
     "text": [
      "Recon:10 samples, loss=mse.:  17%|█▊         | 167/1001 [02:33<12:18,  1.13it/s]"
     ]
    },
    {
     "name": "stdout",
     "output_type": "stream",
     "text": [
      "EPOCH 166, LOSS=4.3199e-05, PDE RES=3.1335e-05 | LOSS u,v,p=(0.0104, 0.0033, 0.1244)\n"
     ]
    },
    {
     "name": "stderr",
     "output_type": "stream",
     "text": [
      "Recon:10 samples, loss=mse.:  17%|█▊         | 168/1001 [02:34<12:26,  1.12it/s]"
     ]
    },
    {
     "name": "stdout",
     "output_type": "stream",
     "text": [
      "EPOCH 167, LOSS=4.2637e-05, PDE RES=3.126e-05 | LOSS u,v,p=(0.0103, 0.0033, 0.1248)\n"
     ]
    },
    {
     "name": "stderr",
     "output_type": "stream",
     "text": [
      "Recon:10 samples, loss=mse.:  17%|█▊         | 169/1001 [02:35<12:33,  1.10it/s]"
     ]
    },
    {
     "name": "stdout",
     "output_type": "stream",
     "text": [
      "EPOCH 168, LOSS=4.207e-05, PDE RES=3.1485e-05 | LOSS u,v,p=(0.0102, 0.0033, 0.125)\n"
     ]
    },
    {
     "name": "stderr",
     "output_type": "stream",
     "text": [
      "Recon:10 samples, loss=mse.:  17%|█▊         | 170/1001 [02:36<12:37,  1.10it/s]"
     ]
    },
    {
     "name": "stdout",
     "output_type": "stream",
     "text": [
      "EPOCH 169, LOSS=4.1822e-05, PDE RES=3.1575e-05 | LOSS u,v,p=(0.0101, 0.0032, 0.1254)\n"
     ]
    },
    {
     "name": "stderr",
     "output_type": "stream",
     "text": [
      "Recon:10 samples, loss=mse.:  17%|█▉         | 171/1001 [02:37<13:20,  1.04it/s]"
     ]
    },
    {
     "name": "stdout",
     "output_type": "stream",
     "text": [
      "EPOCH 170, LOSS=4.1295e-05, PDE RES=3.1058e-05 | LOSS u,v,p=(0.0101, 0.0032, 0.126)\n"
     ]
    },
    {
     "name": "stderr",
     "output_type": "stream",
     "text": [
      "Recon:10 samples, loss=mse.:  17%|█▉         | 172/1001 [02:38<13:39,  1.01it/s]"
     ]
    },
    {
     "name": "stdout",
     "output_type": "stream",
     "text": [
      "EPOCH 171, LOSS=4.0517e-05, PDE RES=3.0507e-05 | LOSS u,v,p=(0.0101, 0.0032, 0.1262)\n"
     ]
    },
    {
     "name": "stderr",
     "output_type": "stream",
     "text": [
      "Recon:10 samples, loss=mse.:  17%|█▉         | 173/1001 [02:39<13:23,  1.03it/s]"
     ]
    },
    {
     "name": "stdout",
     "output_type": "stream",
     "text": [
      "EPOCH 172, LOSS=3.9621e-05, PDE RES=3.0468e-05 | LOSS u,v,p=(0.01, 0.0032, 0.1268)\n"
     ]
    },
    {
     "name": "stderr",
     "output_type": "stream",
     "text": [
      "Recon:10 samples, loss=mse.:  17%|█▉         | 174/1001 [02:40<13:23,  1.03it/s]"
     ]
    },
    {
     "name": "stdout",
     "output_type": "stream",
     "text": [
      "EPOCH 173, LOSS=3.8944e-05, PDE RES=3.0292e-05 | LOSS u,v,p=(0.0099, 0.0031, 0.1277)\n"
     ]
    },
    {
     "name": "stderr",
     "output_type": "stream",
     "text": [
      "Recon:10 samples, loss=mse.:  17%|█▉         | 175/1001 [02:41<13:36,  1.01it/s]"
     ]
    },
    {
     "name": "stdout",
     "output_type": "stream",
     "text": [
      "EPOCH 174, LOSS=3.8642e-05, PDE RES=3.0006e-05 | LOSS u,v,p=(0.0098, 0.003, 0.1279)\n"
     ]
    },
    {
     "name": "stderr",
     "output_type": "stream",
     "text": [
      "Recon:10 samples, loss=mse.:  18%|█▉         | 176/1001 [02:42<13:43,  1.00it/s]"
     ]
    },
    {
     "name": "stdout",
     "output_type": "stream",
     "text": [
      "EPOCH 175, LOSS=3.8161e-05, PDE RES=2.9462e-05 | LOSS u,v,p=(0.0099, 0.003, 0.1279)\n"
     ]
    },
    {
     "name": "stderr",
     "output_type": "stream",
     "text": [
      "Recon:10 samples, loss=mse.:  18%|█▉         | 177/1001 [02:43<13:24,  1.02it/s]"
     ]
    },
    {
     "name": "stdout",
     "output_type": "stream",
     "text": [
      "EPOCH 176, LOSS=3.7837e-05, PDE RES=2.9259e-05 | LOSS u,v,p=(0.0099, 0.003, 0.1278)\n"
     ]
    },
    {
     "name": "stderr",
     "output_type": "stream",
     "text": [
      "Recon:10 samples, loss=mse.:  18%|█▉         | 178/1001 [02:44<13:08,  1.04it/s]"
     ]
    },
    {
     "name": "stdout",
     "output_type": "stream",
     "text": [
      "EPOCH 177, LOSS=3.7348e-05, PDE RES=2.8864e-05 | LOSS u,v,p=(0.0098, 0.003, 0.1277)\n"
     ]
    },
    {
     "name": "stderr",
     "output_type": "stream",
     "text": [
      "Recon:10 samples, loss=mse.:  18%|█▉         | 179/1001 [02:45<12:59,  1.05it/s]"
     ]
    },
    {
     "name": "stdout",
     "output_type": "stream",
     "text": [
      "EPOCH 178, LOSS=3.6905e-05, PDE RES=2.8541e-05 | LOSS u,v,p=(0.0098, 0.003, 0.1275)\n"
     ]
    },
    {
     "name": "stderr",
     "output_type": "stream",
     "text": [
      "Recon:10 samples, loss=mse.:  18%|█▉         | 180/1001 [02:46<12:52,  1.06it/s]"
     ]
    },
    {
     "name": "stdout",
     "output_type": "stream",
     "text": [
      "EPOCH 179, LOSS=3.6215e-05, PDE RES=2.7655e-05 | LOSS u,v,p=(0.0098, 0.003, 0.1274)\n"
     ]
    },
    {
     "name": "stderr",
     "output_type": "stream",
     "text": [
      "Recon:10 samples, loss=mse.:  18%|█▉         | 181/1001 [02:47<12:47,  1.07it/s]"
     ]
    },
    {
     "name": "stdout",
     "output_type": "stream",
     "text": [
      "EPOCH 180, LOSS=3.5573e-05, PDE RES=2.6432e-05 | LOSS u,v,p=(0.0098, 0.0029, 0.1268)\n"
     ]
    },
    {
     "name": "stderr",
     "output_type": "stream",
     "text": [
      "Recon:10 samples, loss=mse.:  18%|██         | 182/1001 [02:48<12:41,  1.07it/s]"
     ]
    },
    {
     "name": "stdout",
     "output_type": "stream",
     "text": [
      "EPOCH 181, LOSS=3.5096e-05, PDE RES=2.6181e-05 | LOSS u,v,p=(0.0098, 0.0029, 0.1264)\n"
     ]
    },
    {
     "name": "stderr",
     "output_type": "stream",
     "text": [
      "Recon:10 samples, loss=mse.:  18%|██         | 183/1001 [02:49<12:39,  1.08it/s]"
     ]
    },
    {
     "name": "stdout",
     "output_type": "stream",
     "text": [
      "EPOCH 182, LOSS=3.4777e-05, PDE RES=2.633e-05 | LOSS u,v,p=(0.0097, 0.0029, 0.1267)\n"
     ]
    },
    {
     "name": "stderr",
     "output_type": "stream",
     "text": [
      "Recon:10 samples, loss=mse.:  18%|██         | 184/1001 [02:49<12:36,  1.08it/s]"
     ]
    },
    {
     "name": "stdout",
     "output_type": "stream",
     "text": [
      "EPOCH 183, LOSS=3.4928e-05, PDE RES=2.6743e-05 | LOSS u,v,p=(0.0097, 0.0029, 0.1275)\n"
     ]
    },
    {
     "name": "stderr",
     "output_type": "stream",
     "text": [
      "Recon:10 samples, loss=mse.:  18%|██         | 185/1001 [02:50<12:34,  1.08it/s]"
     ]
    },
    {
     "name": "stdout",
     "output_type": "stream",
     "text": [
      "EPOCH 184, LOSS=3.4069e-05, PDE RES=2.6058e-05 | LOSS u,v,p=(0.0096, 0.0029, 0.1281)\n"
     ]
    },
    {
     "name": "stderr",
     "output_type": "stream",
     "text": [
      "Recon:10 samples, loss=mse.:  19%|██         | 186/1001 [02:51<12:32,  1.08it/s]"
     ]
    },
    {
     "name": "stdout",
     "output_type": "stream",
     "text": [
      "EPOCH 185, LOSS=3.3742e-05, PDE RES=2.5821e-05 | LOSS u,v,p=(0.0096, 0.0029, 0.1284)\n"
     ]
    },
    {
     "name": "stderr",
     "output_type": "stream",
     "text": [
      "Recon:10 samples, loss=mse.:  19%|██         | 187/1001 [02:52<09:40,  1.40it/s]"
     ]
    },
    {
     "name": "stdout",
     "output_type": "stream",
     "text": [
      "EPOCH 186, LOSS=3.3909e-05, PDE RES=2.5964e-05 | LOSS u,v,p=(0.0096, 0.0029, 0.1285)\n"
     ]
    },
    {
     "name": "stderr",
     "output_type": "stream",
     "text": [
      "Recon:10 samples, loss=mse.:  19%|██         | 188/1001 [02:52<10:30,  1.29it/s]"
     ]
    },
    {
     "name": "stdout",
     "output_type": "stream",
     "text": [
      "EPOCH 187, LOSS=3.3288e-05, PDE RES=2.5144e-05 | LOSS u,v,p=(0.0096, 0.0028, 0.1291)\n"
     ]
    },
    {
     "name": "stderr",
     "output_type": "stream",
     "text": [
      "Recon:10 samples, loss=mse.:  19%|██         | 189/1001 [02:53<11:05,  1.22it/s]"
     ]
    },
    {
     "name": "stdout",
     "output_type": "stream",
     "text": [
      "EPOCH 188, LOSS=3.3291e-05, PDE RES=2.5448e-05 | LOSS u,v,p=(0.0095, 0.0028, 0.1297)\n"
     ]
    },
    {
     "name": "stderr",
     "output_type": "stream",
     "text": [
      "Recon:10 samples, loss=mse.:  19%|██         | 190/1001 [02:54<11:28,  1.18it/s]"
     ]
    },
    {
     "name": "stdout",
     "output_type": "stream",
     "text": [
      "EPOCH 189, LOSS=3.3082e-05, PDE RES=2.5579e-05 | LOSS u,v,p=(0.0094, 0.0028, 0.13)\n"
     ]
    },
    {
     "name": "stderr",
     "output_type": "stream",
     "text": [
      "Recon:10 samples, loss=mse.:  19%|██         | 191/1001 [02:55<11:45,  1.15it/s]"
     ]
    },
    {
     "name": "stdout",
     "output_type": "stream",
     "text": [
      "EPOCH 190, LOSS=3.2682e-05, PDE RES=2.5171e-05 | LOSS u,v,p=(0.0093, 0.0028, 0.1304)\n"
     ]
    },
    {
     "name": "stderr",
     "output_type": "stream",
     "text": [
      "Recon:10 samples, loss=mse.:  19%|██         | 192/1001 [02:56<11:57,  1.13it/s]"
     ]
    },
    {
     "name": "stdout",
     "output_type": "stream",
     "text": [
      "EPOCH 191, LOSS=3.2481e-05, PDE RES=2.5083e-05 | LOSS u,v,p=(0.0093, 0.0028, 0.1307)\n"
     ]
    },
    {
     "name": "stderr",
     "output_type": "stream",
     "text": [
      "Recon:10 samples, loss=mse.:  19%|██         | 193/1001 [02:57<12:05,  1.11it/s]"
     ]
    },
    {
     "name": "stdout",
     "output_type": "stream",
     "text": [
      "EPOCH 192, LOSS=3.211e-05, PDE RES=2.4935e-05 | LOSS u,v,p=(0.0093, 0.0027, 0.1313)\n"
     ]
    },
    {
     "name": "stderr",
     "output_type": "stream",
     "text": [
      "Recon:10 samples, loss=mse.:  19%|██▏        | 194/1001 [02:58<12:10,  1.10it/s]"
     ]
    },
    {
     "name": "stdout",
     "output_type": "stream",
     "text": [
      "EPOCH 193, LOSS=3.1945e-05, PDE RES=2.487e-05 | LOSS u,v,p=(0.0093, 0.0027, 0.1319)\n"
     ]
    },
    {
     "name": "stderr",
     "output_type": "stream",
     "text": [
      "Recon:10 samples, loss=mse.:  19%|██▏        | 195/1001 [02:59<12:13,  1.10it/s]"
     ]
    },
    {
     "name": "stdout",
     "output_type": "stream",
     "text": [
      "EPOCH 194, LOSS=3.1842e-05, PDE RES=2.4906e-05 | LOSS u,v,p=(0.0093, 0.0027, 0.132)\n"
     ]
    },
    {
     "name": "stderr",
     "output_type": "stream",
     "text": [
      "Recon:10 samples, loss=mse.:  20%|██▏        | 196/1001 [03:00<12:14,  1.10it/s]"
     ]
    },
    {
     "name": "stdout",
     "output_type": "stream",
     "text": [
      "EPOCH 195, LOSS=3.1529e-05, PDE RES=2.4613e-05 | LOSS u,v,p=(0.0092, 0.0027, 0.1323)\n"
     ]
    },
    {
     "name": "stderr",
     "output_type": "stream",
     "text": [
      "Recon:10 samples, loss=mse.:  20%|██▏        | 198/1001 [03:01<09:17,  1.44it/s]"
     ]
    },
    {
     "name": "stdout",
     "output_type": "stream",
     "text": [
      "EPOCH 196, LOSS=3.1306e-05, PDE RES=2.4345e-05 | LOSS u,v,p=(0.0093, 0.0027, 0.1328)\n",
      "EPOCH 197, LOSS=3.1533e-05, PDE RES=2.4562e-05 | LOSS u,v,p=(0.0093, 0.0027, 0.1328)\n"
     ]
    },
    {
     "name": "stderr",
     "output_type": "stream",
     "text": [
      "Recon:10 samples, loss=mse.:  20%|██▏        | 199/1001 [03:02<10:10,  1.31it/s]"
     ]
    },
    {
     "name": "stdout",
     "output_type": "stream",
     "text": [
      "EPOCH 198, LOSS=3.1825e-05, PDE RES=2.4845e-05 | LOSS u,v,p=(0.0093, 0.0027, 0.1331)\n"
     ]
    },
    {
     "name": "stderr",
     "output_type": "stream",
     "text": [
      "Recon:10 samples, loss=mse.:  20%|██▏        | 200/1001 [03:03<10:48,  1.24it/s]"
     ]
    },
    {
     "name": "stdout",
     "output_type": "stream",
     "text": [
      "EPOCH 199, LOSS=3.1434e-05, PDE RES=2.4463e-05 | LOSS u,v,p=(0.0093, 0.0027, 0.1338)\n"
     ]
    },
    {
     "name": "stderr",
     "output_type": "stream",
     "text": [
      "Recon:10 samples, loss=mse.:  20%|██▏        | 201/1001 [03:04<11:14,  1.19it/s]"
     ]
    },
    {
     "name": "stdout",
     "output_type": "stream",
     "text": [
      "EPOCH 200, LOSS=3.0842e-05, PDE RES=2.3967e-05 | LOSS u,v,p=(0.0093, 0.0027, 0.135)\n"
     ]
    },
    {
     "name": "stderr",
     "output_type": "stream",
     "text": [
      "Recon:10 samples, loss=mse.:  20%|██▏        | 202/1001 [03:05<11:33,  1.15it/s]"
     ]
    },
    {
     "name": "stdout",
     "output_type": "stream",
     "text": [
      "EPOCH 201, LOSS=3.0698e-05, PDE RES=2.3873e-05 | LOSS u,v,p=(0.0093, 0.0027, 0.1357)\n"
     ]
    },
    {
     "name": "stderr",
     "output_type": "stream",
     "text": [
      "Recon:10 samples, loss=mse.:  20%|██▏        | 203/1001 [03:06<11:44,  1.13it/s]"
     ]
    },
    {
     "name": "stdout",
     "output_type": "stream",
     "text": [
      "EPOCH 202, LOSS=3.0272e-05, PDE RES=2.3363e-05 | LOSS u,v,p=(0.0093, 0.0027, 0.1363)\n"
     ]
    },
    {
     "name": "stderr",
     "output_type": "stream",
     "text": [
      "Recon:10 samples, loss=mse.:  20%|██▏        | 204/1001 [03:06<12:10,  1.09it/s]"
     ]
    },
    {
     "name": "stdout",
     "output_type": "stream",
     "text": [
      "EPOCH 203, LOSS=2.9909e-05, PDE RES=2.3039e-05 | LOSS u,v,p=(0.0093, 0.0027, 0.1375)\n",
      "Model Converged to Tolerance.\n",
      "EPOCH 204, LOSS=2.9909e-05, PDE RES=2.3039e-05 | LOSS u,v,p=(0.0093, 0.0027, 0.1375)\n"
     ]
    },
    {
     "name": "stderr",
     "output_type": "stream",
     "text": [
      "\n"
     ]
    }
   ],
   "source": [
    "recon_num_obs_list = [10, 20, 30, 40]\n",
    "for recon_num_obs in recon_num_obs_list:\n",
    "    # train_field_recon_PINN(recon_num_obs, epochs=401, lr=0.1, optimizer='lbfgs', loss_fn='logcosh', save=True)\n",
    "    if recon_num_obs == 10:\n",
    "        train_field_recon_PINN(recon_num_obs, tol=3e-5, epochs=1001, lr=0.1, optimizer='lbfgs', loss_fn='mse', save=True)"
   ]
  },
  {
   "cell_type": "code",
   "execution_count": 19,
   "id": "0feed1fc-7590-4d3d-bf92-f972fd0ad3b7",
   "metadata": {},
   "outputs": [
    {
     "name": "stdout",
     "output_type": "stream",
     "text": [
      "\n",
      "MSE MODELS:\n",
      "REL L2 ERRS: 0.194 0.121 0.489\n",
      "REL L2 ERRS: 0.189 0.126 0.573\n",
      "REL L2 ERRS: 0.158 0.125 0.552\n",
      "REL L2 ERRS: 0.15 0.109 0.497\n"
     ]
    }
   ],
   "source": [
    "MSE_MODELS = [f\"recon-models/recon-fields-{x}-pts-mse-tol.model\" for x in recon_num_obs_list]\n",
    "MSE_MODELS_RECON = []\n",
    "print(\"\\nMSE MODELS:\")\n",
    "for mse_model in MSE_MODELS:\n",
    "    recon_model = ReconPINN(in_dim=2, out_dim=3, data=(pos_train, sol_train), recon_num_obs=recon_num_obs, my_lr=0.1, depth=9, width=20)\n",
    "    recon_model.to(device)\n",
    "    recon_model.load_state_dict(torch.load(mse_model))\n",
    "    MSE_MODELS_RECON.append(recon_field(recon_model))"
   ]
  },
  {
   "cell_type": "code",
   "execution_count": 20,
   "id": "9e231cbd-63b6-4a0b-bf3f-25a17d62d938",
   "metadata": {},
   "outputs": [
    {
     "ename": "NameError",
     "evalue": "name 'losses' is not defined",
     "output_type": "error",
     "traceback": [
      "\u001b[0;31m---------------------------------------------------------------------------\u001b[0m",
      "\u001b[0;31mNameError\u001b[0m                                 Traceback (most recent call last)",
      "Cell \u001b[0;32mIn[20], line 10\u001b[0m\n\u001b[1;32m      5\u001b[0m     \u001b[38;5;28;01mreturn\u001b[39;00m x_avg\n\u001b[1;32m      7\u001b[0m \u001b[38;5;66;03m# torch.save(losses, 'forward-train-losses.tensor')\u001b[39;00m\n\u001b[1;32m      8\u001b[0m \u001b[38;5;66;03m# plt.plot(losses[3:5000,0], c='salmon', alpha=0.3)\u001b[39;00m\n\u001b[1;32m      9\u001b[0m \u001b[38;5;66;03m# plt.plot(losses[3:5000,1], c='navy', alpha=0.3)\u001b[39;00m\n\u001b[0;32m---> 10\u001b[0m plt\u001b[38;5;241m.\u001b[39mplot(moving_window_avg(\u001b[43mlosses\u001b[49m[:,\u001b[38;5;241m0\u001b[39m]\u001b[38;5;241m.\u001b[39mflatten(), window\u001b[38;5;241m=\u001b[39m\u001b[38;5;241m3\u001b[39m), c\u001b[38;5;241m=\u001b[39m\u001b[38;5;124m'\u001b[39m\u001b[38;5;124msalmon\u001b[39m\u001b[38;5;124m'\u001b[39m, linewidth\u001b[38;5;241m=\u001b[39m\u001b[38;5;241m4\u001b[39m, label\u001b[38;5;241m=\u001b[39m\u001b[38;5;124m'\u001b[39m\u001b[38;5;124mPDE Loss\u001b[39m\u001b[38;5;124m'\u001b[39m)\n\u001b[1;32m     11\u001b[0m plt\u001b[38;5;241m.\u001b[39mplot(moving_window_avg(losses[:,\u001b[38;5;241m1\u001b[39m]\u001b[38;5;241m.\u001b[39mflatten(), window\u001b[38;5;241m=\u001b[39m\u001b[38;5;241m3\u001b[39m), c\u001b[38;5;241m=\u001b[39m\u001b[38;5;124m'\u001b[39m\u001b[38;5;124mnavy\u001b[39m\u001b[38;5;124m'\u001b[39m, linewidth\u001b[38;5;241m=\u001b[39m\u001b[38;5;241m4\u001b[39m, label\u001b[38;5;241m=\u001b[39m\u001b[38;5;124m'\u001b[39m\u001b[38;5;124mRecon Loss\u001b[39m\u001b[38;5;124m'\u001b[39m)\n\u001b[1;32m     12\u001b[0m plt\u001b[38;5;241m.\u001b[39mplot(moving_window_avg(losses[:,\u001b[38;5;241m2\u001b[39m]\u001b[38;5;241m.\u001b[39mflatten(), window\u001b[38;5;241m=\u001b[39m\u001b[38;5;241m3\u001b[39m), linewidth\u001b[38;5;241m=\u001b[39m\u001b[38;5;241m4\u001b[39m, label\u001b[38;5;241m=\u001b[39m\u001b[38;5;124m'\u001b[39m\u001b[38;5;124m$u$ Loss\u001b[39m\u001b[38;5;124m'\u001b[39m)\n",
      "\u001b[0;31mNameError\u001b[0m: name 'losses' is not defined"
     ]
    }
   ],
   "source": [
    "def moving_window_avg(x, window=200):\n",
    "    x_avg = np.zeros(len(x) - window)\n",
    "    for i in range(len(x) - window):\n",
    "        x_avg[i] = np.mean(x[i:i+window])\n",
    "    return x_avg\n",
    "\n",
    "# torch.save(losses, 'forward-train-losses.tensor')\n",
    "# plt.plot(losses[3:5000,0], c='salmon', alpha=0.3)\n",
    "# plt.plot(losses[3:5000,1], c='navy', alpha=0.3)\n",
    "plt.plot(moving_window_avg(losses[:,0].flatten(), window=3), c='salmon', linewidth=4, label='PDE Loss')\n",
    "plt.plot(moving_window_avg(losses[:,1].flatten(), window=3), c='navy', linewidth=4, label='Recon Loss')\n",
    "plt.plot(moving_window_avg(losses[:,2].flatten(), window=3), linewidth=4, label='$u$ Loss')\n",
    "plt.plot(moving_window_avg(losses[:,3].flatten(), window=3), linewidth=4, label='$v$ Loss')\n",
    "# plt.plot(losses[:,0]+losses[:,1], label='Total Loss', alpha=0.6)\n",
    "# plt.plot(moving_window_avg(losses[3:5000,2]), linewidth=4, label='$u$ Loss')\n",
    "# plt.plot(moving_window_avg(losses[3:5000,3]), linewidth=4, label='$v$ Loss')\n",
    "# plt.plot(moving_window_avg(losses[3:5000,4]), linewidth=4, label='$p$ Loss')\n",
    "plt.yscale(\"log\")\n",
    "plt.legend()\n",
    "plt.xlabel(\"Epoch\")\n",
    "# plt.savefig(\"forward-training-losses.png\")"
   ]
  },
  {
   "cell_type": "code",
   "execution_count": 57,
   "id": "f54bfa1b-ce50-4666-9c9b-7e97766868ce",
   "metadata": {},
   "outputs": [
    {
     "name": "stdout",
     "output_type": "stream",
     "text": [
      "0.20416632294654846 0.11836668848991394 0.5313864946365356\n"
     ]
    },
    {
     "data": {
      "image/png": "[encoded data removed]",
      "text/plain": [
       "<Figure size 1200x500 with 6 Axes>"
      ]
     },
     "metadata": {},
     "output_type": "display_data"
    }
   ],
   "source": [
    "with torch.no_grad():\n",
    "    torch.cuda.empty_cache()\n",
    "    sol_hat = recon_model(x_train, y_train)\n",
    "    u_err = mse_loss(sol_hat[:,0], sol_train[:,0]) / torch.mean(torch.square(sol_train[:,0]))\n",
    "    v_err = mse_loss(sol_hat[:,1], sol_train[:,1]).item() / torch.mean(torch.square(sol_train[:,1]))\n",
    "    p_err = mse_loss(sol_hat[:,2] - sol_hat[0,2], sol_train[:,2]).item() / torch.mean(torch.square(sol_train[:,2]))\n",
    "    print(u_err.item(), v_err.item(), p_err.item())\n",
    "\n",
    "\n",
    "    NUM_PTS = 3000\n",
    "    x_test, y_test = torch.linspace(0,1,NUM_PTS).to(device), torch.linspace(0,1,NUM_PTS).to(device)\n",
    "    u_hat, v_hat, p_hat = eval_model_field(recon_model, x_test, y_test)\n",
    "    plot_fields(u_hat, v_hat, p_hat)"
   ]
  },
  {
   "cell_type": "code",
   "execution_count": 21,
   "id": "096c3600-de7b-427a-954c-798c7d0e7d06",
   "metadata": {},
   "outputs": [],
   "source": []
  },
  {
   "cell_type": "markdown",
   "id": "9b6227f7-73b8-4324-a310-8bf45efd1306",
   "metadata": {},
   "source": [
    "# Misc Testing"
   ]
  },
  {
   "cell_type": "code",
   "execution_count": null,
   "id": "975e2e78-cedb-4eeb-a0e6-abb6a0723109",
   "metadata": {},
   "outputs": [],
   "source": [
    "def compute_partials(Y, dr):\n",
    "    dYdx = (Y - np.roll(Y, 1, 1)) / dr\n",
    "    dYdy = (Y - np.roll(Y, 1, 0)) / dr\n",
    "\n",
    "    dYdx2 = (np.roll(Y,-1,1) - 2*Y + np.roll(Y,1,1)) / dr**2\n",
    "    dYdy2 = (np.roll(Y,-1,0) - 2*Y + np.roll(Y,1,0)) / dr**2\n",
    "    return dYdx, dYdy, dYdx2, dYdy2"
   ]
  },
  {
   "cell_type": "code",
   "execution_count": null,
   "id": "9f587f3b-044a-4f35-9595-7d19c92b68fd",
   "metadata": {},
   "outputs": [],
   "source": [
    "# TESTING PARTIAL DER IMPLEMENTATION\n",
    "mse = lambda x,y: torch.mean(torch.square(x[1:-1,1:-1]-y[1:-1,1:-1])).item()\n",
    "x = torch.linspace(-1,1,300)\n",
    "y = torch.linspace(-1,1,300)\n",
    "xg, yg = torch.meshgrid(x,y,indexing='xy')\n",
    "f = xg**2 + torch.sin(yg)\n",
    "true_dfdx, true_dfdy = 2*xg, torch.cos(yg)\n",
    "true_dfdx2, true_dfdy2 = torch.ones_like(xg)*2, -torch.sin(yg)\n",
    "dfdx, dfdy, dfdx2, dfdy2 = compute_partials(f.numpy(), x[1]-x[0])\n",
    "\n",
    "fig = plt.figure(figsize=(4,4))\n",
    "plt.imshow(f, vmin=-2, vmax=2, origin='lower', cmap='PuBu')\n",
    "plt.colorbar()\n",
    "\n",
    "fig, axs = plt.subplots(2,4, figsize=(12,8))\n",
    "axs[0,0].imshow(true_dfdx, vmin=-3, vmax=3, cmap='PuBu', origin='lower')\n",
    "axs[0,1].imshow(true_dfdy, vmin=-1, vmax=1, cmap='PuBu', origin='lower')\n",
    "axs[0,2].imshow(true_dfdx2, vmin=0, vmax=3, cmap='PuBu', origin='lower')\n",
    "axs[0,3].imshow(true_dfdy2, vmin=-1, vmax=1, cmap='PuBu', origin='lower')\n",
    "\n",
    "axs[1,0].imshow(dfdx, vmin=-3, vmax=3, cmap='PuBu', origin='lower')\n",
    "axs[1,1].imshow(dfdy, vmin=-1, vmax=1, cmap='PuBu', origin='lower')\n",
    "axs[1,2].imshow(dfdx2, vmin=0, vmax=3, cmap='PuBu', origin='lower')\n",
    "axs[1,3].imshow(dfdy2, vmin=-1, vmax=1, cmap='PuBu', origin='lower')\n",
    "\n",
    "print(\"ERRORS:\", mse(dfdx, true_dfdx), mse(dfdy, true_dfdy), mse(dfdx2, true_dfdx2), mse(dfdy2, true_dfdy2))"
   ]
  },
  {
   "cell_type": "code",
   "execution_count": null,
   "id": "d4baefa8-2379-4510-9f93-fec65a39098e",
   "metadata": {},
   "outputs": [],
   "source": [
    "dudx_c, dudy_c, dudx2_c, dudy2_c = compute_partials(u_hat, x_test[1].item()-x_test[0].item())\n",
    "dvdx_c, dvdy_c, dvdx2_c, dvdy2_c = compute_partials(v_hat, x_test[1].item()-x_test[0].item())\n",
    "dpdx_c, dpdy_c, _, _ = compute_partials(p_hat, x_test[1].item()-x_test[0].item())\n",
    "pde_r_x = u_hat*dudx_c + v_hat*dudy_c + dpdx_c - (dudx2_c + dudy2_c)/100\n",
    "pde_r_y = u_hat*dvdx_c + v_hat*dvdy_c + dpdy_c - (dvdx2_c+ dvdy2_c)/100\n",
    "pde_r_incompress = dudx_c + dvdy_c\n",
    "plt.figure()\n",
    "plt.imshow(pde_r_y, vmin=-1, vmax=1, origin='lower', cmap='coolwarm')\n",
    "print(np.max(pde_r_x[2:-2,2:-2]), np.min(pde_r_x[2:-2, 2:-2]), np.median(np.abs(pde_r_x)))\n",
    "print(np.mean(np.square(pde_r_y[1:-1,1:-1])))\n",
    "plt.colorbar()\n",
    "fig, axs = plt.subplots(2,3, figsize=(6, 5))\n",
    "\n",
    "V=2\n",
    "dx_im = axs[0,0].imshow(dudx_c, vmin=-V, vmax=V, origin='lower', cmap='coolwarm')\n",
    "dy_im = axs[0,1].imshow(dudy_c, vmin=-V, vmax=V, origin='lower', cmap='coolwarm')\n",
    "dpx_im = axs[0,2].imshow(dpdx_c, vmin=-V, vmax=V, origin='lower', cmap='coolwarm')\n",
    "dx2_im = axs[1,0].imshow(dudx2_c, vmin=-V, vmax=V, origin='lower', cmap='coolwarm')\n",
    "dy2_im = axs[1,1].imshow(dudy2_c, vmin=-V, vmax=V, origin='lower', cmap='coolwarm')\n",
    "dpy_im = axs[1,2].imshow(dpdy_c, vmin=-V, vmax=V, origin='lower', cmap='coolwarm')\n",
    "\n",
    "plt.colorbar(dx_im, ax=axs[0,0], fraction=0.045, pad=0.04)\n",
    "plt.colorbar(dy_im, ax=axs[0,1], fraction=0.045, pad=0.04)\n",
    "plt.colorbar(dpx_im, ax=axs[0,2], fraction=0.045, pad=0.04)\n",
    "plt.colorbar(dx2_im, ax=axs[1,0], fraction=0.045, pad=0.04)\n",
    "plt.colorbar(dy2_im, ax=axs[1,1], fraction=0.045, pad=0.04)\n",
    "plt.colorbar(dpy_im, ax=axs[1,2], fraction=0.045, pad=0.04)\n",
    "\n",
    "plt.tight_layout()"
   ]
  },
  {
   "cell_type": "code",
   "execution_count": null,
   "id": "f9a5061a-918a-4459-86f4-1600b4ca694a",
   "metadata": {},
   "outputs": [],
   "source": [
    "dudx_m = model.dudx.reshape(model.der_grid_res-2, model.der_grid_res-2).cpu().detach().numpy()\n",
    "dudy_m = model.dudy.reshape(model.der_grid_res-2, model.der_grid_res-2).cpu().detach().numpy()\n",
    "dudx2_m = model.dudx2.reshape(model.der_grid_res-2, model.der_grid_res-2).cpu().detach().numpy()\n",
    "dudy2_m = model.dudy2.reshape(model.der_grid_res-2, model.der_grid_res-2).cpu().detach().numpy()\n",
    "\n",
    "fig, axs = plt.subplots(2,2, figsize=(6, 5))\n",
    "V=2\n",
    "dx_im = axs[0,0].imshow(dudx_m, vmin=-V, vmax=V, origin='lower', cmap='coolwarm')\n",
    "dy_im = axs[0,1].imshow(dudy_m, vmin=-V, vmax=V, origin='lower', cmap='coolwarm')\n",
    "dx2_im = axs[1,0].imshow(dudx2_m, vmin=-V, vmax=V, origin='lower', cmap='coolwarm')\n",
    "dy2_im = axs[1,1].imshow(dudy2_m, vmin=-V, vmax=V, origin='lower', cmap='coolwarm')\n",
    "plt.colorbar(dx_im, ax=axs[0,0], fraction=0.045, pad=0.04)\n",
    "plt.colorbar(dy_im, ax=axs[0,1], fraction=0.045, pad=0.04)\n",
    "plt.colorbar(dx2_im, ax=axs[1,0], fraction=0.045, pad=0.04)\n",
    "plt.colorbar(dy2_im, ax=axs[1,1], fraction=0.045, pad=0.04)\n",
    "\n",
    "plt.tight_layout()"
   ]
  },
  {
   "cell_type": "code",
   "execution_count": null,
   "id": "43798d92-7387-44da-8085-1b9545986894",
   "metadata": {},
   "outputs": [],
   "source": []
  }
 ],
 "metadata": {
  "kernelspec": {
   "display_name": "Python 3 (ipykernel)",
   "language": "python",
   "name": "python3"
  },
  "language_info": {
   "codemirror_mode": {
    "name": "ipython",
    "version": 3
   },
   "file_extension": ".py",
   "mimetype": "text/x-python",
   "name": "python",
   "nbconvert_exporter": "python",
   "pygments_lexer": "ipython3",
   "version": "3.9.16"
  }
 },
 "nbformat": 4,
 "nbformat_minor": 5
}
